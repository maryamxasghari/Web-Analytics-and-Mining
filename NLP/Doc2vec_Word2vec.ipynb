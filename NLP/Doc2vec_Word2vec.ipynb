{
  "nbformat": 4,
  "nbformat_minor": 0,
  "metadata": {
    "kernelspec": {
      "display_name": "Python 3",
      "language": "python",
      "name": "python3"
    },
    "language_info": {
      "codemirror_mode": {
        "name": "ipython",
        "version": 3
      },
      "file_extension": ".py",
      "mimetype": "text/x-python",
      "name": "python",
      "nbconvert_exporter": "python",
      "pygments_lexer": "ipython3",
      "version": "3.7.6"
    },
    "colab": {
      "name": "Doc2vec_Word2vec.ipynb",
      "provenance": []
    }
  },
  "cells": [
    {
      "cell_type": "code",
      "metadata": {
        "id": "DKYz0mVpN167"
      },
      "source": [
        "# Dependencies\n",
        "\n",
        "import requests  \n",
        "#The requests module allows us to send HTTP requests using Python\n",
        "\n",
        "from bs4 import BeautifulSoup  \n",
        "#This line is used to import the Beautiful Soup library into the application.\n",
        "\n",
        "# import Pandas Library\n",
        "import pandas as pd  \n",
        "\n",
        "# import RE Library\n",
        "import re \n",
        "#Regular expression operations Library the functions in this module let us check \n",
        "#if a particular string matches a given regular expression\n",
        "\n",
        "# import matplotlib Library\n",
        "import matplotlib.pyplot as plt \n",
        "\n",
        "#Using Splinter to automate browser actions\n",
        "from splinter import Browser  "
      ],
      "execution_count": null,
      "outputs": []
    },
    {
      "cell_type": "code",
      "metadata": {
        "id": "mgGQe56bN17G"
      },
      "source": [
        "\n",
        "import numpy as np\n",
        "\n",
        "import seaborn as sns \n",
        "\n",
        "\n",
        "import string\n",
        "import unicodedata\n",
        "\n",
        "import nltk\n",
        "from nltk.corpus import stopwords\n",
        "from nltk import word_tokenize\n",
        "from nltk import word_tokenize, sent_tokenize\n",
        "from nltk.corpus import stopwords\n",
        "from nltk.stem import LancasterStemmer, WordNetLemmatizer\n",
        "\n",
        "import os\n",
        "\n",
        "from IPython.core.interactiveshell import InteractiveShell\n",
        "InteractiveShell.ast_node_interactivity = \"all\""
      ],
      "execution_count": null,
      "outputs": []
    },
    {
      "cell_type": "code",
      "metadata": {
        "id": "cuEeImy5N17H",
        "outputId": "e6d158fe-4853-4c83-ccbe-8748ff6fa2a0"
      },
      "source": [
        "#choosing chrom driver \n",
        "!which chromedriver"
      ],
      "execution_count": null,
      "outputs": [
        {
          "output_type": "stream",
          "text": [
            "/usr/local/bin/chromedriver\n"
          ],
          "name": "stdout"
        }
      ]
    },
    {
      "cell_type": "code",
      "metadata": {
        "id": "mbtrp2EEN17I"
      },
      "source": [
        "executable_path = {'executable_path': '/usr/local/bin/chromedriver'}\n",
        "browser = Browser('chrome', **executable_path, headless=False)"
      ],
      "execution_count": null,
      "outputs": []
    },
    {
      "cell_type": "code",
      "metadata": {
        "id": "UpB-gGVsN17J"
      },
      "source": [
        "query = 'COVID-19'.lower()  \n",
        "url = f'https://www.bing.com/news/search?q={query}&form=QBNH'"
      ],
      "execution_count": null,
      "outputs": []
    },
    {
      "cell_type": "code",
      "metadata": {
        "id": "eE9Ukpn-N17J"
      },
      "source": [
        "# visiting the Url in the our browser \n",
        "browser.visit(url)"
      ],
      "execution_count": null,
      "outputs": []
    },
    {
      "cell_type": "code",
      "metadata": {
        "id": "r-LkI__FN17J"
      },
      "source": [
        "html = browser.html"
      ],
      "execution_count": null,
      "outputs": []
    },
    {
      "cell_type": "code",
      "metadata": {
        "id": "dExwnJuvN17K",
        "outputId": "27f97309-1828-4a29-d3a4-82b558ce61b9"
      },
      "source": [
        "#Creat a Beautiful Soup object and the object returned is assigned to the soup variable.\n",
        "soup = BeautifulSoup(html, 'html.parser')\n",
        "\n",
        "type(soup)"
      ],
      "execution_count": null,
      "outputs": [
        {
          "output_type": "execute_result",
          "data": {
            "text/plain": [
              "bs4.BeautifulSoup"
            ]
          },
          "metadata": {
            "tags": []
          },
          "execution_count": 37
        }
      ]
    },
    {
      "cell_type": "code",
      "metadata": {
        "id": "KyU9otvON17K",
        "outputId": "078ffd3d-6c6e-4941-bf6d-50d17f4fe0fb"
      },
      "source": [
        "news = soup.find_all('div', class_='t_s', limit = 50)\n",
        "print(f'Number of scraped news: {len(news)}') #check out if we have 50 "
      ],
      "execution_count": null,
      "outputs": [
        {
          "output_type": "stream",
          "text": [
            "Number of scraped news: 50\n"
          ],
          "name": "stdout"
        }
      ]
    },
    {
      "cell_type": "code",
      "metadata": {
        "id": "jOXm9OI7N17L"
      },
      "source": [
        "titles = [n.find('a',class_ = 'title').text for  n  in news]   #.text :Extract the text of the tittle\n",
        "abstracts = [n.find('div', class_='snippet').text for  n  in news]"
      ],
      "execution_count": null,
      "outputs": []
    },
    {
      "cell_type": "code",
      "metadata": {
        "id": "tkg7tUNnN17L",
        "outputId": "1cb0b217-2e74-4301-8c4c-1b7e0d32b701"
      },
      "source": [
        "news_df = pd.DataFrame({'title': titles , 'abstract': abstracts })\n",
        "news_df.to_csv('Top_50_COVID19_news.csv', index = False)\n",
        "news_df.head()"
      ],
      "execution_count": null,
      "outputs": [
        {
          "output_type": "execute_result",
          "data": {
            "text/html": [
              "<div>\n",
              "<style scoped>\n",
              "    .dataframe tbody tr th:only-of-type {\n",
              "        vertical-align: middle;\n",
              "    }\n",
              "\n",
              "    .dataframe tbody tr th {\n",
              "        vertical-align: top;\n",
              "    }\n",
              "\n",
              "    .dataframe thead th {\n",
              "        text-align: right;\n",
              "    }\n",
              "</style>\n",
              "<table border=\"1\" class=\"dataframe\">\n",
              "  <thead>\n",
              "    <tr style=\"text-align: right;\">\n",
              "      <th></th>\n",
              "      <th>title</th>\n",
              "      <th>abstract</th>\n",
              "    </tr>\n",
              "  </thead>\n",
              "  <tbody>\n",
              "    <tr>\n",
              "      <th>0</th>\n",
              "      <td>'My lifeline': Doctor's pilot program bridges ...</td>\n",
              "      <td>Dr. Ben Moor has launched a pilot program at B...</td>\n",
              "    </tr>\n",
              "    <tr>\n",
              "      <th>1</th>\n",
              "      <td>The Five Fallacies That Hamstrung Our Response...</td>\n",
              "      <td>Five key fallacies and pitfalls have affected ...</td>\n",
              "    </tr>\n",
              "    <tr>\n",
              "      <th>2</th>\n",
              "      <td>Covid-19 Live Updates: Single Pfizer Dose Stro...</td>\n",
              "      <td>Two new pieces of research support the case fo...</td>\n",
              "    </tr>\n",
              "    <tr>\n",
              "      <th>3</th>\n",
              "      <td>Johnson &amp; Johnson: FDA advisers to consider th...</td>\n",
              "      <td>US FDA vaccine advisers are scheduled to meet ...</td>\n",
              "    </tr>\n",
              "    <tr>\n",
              "      <th>4</th>\n",
              "      <td>Auto-antibodies against type I IFNs are associ...</td>\n",
              "      <td>(auto-Abs) against type I interferons (IFNs) w...</td>\n",
              "    </tr>\n",
              "  </tbody>\n",
              "</table>\n",
              "</div>"
            ],
            "text/plain": [
              "                                               title  \\\n",
              "0  'My lifeline': Doctor's pilot program bridges ...   \n",
              "1  The Five Fallacies That Hamstrung Our Response...   \n",
              "2  Covid-19 Live Updates: Single Pfizer Dose Stro...   \n",
              "3  Johnson & Johnson: FDA advisers to consider th...   \n",
              "4  Auto-antibodies against type I IFNs are associ...   \n",
              "\n",
              "                                            abstract  \n",
              "0  Dr. Ben Moor has launched a pilot program at B...  \n",
              "1  Five key fallacies and pitfalls have affected ...  \n",
              "2  Two new pieces of research support the case fo...  \n",
              "3  US FDA vaccine advisers are scheduled to meet ...  \n",
              "4  (auto-Abs) against type I interferons (IFNs) w...  "
            ]
          },
          "metadata": {
            "tags": []
          },
          "execution_count": 41
        }
      ]
    },
    {
      "cell_type": "code",
      "metadata": {
        "id": "QBJtL4agN17L"
      },
      "source": [
        ""
      ],
      "execution_count": null,
      "outputs": []
    },
    {
      "cell_type": "code",
      "metadata": {
        "id": "AOvcOuPeN17M",
        "outputId": "55214577-cdd9-4eeb-d6a9-a3e374e00b6a"
      },
      "source": [
        "from nltk.corpus import stopwords \n",
        "import unidecode\n",
        "\n",
        "stop_words = set(stopwords.words('english') + stopwords.words('spanish'))\n",
        "\n",
        "lemmer = WordNetLemmatizer()\n",
        "\n",
        "def preprocess(x):\n",
        "    # Lower case\n",
        "    x = x.lower()\n",
        "    \n",
        "    # Remove punctuation\n",
        "    x = re.sub(r'[^\\w\\s]', '', x)\n",
        "    \n",
        "    # Remove non-unicode\n",
        "    x = unidecode.unidecode(x)\n",
        "    \n",
        "    # Remove numbers\n",
        "    x = re.sub(r'\\d+', '', x)\n",
        "    \n",
        "    # Remove stopwords and lemmatize\n",
        "    x = [lemmer.lemmatize(w) for w in x.split() if w not in stop_words]\n",
        "    return ' '.join(x) \n",
        "\n",
        "%time news_df['abs_clean'] = news_df['abstract'].apply(preprocess)\n",
        "news_df.head()"
      ],
      "execution_count": null,
      "outputs": [
        {
          "output_type": "stream",
          "text": [
            "CPU times: user 1.23 s, sys: 40 ms, total: 1.27 s\n",
            "Wall time: 1.28 s\n"
          ],
          "name": "stdout"
        },
        {
          "output_type": "execute_result",
          "data": {
            "text/html": [
              "<div>\n",
              "<style scoped>\n",
              "    .dataframe tbody tr th:only-of-type {\n",
              "        vertical-align: middle;\n",
              "    }\n",
              "\n",
              "    .dataframe tbody tr th {\n",
              "        vertical-align: top;\n",
              "    }\n",
              "\n",
              "    .dataframe thead th {\n",
              "        text-align: right;\n",
              "    }\n",
              "</style>\n",
              "<table border=\"1\" class=\"dataframe\">\n",
              "  <thead>\n",
              "    <tr style=\"text-align: right;\">\n",
              "      <th></th>\n",
              "      <th>title</th>\n",
              "      <th>abstract</th>\n",
              "      <th>abs_clean</th>\n",
              "    </tr>\n",
              "  </thead>\n",
              "  <tbody>\n",
              "    <tr>\n",
              "      <th>0</th>\n",
              "      <td>'My lifeline': Doctor's pilot program bridges ...</td>\n",
              "      <td>Dr. Ben Moor has launched a pilot program at B...</td>\n",
              "      <td>dr ben moor launched pilot program beth israel...</td>\n",
              "    </tr>\n",
              "    <tr>\n",
              "      <th>1</th>\n",
              "      <td>The Five Fallacies That Hamstrung Our Response...</td>\n",
              "      <td>Five key fallacies and pitfalls have affected ...</td>\n",
              "      <td>five key fallacy pitfall affected publichealth...</td>\n",
              "    </tr>\n",
              "    <tr>\n",
              "      <th>2</th>\n",
              "      <td>Covid-19 Live Updates: Single Pfizer Dose Stro...</td>\n",
              "      <td>Two new pieces of research support the case fo...</td>\n",
              "      <td>two new piece research support case giving one...</td>\n",
              "    </tr>\n",
              "    <tr>\n",
              "      <th>3</th>\n",
              "      <td>Johnson &amp; Johnson: FDA advisers to consider th...</td>\n",
              "      <td>US FDA vaccine advisers are scheduled to meet ...</td>\n",
              "      <td>u fda vaccine adviser scheduled meet friday di...</td>\n",
              "    </tr>\n",
              "    <tr>\n",
              "      <th>4</th>\n",
              "      <td>Auto-antibodies against type I IFNs are associ...</td>\n",
              "      <td>(auto-Abs) against type I interferons (IFNs) w...</td>\n",
              "      <td>autoabs type interferon ifns distinctly found ...</td>\n",
              "    </tr>\n",
              "  </tbody>\n",
              "</table>\n",
              "</div>"
            ],
            "text/plain": [
              "                                               title  \\\n",
              "0  'My lifeline': Doctor's pilot program bridges ...   \n",
              "1  The Five Fallacies That Hamstrung Our Response...   \n",
              "2  Covid-19 Live Updates: Single Pfizer Dose Stro...   \n",
              "3  Johnson & Johnson: FDA advisers to consider th...   \n",
              "4  Auto-antibodies against type I IFNs are associ...   \n",
              "\n",
              "                                            abstract  \\\n",
              "0  Dr. Ben Moor has launched a pilot program at B...   \n",
              "1  Five key fallacies and pitfalls have affected ...   \n",
              "2  Two new pieces of research support the case fo...   \n",
              "3  US FDA vaccine advisers are scheduled to meet ...   \n",
              "4  (auto-Abs) against type I interferons (IFNs) w...   \n",
              "\n",
              "                                           abs_clean  \n",
              "0  dr ben moor launched pilot program beth israel...  \n",
              "1  five key fallacy pitfall affected publichealth...  \n",
              "2  two new piece research support case giving one...  \n",
              "3  u fda vaccine adviser scheduled meet friday di...  \n",
              "4  autoabs type interferon ifns distinctly found ...  "
            ]
          },
          "metadata": {
            "tags": []
          },
          "execution_count": 45
        }
      ]
    },
    {
      "cell_type": "code",
      "metadata": {
        "id": "G_yskOTKN17M",
        "outputId": "839e1c4f-cfa0-469e-8236-6e8c895a7394"
      },
      "source": [
        "from sklearn.feature_extraction.text import TfidfVectorizer, CountVectorizer\n",
        "\n",
        "no_features = 1000\n",
        "\n",
        "tf_vectorizer = CountVectorizer(min_df=.05, max_df=.5, max_features=no_features, ngram_range=[1,3])\n",
        "%time dtm_tf = tf_vectorizer.fit_transform(news_df['abs_clean'])\n",
        "print(dtm_tf.shape)"
      ],
      "execution_count": null,
      "outputs": [
        {
          "output_type": "stream",
          "text": [
            "CPU times: user 3.52 ms, sys: 845 µs, total: 4.37 ms\n",
            "Wall time: 3.71 ms\n",
            "(50, 47)\n"
          ],
          "name": "stdout"
        }
      ]
    },
    {
      "cell_type": "code",
      "metadata": {
        "id": "bevFcT--N17M",
        "outputId": "febb1245-ac82-430c-a079-eaadd4aa6127"
      },
      "source": [
        "df = pd.DataFrame(dtm_tf.toarray(), columns=tf_vectorizer.get_feature_names())\n",
        "df.head()"
      ],
      "execution_count": null,
      "outputs": [
        {
          "output_type": "execute_result",
          "data": {
            "text/html": [
              "<div>\n",
              "<style scoped>\n",
              "    .dataframe tbody tr th:only-of-type {\n",
              "        vertical-align: middle;\n",
              "    }\n",
              "\n",
              "    .dataframe tbody tr th {\n",
              "        vertical-align: top;\n",
              "    }\n",
              "\n",
              "    .dataframe thead th {\n",
              "        text-align: right;\n",
              "    }\n",
              "</style>\n",
              "<table border=\"1\" class=\"dataframe\">\n",
              "  <thead>\n",
              "    <tr style=\"text-align: right;\">\n",
              "      <th></th>\n",
              "      <th>administration</th>\n",
              "      <th>adviser</th>\n",
              "      <th>american</th>\n",
              "      <th>biden</th>\n",
              "      <th>bidens</th>\n",
              "      <th>bidens trillion</th>\n",
              "      <th>case</th>\n",
              "      <th>coronavirus</th>\n",
              "      <th>country</th>\n",
              "      <th>covid</th>\n",
              "      <th>...</th>\n",
              "      <th>relief</th>\n",
              "      <th>rollout</th>\n",
              "      <th>said</th>\n",
              "      <th>say</th>\n",
              "      <th>shot</th>\n",
              "      <th>state</th>\n",
              "      <th>time</th>\n",
              "      <th>trillion</th>\n",
              "      <th>vaccine</th>\n",
              "      <th>vaccine rollout</th>\n",
              "    </tr>\n",
              "  </thead>\n",
              "  <tbody>\n",
              "    <tr>\n",
              "      <th>0</th>\n",
              "      <td>0</td>\n",
              "      <td>0</td>\n",
              "      <td>0</td>\n",
              "      <td>0</td>\n",
              "      <td>0</td>\n",
              "      <td>0</td>\n",
              "      <td>0</td>\n",
              "      <td>0</td>\n",
              "      <td>0</td>\n",
              "      <td>0</td>\n",
              "      <td>...</td>\n",
              "      <td>0</td>\n",
              "      <td>0</td>\n",
              "      <td>0</td>\n",
              "      <td>0</td>\n",
              "      <td>0</td>\n",
              "      <td>0</td>\n",
              "      <td>0</td>\n",
              "      <td>0</td>\n",
              "      <td>0</td>\n",
              "      <td>0</td>\n",
              "    </tr>\n",
              "    <tr>\n",
              "      <th>1</th>\n",
              "      <td>0</td>\n",
              "      <td>0</td>\n",
              "      <td>0</td>\n",
              "      <td>0</td>\n",
              "      <td>0</td>\n",
              "      <td>0</td>\n",
              "      <td>0</td>\n",
              "      <td>0</td>\n",
              "      <td>0</td>\n",
              "      <td>0</td>\n",
              "      <td>...</td>\n",
              "      <td>0</td>\n",
              "      <td>0</td>\n",
              "      <td>0</td>\n",
              "      <td>0</td>\n",
              "      <td>0</td>\n",
              "      <td>0</td>\n",
              "      <td>0</td>\n",
              "      <td>0</td>\n",
              "      <td>0</td>\n",
              "      <td>0</td>\n",
              "    </tr>\n",
              "    <tr>\n",
              "      <th>2</th>\n",
              "      <td>0</td>\n",
              "      <td>0</td>\n",
              "      <td>0</td>\n",
              "      <td>0</td>\n",
              "      <td>0</td>\n",
              "      <td>0</td>\n",
              "      <td>1</td>\n",
              "      <td>0</td>\n",
              "      <td>0</td>\n",
              "      <td>0</td>\n",
              "      <td>...</td>\n",
              "      <td>0</td>\n",
              "      <td>0</td>\n",
              "      <td>0</td>\n",
              "      <td>0</td>\n",
              "      <td>0</td>\n",
              "      <td>0</td>\n",
              "      <td>0</td>\n",
              "      <td>0</td>\n",
              "      <td>1</td>\n",
              "      <td>0</td>\n",
              "    </tr>\n",
              "    <tr>\n",
              "      <th>3</th>\n",
              "      <td>0</td>\n",
              "      <td>1</td>\n",
              "      <td>0</td>\n",
              "      <td>0</td>\n",
              "      <td>0</td>\n",
              "      <td>0</td>\n",
              "      <td>0</td>\n",
              "      <td>1</td>\n",
              "      <td>0</td>\n",
              "      <td>0</td>\n",
              "      <td>...</td>\n",
              "      <td>0</td>\n",
              "      <td>0</td>\n",
              "      <td>0</td>\n",
              "      <td>0</td>\n",
              "      <td>0</td>\n",
              "      <td>0</td>\n",
              "      <td>0</td>\n",
              "      <td>0</td>\n",
              "      <td>1</td>\n",
              "      <td>0</td>\n",
              "    </tr>\n",
              "    <tr>\n",
              "      <th>4</th>\n",
              "      <td>0</td>\n",
              "      <td>0</td>\n",
              "      <td>0</td>\n",
              "      <td>0</td>\n",
              "      <td>0</td>\n",
              "      <td>0</td>\n",
              "      <td>0</td>\n",
              "      <td>0</td>\n",
              "      <td>0</td>\n",
              "      <td>1</td>\n",
              "      <td>...</td>\n",
              "      <td>0</td>\n",
              "      <td>0</td>\n",
              "      <td>0</td>\n",
              "      <td>0</td>\n",
              "      <td>0</td>\n",
              "      <td>0</td>\n",
              "      <td>0</td>\n",
              "      <td>0</td>\n",
              "      <td>0</td>\n",
              "      <td>0</td>\n",
              "    </tr>\n",
              "  </tbody>\n",
              "</table>\n",
              "<p>5 rows × 47 columns</p>\n",
              "</div>"
            ],
            "text/plain": [
              "   administration  adviser  american  biden  bidens  bidens trillion  case  \\\n",
              "0               0        0         0      0       0                0     0   \n",
              "1               0        0         0      0       0                0     0   \n",
              "2               0        0         0      0       0                0     1   \n",
              "3               0        1         0      0       0                0     0   \n",
              "4               0        0         0      0       0                0     0   \n",
              "\n",
              "   coronavirus  country  covid  ...  relief  rollout  said  say  shot  state  \\\n",
              "0            0        0      0  ...       0        0     0    0     0      0   \n",
              "1            0        0      0  ...       0        0     0    0     0      0   \n",
              "2            0        0      0  ...       0        0     0    0     0      0   \n",
              "3            1        0      0  ...       0        0     0    0     0      0   \n",
              "4            0        0      1  ...       0        0     0    0     0      0   \n",
              "\n",
              "   time  trillion  vaccine  vaccine rollout  \n",
              "0     0         0        0                0  \n",
              "1     0         0        0                0  \n",
              "2     0         0        1                0  \n",
              "3     0         0        1                0  \n",
              "4     0         0        0                0  \n",
              "\n",
              "[5 rows x 47 columns]"
            ]
          },
          "metadata": {
            "tags": []
          },
          "execution_count": 61
        }
      ]
    },
    {
      "cell_type": "code",
      "metadata": {
        "id": "hAextswhN17N",
        "outputId": "ed9387fe-c176-4dc3-8176-d49d0c55c078"
      },
      "source": [
        "# Calculate column sums from DTM\n",
        "sum_words = dtm_tf.sum(axis=0) \n",
        "words_freq = [(word, sum_words[0, idx]) for word, idx in tf_vectorizer.vocabulary_.items()]\n",
        "\n",
        "# Now, sort them\n",
        "words_freq =sorted(words_freq, key = lambda x: x[1], reverse=True)\n",
        "\n",
        "# Display top few\n",
        "words_freq[:20]"
      ],
      "execution_count": null,
      "outputs": [
        {
          "output_type": "execute_result",
          "data": {
            "text/plain": [
              "[('covid', 20),\n",
              " ('vaccine', 14),\n",
              " ('new', 9),\n",
              " ('friday', 8),\n",
              " ('coronavirus', 7),\n",
              " ('said', 6),\n",
              " ('johnson', 6),\n",
              " ('case', 5),\n",
              " ('get', 5),\n",
              " ('house', 5),\n",
              " ('people', 4),\n",
              " ('fda', 4),\n",
              " ('food', 4),\n",
              " ('drug', 4),\n",
              " ('administration', 4),\n",
              " ('covid vaccine', 4),\n",
              " ('say', 4),\n",
              " ('american', 4),\n",
              " ('decline', 4),\n",
              " ('bidens', 4)]"
            ]
          },
          "metadata": {
            "tags": []
          },
          "execution_count": 62
        }
      ]
    },
    {
      "cell_type": "code",
      "metadata": {
        "id": "aZjQ_zewN17N",
        "outputId": "bd2f7c44-600a-454b-d888-b18f83b8e6aa"
      },
      "source": [
        "from yellowbrick.text import FreqDistVisualizer\n",
        "\n",
        "plt.figure(figsize=(10,16))\n",
        "visualizer = FreqDistVisualizer(features=tf_vectorizer.get_feature_names(), n=25)\n",
        "visualizer.fit(dtm_tf)\n",
        "visualizer.poof()"
      ],
      "execution_count": null,
      "outputs": [
        {
          "output_type": "execute_result",
          "data": {
            "text/plain": [
              "<Figure size 720x1152 with 0 Axes>"
            ]
          },
          "metadata": {
            "tags": []
          },
          "execution_count": 64
        },
        {
          "output_type": "stream",
          "text": [
            "/Users/maryamasghari/opt/anaconda3/lib/python3.7/site-packages/sklearn/base.py:197: FutureWarning: From version 0.24, get_params will raise an AttributeError if a parameter cannot be retrieved as an instance attribute. Previously it would return None.\n",
            "  FutureWarning)\n"
          ],
          "name": "stderr"
        },
        {
          "output_type": "execute_result",
          "data": {
            "text/plain": [
              "FrequencyVisualizer(ax=<matplotlib.axes._subplots.AxesSubplot object at 0x7fcfe1b6a7d0>,\n",
              "                    color=None,\n",
              "                    features=['administration', 'adviser', 'american', 'biden',\n",
              "                              'bidens', 'bidens trillion', 'case',\n",
              "                              'coronavirus', 'country', 'covid', 'covid case',\n",
              "                              'covid vaccine', 'death', 'decline', 'drug',\n",
              "                              'drug administration', 'even', 'expected', 'fda',\n",
              "                              'first', 'food', 'food drug',\n",
              "                              'food drug administration', 'friday', 'get',\n",
              "                              'house', 'joe', 'johnson', 'johnson johnson',\n",
              "                              'launched', ...],\n",
              "                    n=None, orient='h')"
            ]
          },
          "metadata": {
            "tags": []
          },
          "execution_count": 64
        },
        {
          "output_type": "display_data",
          "data": {
            "image/png": "[encoded data removed]",
            "text/plain": [
              "<Figure size 720x1152 with 1 Axes>"
            ]
          },
          "metadata": {
            "tags": []
          }
        },
        {
          "output_type": "execute_result",
          "data": {
            "text/plain": [
              "<matplotlib.axes._subplots.AxesSubplot at 0x7fcfe1b6a7d0>"
            ]
          },
          "metadata": {
            "tags": []
          },
          "execution_count": 64
        }
      ]
    },
    {
      "cell_type": "code",
      "metadata": {
        "id": "3euop9DYN17O"
      },
      "source": [
        ""
      ],
      "execution_count": null,
      "outputs": []
    },
    {
      "cell_type": "code",
      "metadata": {
        "id": "ioGNfb_EN17O"
      },
      "source": [
        "#Embeddings with Doc2Vec"
      ],
      "execution_count": null,
      "outputs": []
    },
    {
      "cell_type": "code",
      "metadata": {
        "id": "S_u84qV6N17P"
      },
      "source": [
        "from gensim.models.doc2vec import Doc2Vec, TaggedDocument"
      ],
      "execution_count": null,
      "outputs": []
    },
    {
      "cell_type": "code",
      "metadata": {
        "id": "yZx46bN2N17P",
        "outputId": "ee034d68-3918-4c55-ca9c-d1fcb990f71a"
      },
      "source": [
        "docs =news_df['abs_clean']\n",
        "docs"
      ],
      "execution_count": null,
      "outputs": [
        {
          "output_type": "execute_result",
          "data": {
            "text/plain": [
              "0     dr ben moor launched pilot program beth israel...\n",
              "1     five key fallacy pitfall affected publichealth...\n",
              "2     two new piece research support case giving one...\n",
              "3     u fda vaccine adviser scheduled meet friday di...\n",
              "4     autoabs type interferon ifns distinctly found ...\n",
              "5     rich country race inoculate population covid p...\n",
              "6     u crossed covid death milestone earlier week g...\n",
              "7     patient hospitalized covid treated anticoagula...\n",
              "8     food drug administration expected act quickly ...\n",
              "9     queen said hesitant get vaccine ought think pe...\n",
              "10    hospital public health official say vaccine su...\n",
              "11    although pace coronavirus vaccine rollout seem...\n",
              "12    israel boast world fastest covid vaccine rollo...\n",
              "13    even daily toll covid death decline latino res...\n",
              "14    democraticcontrolled house representative frid...\n",
              "15    period decline seeing rise covid case globally...\n",
              "16    allday meeting provide u food drug administrat...\n",
              "17    fda committee weighs new johnson johnson vacci...\n",
              "18    helloits snowy denver time east coast get brea...\n",
              "19    panel expert adviser u food drug administratio...\n",
              "20    nearly one five american received first dose v...\n",
              "21    head u center disease control prevention said ...\n",
              "22    biden administration launched partnership oppo...\n",
              "23    youre planning trip ghana here youll need know...\n",
              "24    website vaccinefinder overhauled help people l...\n",
              "25    belgium put hold expected relaxation coronavir...\n",
              "26    south korea launched covid inoculation campaig...\n",
              "27    democraticcontrolled u house representative ai...\n",
              "28    fda committee weighs new johnson johnson vacci...\n",
              "29    bavarian radio station apologized friday host ...\n",
              "30    harmless side effect shot swollen lymph node m...\n",
              "31    bank america corp said friday employee united ...\n",
              "32    drug typically used treat rheumatoid arthritis...\n",
              "33    critic argue success state relief bill undermi...\n",
              "34    head canada biggest public pension fund abrupt...\n",
              "35    new covid variant called b identified circulat...\n",
              "36    increasing number american anxious get covid v...\n",
              "37    fda hold allday meeting friday review data joh...\n",
              "38    eight employee russia embassy pyongyang family...\n",
              "39    even slowed infection rate increased vaccinati...\n",
              "40    say either least might get covid vaccine theyr...\n",
              "41    uk weighing whether briton need proof vaccinat...\n",
              "42    investigator seeking information second food m...\n",
              "43    victory lap everything fixed long way go biden...\n",
              "44    nearly year first covid lockdown order survivo...\n",
              "45    six straight week decline new covid case u num...\n",
              "46    new york state health commissioner dr howard z...\n",
              "47    group traveled hour train hour bus final mile ...\n",
              "48    president joe biden urged american wear mask l...\n",
              "49    canada pension plan investment board said acce...\n",
              "Name: abs_clean, dtype: object"
            ]
          },
          "metadata": {
            "tags": []
          },
          "execution_count": 49
        }
      ]
    },
    {
      "cell_type": "code",
      "metadata": {
        "id": "T4T43baoN17P"
      },
      "source": [
        "documents = [TaggedDocument(doc.split(), [i]) for i, doc in enumerate(docs)]"
      ],
      "execution_count": null,
      "outputs": []
    },
    {
      "cell_type": "code",
      "metadata": {
        "id": "fNLIcHkNN17P",
        "outputId": "77c5983c-59ec-4b13-fb30-a8a0ddfdd662"
      },
      "source": [
        "%time model = Doc2Vec(documents, vector_size=5, window=2, min_count=1, workers=4, epochs=10000, alpha=0.065, seed=123)\n",
        "print(model)\n",
        "for i in range(0, len(docs)):\n",
        "    print(model.docvecs[i])"
      ],
      "execution_count": null,
      "outputs": [
        {
          "output_type": "stream",
          "text": [
            "CPU times: user 27.8 s, sys: 1.94 s, total: 29.7 s\n",
            "Wall time: 28.5 s\n",
            "Doc2Vec(dm/m,d5,n5,w2,s0.001,t4)\n",
            "[  7.620764   -27.422403    -4.262467     5.896982    -0.42712232]\n",
            "[  0.35844237 -15.608034     1.5443809   -6.7271214  -22.280245  ]\n",
            "[11.249979  -5.8995614 25.515736  -3.2411842 -9.68597  ]\n",
            "[-5.3366804 -4.379212   5.895523  -3.652425  -1.8412174]\n",
            "[  0.07484542  -5.7045264   22.107878    -7.9091334  -10.182708  ]\n",
            "[ 15.566442  -13.965632    6.0491757  -8.403789   -5.4665437]\n",
            "[ -5.2965226 -12.63575     2.2338467   1.2725145 -18.621668 ]\n",
            "[  1.7404063  -7.2584043  12.219391  -11.480928  -13.59162  ]\n",
            "[ -9.589631   -14.538251    -0.32312703  -4.0883574   -6.4551277 ]\n",
            "[ 13.705309  -10.148388   18.410479   -7.60044    -0.5038349]\n",
            "[ -2.4175897 -17.813145    6.144014    2.6619096  10.349515 ]\n",
            "[18.314024  -9.226116  15.4887905 -3.0148745 -8.483646 ]\n",
            "[ 12.910492   -8.999639    6.9936156  -3.6832952 -13.623254 ]\n",
            "[ -0.20167485 -10.12065      7.454993     8.797301   -18.739277  ]\n",
            "[-10.481199  -10.038832    5.7362447   3.9644809 -10.655239 ]\n",
            "[  6.5339828 -10.865154   11.494636   15.682826   -5.0560513]\n",
            "[-13.967276  -13.838371    7.0366735   0.8542734  -2.077397 ]\n",
            "[-10.804729   -6.5952215  14.254931    4.770371   -9.612283 ]\n",
            "[ 15.64173   -19.08829    10.622505   12.20103     3.2920797]\n",
            "[-11.225309  -16.52991     2.0333562  -6.4925857  -3.1805282]\n",
            "[  2.4621868  -7.7160387   8.31431    -8.264772  -17.334536 ]\n",
            "[ 7.2391653  -5.3330073   4.5795183   3.563366   -0.24442093]\n",
            "[ -6.657594  -19.335543   -3.2258162   7.055929   -5.99461  ]\n",
            "[-1.658854  -6.156235  19.623575  -8.159054  -1.0626011]\n",
            "[  2.0860264 -14.159387   15.401888  -16.51608     2.2842405]\n",
            "[ -7.3113756 -18.553493   13.837322  -10.08923     9.122811 ]\n",
            "[  1.7921923 -14.7927      3.7016978  -2.0738382   8.04334  ]\n",
            "[-7.884184  -6.558719   4.4916368  2.3356028 -4.7573986]\n",
            "[-10.737175  -6.653792  14.163002   4.717921  -9.555533]\n",
            "[ -0.93724006 -15.850141     6.040632   -15.652282    -1.5074583 ]\n",
            "[ 15.791768   -8.117756   10.578014   -6.8917956 -12.33842  ]\n",
            "[ 11.750189  -12.552313    3.5632498   6.7400455  -2.3796084]\n",
            "[-10.589508   -9.34896    20.041496    0.6915071   1.324759 ]\n",
            "[ -5.694811 -13.026131  27.978146   8.476099   5.533015]\n",
            "[  8.550722   -22.977898    -4.1850743   -4.7194934   -0.06356911]\n",
            "[ -2.4300063 -14.865769    9.253131   13.613373    2.8424158]\n",
            "[ 14.239708  -8.482837  14.928684   8.038721 -11.373131]\n",
            "[-10.121072   -7.4545965  10.954211   -7.1643157  -6.5085807]\n",
            "[ 11.296869  -27.311533   -5.1689177  -3.5876644  -4.482127 ]\n",
            "[ -8.173419  -12.963651   13.388442   12.126535    1.1946262]\n",
            "[ 1.6286919 -4.1339726 12.357369   6.3871984 -6.8895116]\n",
            "[-11.385803   -9.999674   22.813948   -5.1161785  -1.3442547]\n",
            "[ -3.6521332 -24.915716   -3.2424612   7.667409    0.8926252]\n",
            "[  2.6136293 -19.579226   -0.692112   14.676582   -5.478825 ]\n",
            "[ 13.500036   -11.456724     4.474721     0.56390494 -13.657316  ]\n",
            "[-0.6632576 -4.390944   8.125453   6.947908  -6.491343 ]\n",
            "[  1.4486356 -11.475159   12.2395935  11.46025     4.6203523]\n",
            "[ -0.47946668 -18.560606     1.890717   -16.62968    -12.563682  ]\n",
            "[ -1.5410945 -11.779074    2.3939633  12.26329    -8.567701 ]\n",
            "[ 10.000065  -18.553106    6.054926  -16.949602   -1.4567736]\n"
          ],
          "name": "stdout"
        }
      ]
    },
    {
      "cell_type": "code",
      "metadata": {
        "id": "c5wzpGdIN17Q",
        "outputId": "4da62b18-7f23-4499-ac2d-09ad63e036ce"
      },
      "source": [
        "model"
      ],
      "execution_count": null,
      "outputs": [
        {
          "output_type": "execute_result",
          "data": {
            "text/plain": [
              "<gensim.models.doc2vec.Doc2Vec at 0x7fd019a25590>"
            ]
          },
          "metadata": {
            "tags": []
          },
          "execution_count": 54
        }
      ]
    },
    {
      "cell_type": "code",
      "metadata": {
        "id": "-xXvNF1LN17Q",
        "outputId": "20ea94f5-f894-49c9-8e78-c03345f33e66"
      },
      "source": [
        "%%time\n",
        "\n",
        "import collections\n",
        "\n",
        "ranks = []\n",
        "second_ranks = []\n",
        "for doc_id in range(len(documents)):\n",
        "    inferred_vector = model.infer_vector(documents[doc_id].words)\n",
        "    sims = model.docvecs.most_similar([inferred_vector], topn=len(model.docvecs))\n",
        "    rank = [docid for docid, sim in sims].index(doc_id)\n",
        "    ranks.append(rank)\n",
        "    second_ranks.append(sims[1])"
      ],
      "execution_count": null,
      "outputs": [
        {
          "output_type": "stream",
          "text": [
            "CPU times: user 17.8 s, sys: 9.69 ms, total: 17.8 s\n",
            "Wall time: 17.8 s\n"
          ],
          "name": "stdout"
        }
      ]
    },
    {
      "cell_type": "code",
      "metadata": {
        "id": "5MhXRBdiN17R",
        "outputId": "07fb49a8-e6a1-4ec6-fb06-ede478876219"
      },
      "source": [
        "collections.Counter(ranks).most_common(10) \n",
        "collections.Counter(ranks)[0]\n",
        "collections.Counter(ranks)[1]\n",
        "collections.Counter(ranks)[43]"
      ],
      "execution_count": null,
      "outputs": [
        {
          "output_type": "execute_result",
          "data": {
            "text/plain": [
              "[(0, 49), (1, 1)]"
            ]
          },
          "metadata": {
            "tags": []
          },
          "execution_count": 53
        },
        {
          "output_type": "execute_result",
          "data": {
            "text/plain": [
              "49"
            ]
          },
          "metadata": {
            "tags": []
          },
          "execution_count": 53
        },
        {
          "output_type": "execute_result",
          "data": {
            "text/plain": [
              "1"
            ]
          },
          "metadata": {
            "tags": []
          },
          "execution_count": 53
        },
        {
          "output_type": "execute_result",
          "data": {
            "text/plain": [
              "0"
            ]
          },
          "metadata": {
            "tags": []
          },
          "execution_count": 53
        }
      ]
    },
    {
      "cell_type": "code",
      "metadata": {
        "id": "aX_n71SjN17R",
        "outputId": "3ddb7776-0169-4931-bbeb-e8b12ea53ebe"
      },
      "source": [
        "doc_id = 45\n",
        "print('Document ({}): «{}»\\n'.format(doc_id, ' '.join(documents[doc_id].words)))\n",
        "print(u'SIMILAR/DISSIMILAR DOCS PER MODEL %s:\\n' % model)\n",
        "for label, index in [('MOST', 0), ('MEDIAN', len(sims)//2), ('LEAST', len(sims) - 1)]:\n",
        "    print(u'%s %s: «%s»\\n' % (label, sims[index], ' '.join(documents[sims[index][0]].words)))"
      ],
      "execution_count": null,
      "outputs": [
        {
          "output_type": "stream",
          "text": [
            "Document (45): «six straight week decline new covid case u number started plateau even»\n",
            "\n",
            "SIMILAR/DISSIMILAR DOCS PER MODEL Doc2Vec(dm/m,d5,n5,w2,s0.001,t4):\n",
            "\n",
            "MOST (49, 0.9999362230300903): «canada pension plan investment board said accepted resignation chief executive mark machin day»\n",
            "\n",
            "MEDIAN (3, 0.4612264037132263): «u fda vaccine adviser scheduled meet friday discus potential emergency authorization third coronavirus»\n",
            "\n",
            "LEAST (48, 0.04073569178581238): «president joe biden urged american wear mask let guard number coronavirus case declined»\n",
            "\n"
          ],
          "name": "stdout"
        }
      ]
    },
    {
      "cell_type": "code",
      "metadata": {
        "id": "HcKSKGHQN17R",
        "outputId": "9ecfa502-feb1-44c0-8285-3fdbf26c9c24"
      },
      "source": [
        "doc_id = 5\n",
        "print('Train Document ({}): «{}»\\n'.format(doc_id, ' '.join(documents[doc_id].words)))\n",
        "sim_id = second_ranks[doc_id]\n",
        "print('Similar Document {}: «{}»\\n'.format(sim_id, ' '.join(documents[sim_id[0]].words)))"
      ],
      "execution_count": null,
      "outputs": [
        {
          "output_type": "stream",
          "text": [
            "Train Document (5): «rich country race inoculate population covid poorer nation fallen behind biggest»\n",
            "\n",
            "Similar Document (30, 0.9138939380645752): «harmless side effect shot swollen lymph node mean vaccine working could cause false alarm»\n",
            "\n"
          ],
          "name": "stdout"
        }
      ]
    },
    {
      "cell_type": "code",
      "metadata": {
        "id": "VU2p6npRN17R",
        "outputId": "3e48fbcb-a0cb-48e5-9171-62eb6b5f5a2c"
      },
      "source": [
        "idx = 0\n",
        "sim = model.docvecs.most_similar(idx, topn=10)\n",
        "sim\n",
        "\n",
        "idx\n",
        "docs.iloc[idx]\n",
        "model.docvecs[idx]\n",
        "\n",
        "for i in range(0, 3):\n",
        "    print(\"Closest doc {} {} ({})\".format(i, sim[i][0], sim[i][1]))\n",
        "    closest_idx = sim[i][0]\n",
        "    docs.iloc[closest_idx]\n",
        "    model.docvecs[closest_idx]"
      ],
      "execution_count": null,
      "outputs": [
        {
          "output_type": "execute_result",
          "data": {
            "text/plain": [
              "[(38, 0.9334924817085266),\n",
              " (34, 0.9213828444480896),\n",
              " (42, 0.9158637523651123),\n",
              " (43, 0.8754128217697144),\n",
              " (31, 0.8246647119522095),\n",
              " (22, 0.8065633773803711),\n",
              " (18, 0.7656664252281189),\n",
              " (26, 0.7562540173530579),\n",
              " (10, 0.7107267379760742),\n",
              " (48, 0.6665794849395752)]"
            ]
          },
          "metadata": {
            "tags": []
          },
          "execution_count": 68
        },
        {
          "output_type": "execute_result",
          "data": {
            "text/plain": [
              "0"
            ]
          },
          "metadata": {
            "tags": []
          },
          "execution_count": 68
        },
        {
          "output_type": "execute_result",
          "data": {
            "text/plain": [
              "'dr ben moor launched pilot program beth israel deaconess hospitalplymouth hope combatting isolating'"
            ]
          },
          "metadata": {
            "tags": []
          },
          "execution_count": 68
        },
        {
          "output_type": "execute_result",
          "data": {
            "text/plain": [
              "array([  7.620764  , -27.422403  ,  -4.262467  ,   5.896982  ,\n",
              "        -0.42712232], dtype=float32)"
            ]
          },
          "metadata": {
            "tags": []
          },
          "execution_count": 68
        },
        {
          "output_type": "stream",
          "text": [
            "Closest doc 0 38 (0.9334924817085266)\n"
          ],
          "name": "stdout"
        },
        {
          "output_type": "execute_result",
          "data": {
            "text/plain": [
              "'eight employee russia embassy pyongyang family spent hour trying leave north korea'"
            ]
          },
          "metadata": {
            "tags": []
          },
          "execution_count": 68
        },
        {
          "output_type": "execute_result",
          "data": {
            "text/plain": [
              "array([ 11.296869 , -27.311533 ,  -5.1689177,  -3.5876644,  -4.482127 ],\n",
              "      dtype=float32)"
            ]
          },
          "metadata": {
            "tags": []
          },
          "execution_count": 68
        },
        {
          "output_type": "stream",
          "text": [
            "Closest doc 1 34 (0.9213828444480896)\n"
          ],
          "name": "stdout"
        },
        {
          "output_type": "execute_result",
          "data": {
            "text/plain": [
              "'head canada biggest public pension fund abruptly resigned post shortly news broke avoided'"
            ]
          },
          "metadata": {
            "tags": []
          },
          "execution_count": 68
        },
        {
          "output_type": "execute_result",
          "data": {
            "text/plain": [
              "array([  8.550722  , -22.977898  ,  -4.1850743 ,  -4.7194934 ,\n",
              "        -0.06356911], dtype=float32)"
            ]
          },
          "metadata": {
            "tags": []
          },
          "execution_count": 68
        },
        {
          "output_type": "stream",
          "text": [
            "Closest doc 2 42 (0.9158637523651123)\n"
          ],
          "name": "stdout"
        },
        {
          "output_type": "execute_result",
          "data": {
            "text/plain": [
              "'investigator seeking information second food market chinese city first officially confirmed'"
            ]
          },
          "metadata": {
            "tags": []
          },
          "execution_count": 68
        },
        {
          "output_type": "execute_result",
          "data": {
            "text/plain": [
              "array([ -3.6521332, -24.915716 ,  -3.2424612,   7.667409 ,   0.8926252],\n",
              "      dtype=float32)"
            ]
          },
          "metadata": {
            "tags": []
          },
          "execution_count": 68
        }
      ]
    },
    {
      "cell_type": "code",
      "metadata": {
        "id": "6Rdzirr9N17S"
      },
      "source": [
        "import nltk\n",
        "from nltk import word_tokenize, sent_tokenize\n",
        "import gensim\n",
        "from gensim.test.utils import common_texts\n",
        "from gensim.models import Word2Vec\n",
        "\n"
      ],
      "execution_count": null,
      "outputs": []
    },
    {
      "cell_type": "code",
      "metadata": {
        "id": "s9nHbhEZN17S",
        "outputId": "43d4abc4-f8d1-4c56-fead-c4b098074300"
      },
      "source": [
        "docs"
      ],
      "execution_count": null,
      "outputs": [
        {
          "output_type": "execute_result",
          "data": {
            "text/plain": [
              "0     dr ben moor launched pilot program beth israel...\n",
              "1     five key fallacy pitfall affected publichealth...\n",
              "2     two new piece research support case giving one...\n",
              "3     u fda vaccine adviser scheduled meet friday di...\n",
              "4     autoabs type interferon ifns distinctly found ...\n",
              "5     rich country race inoculate population covid p...\n",
              "6     u crossed covid death milestone earlier week g...\n",
              "7     patient hospitalized covid treated anticoagula...\n",
              "8     food drug administration expected act quickly ...\n",
              "9     queen said hesitant get vaccine ought think pe...\n",
              "10    hospital public health official say vaccine su...\n",
              "11    although pace coronavirus vaccine rollout seem...\n",
              "12    israel boast world fastest covid vaccine rollo...\n",
              "13    even daily toll covid death decline latino res...\n",
              "14    democraticcontrolled house representative frid...\n",
              "15    period decline seeing rise covid case globally...\n",
              "16    allday meeting provide u food drug administrat...\n",
              "17    fda committee weighs new johnson johnson vacci...\n",
              "18    helloits snowy denver time east coast get brea...\n",
              "19    panel expert adviser u food drug administratio...\n",
              "20    nearly one five american received first dose v...\n",
              "21    head u center disease control prevention said ...\n",
              "22    biden administration launched partnership oppo...\n",
              "23    youre planning trip ghana here youll need know...\n",
              "24    website vaccinefinder overhauled help people l...\n",
              "25    belgium put hold expected relaxation coronavir...\n",
              "26    south korea launched covid inoculation campaig...\n",
              "27    democraticcontrolled u house representative ai...\n",
              "28    fda committee weighs new johnson johnson vacci...\n",
              "29    bavarian radio station apologized friday host ...\n",
              "30    harmless side effect shot swollen lymph node m...\n",
              "31    bank america corp said friday employee united ...\n",
              "32    drug typically used treat rheumatoid arthritis...\n",
              "33    critic argue success state relief bill undermi...\n",
              "34    head canada biggest public pension fund abrupt...\n",
              "35    new covid variant called b identified circulat...\n",
              "36    increasing number american anxious get covid v...\n",
              "37    fda hold allday meeting friday review data joh...\n",
              "38    eight employee russia embassy pyongyang family...\n",
              "39    even slowed infection rate increased vaccinati...\n",
              "40    say either least might get covid vaccine theyr...\n",
              "41    uk weighing whether briton need proof vaccinat...\n",
              "42    investigator seeking information second food m...\n",
              "43    victory lap everything fixed long way go biden...\n",
              "44    nearly year first covid lockdown order survivo...\n",
              "45    six straight week decline new covid case u num...\n",
              "46    new york state health commissioner dr howard z...\n",
              "47    group traveled hour train hour bus final mile ...\n",
              "48    president joe biden urged american wear mask l...\n",
              "49    canada pension plan investment board said acce...\n",
              "Name: abs_clean, dtype: object"
            ]
          },
          "metadata": {
            "tags": []
          },
          "execution_count": 71
        }
      ]
    },
    {
      "cell_type": "code",
      "metadata": {
        "id": "uBd5-5qhN17S",
        "outputId": "8c9c1136-6263-4390-95fe-260a3f5a8f4b"
      },
      "source": [
        "nltk.download('punkt')"
      ],
      "execution_count": null,
      "outputs": [
        {
          "output_type": "stream",
          "text": [
            "[nltk_data] Downloading package punkt to\n",
            "[nltk_data]     /Users/maryamasghari/nltk_data...\n",
            "[nltk_data]   Package punkt is already up-to-date!\n"
          ],
          "name": "stderr"
        },
        {
          "output_type": "execute_result",
          "data": {
            "text/plain": [
              "True"
            ]
          },
          "metadata": {
            "tags": []
          },
          "execution_count": 140
        }
      ]
    },
    {
      "cell_type": "code",
      "metadata": {
        "id": "WJhddMa_N17S",
        "outputId": "f744ea77-6b84-474a-d001-a3a3acd8f2bf"
      },
      "source": [
        "word_tokenize(docs[0])"
      ],
      "execution_count": null,
      "outputs": [
        {
          "output_type": "execute_result",
          "data": {
            "text/plain": [
              "['dr',\n",
              " 'ben',\n",
              " 'moor',\n",
              " 'launched',\n",
              " 'pilot',\n",
              " 'program',\n",
              " 'beth',\n",
              " 'israel',\n",
              " 'deaconess',\n",
              " 'hospitalplymouth',\n",
              " 'hope',\n",
              " 'combatting',\n",
              " 'isolating']"
            ]
          },
          "metadata": {
            "tags": []
          },
          "execution_count": 79
        }
      ]
    },
    {
      "cell_type": "code",
      "metadata": {
        "id": "vGI-duF5N17T"
      },
      "source": [
        ""
      ],
      "execution_count": null,
      "outputs": []
    },
    {
      "cell_type": "code",
      "metadata": {
        "id": "8NMNw6Z4N17T"
      },
      "source": [
        "data = [] \n",
        "#iterate through each sentence in the file \n",
        "for doc in docs: \n",
        "    temp = [] \n",
        "      \n",
        "    # tokenize the sentence into words \n",
        "    for j in word_tokenize(doc): \n",
        "        temp.append(j.lower()) \n",
        "  \n",
        "    data.append(temp)"
      ],
      "execution_count": null,
      "outputs": []
    },
    {
      "cell_type": "code",
      "metadata": {
        "id": "LzXQroF8N17W",
        "outputId": "39a009c1-3f4d-4755-99c3-03a19d099bfa"
      },
      "source": [
        "%time model = Word2Vec(sentences = data , size= 64 , sg=1, window=10 , min_count=1, seed= 123, )"
      ],
      "execution_count": null,
      "outputs": [
        {
          "output_type": "stream",
          "text": [
            "CPU times: user 91.4 ms, sys: 4.27 ms, total: 95.7 ms\n",
            "Wall time: 94.2 ms\n"
          ],
          "name": "stdout"
        }
      ]
    },
    {
      "cell_type": "code",
      "metadata": {
        "id": "W4q61YHHN17W",
        "outputId": "6d7c7b40-ef82-4049-8285-6f823ad8e2db"
      },
      "source": [
        "len(model.wv.vocab)"
      ],
      "execution_count": null,
      "outputs": [
        {
          "output_type": "execute_result",
          "data": {
            "text/plain": [
              "432"
            ]
          },
          "metadata": {
            "tags": []
          },
          "execution_count": 96
        }
      ]
    },
    {
      "cell_type": "code",
      "metadata": {
        "id": "WlwBcOx4N17X",
        "outputId": "1460353c-57e2-44e1-ff9c-e7eedea8824e"
      },
      "source": [
        "len(model.wv['covid'])"
      ],
      "execution_count": null,
      "outputs": [
        {
          "output_type": "execute_result",
          "data": {
            "text/plain": [
              "64"
            ]
          },
          "metadata": {
            "tags": []
          },
          "execution_count": 98
        }
      ]
    },
    {
      "cell_type": "code",
      "metadata": {
        "id": "Xi7lh8DAN17X",
        "outputId": "3c529154-f79e-4efe-c9eb-7427d9b4beea"
      },
      "source": [
        "model.wv.most_similar('covid')"
      ],
      "execution_count": null,
      "outputs": [
        {
          "output_type": "execute_result",
          "data": {
            "text/plain": [
              "[('half', 0.3819718360900879),\n",
              " ('number', 0.3430613875389099),\n",
              " ('everything', 0.3251429796218872),\n",
              " ('executive', 0.32186612486839294),\n",
              " ('year', 0.313020795583725),\n",
              " ('advisory', 0.29444003105163574),\n",
              " ('uk', 0.28129592537879944),\n",
              " ('guard', 0.2782972455024719),\n",
              " ('way', 0.2761504352092743),\n",
              " ('fallen', 0.27530476450920105)]"
            ]
          },
          "metadata": {
            "tags": []
          },
          "execution_count": 138
        }
      ]
    },
    {
      "cell_type": "code",
      "metadata": {
        "id": "T4dfibQuN17Y",
        "outputId": "7231c263-0305-4230-be65-b83396b15517"
      },
      "source": [
        "model.wv.most_similar('health')"
      ],
      "execution_count": null,
      "outputs": [
        {
          "output_type": "execute_result",
          "data": {
            "text/plain": [
              "[('vaccinefinder', 0.3468463122844696),\n",
              " ('pneumonia', 0.3335531949996948),\n",
              " ('reaching', 0.3172944486141205),\n",
              " ('available', 0.3133639097213745),\n",
              " ('arthritis', 0.3066685199737549),\n",
              " ('queen', 0.3010064363479614),\n",
              " ('giving', 0.29739099740982056),\n",
              " ('sector', 0.28493982553482056),\n",
              " ('united', 0.27228182554244995),\n",
              " ('america', 0.2712963819503784)]"
            ]
          },
          "metadata": {
            "tags": []
          },
          "execution_count": 137
        }
      ]
    },
    {
      "cell_type": "code",
      "metadata": {
        "id": "Z0aHbZ_aN17Y"
      },
      "source": [
        "model.wv.most_similar('health')"
      ],
      "execution_count": null,
      "outputs": []
    },
    {
      "cell_type": "code",
      "metadata": {
        "id": "Sb8av5SqN17Y",
        "outputId": "7fc7d9fb-8d95-4e4c-964f-a034c060f377"
      },
      "source": [
        "model.wv.most_similar('vaccine')"
      ],
      "execution_count": null,
      "outputs": [
        {
          "output_type": "execute_result",
          "data": {
            "text/plain": [
              "[('year', 0.40736860036849976),\n",
              " ('dose', 0.3698485791683197),\n",
              " ('reducing', 0.34107768535614014),\n",
              " ('say', 0.3329296112060547),\n",
              " ('apologized', 0.32545703649520874),\n",
              " ('put', 0.32500576972961426),\n",
              " ('rollout', 0.3136020302772522),\n",
              " ('isolating', 0.3114992380142212),\n",
              " ('supply', 0.30676132440567017),\n",
              " ('played', 0.3048655390739441)]"
            ]
          },
          "metadata": {
            "tags": []
          },
          "execution_count": 136
        }
      ]
    },
    {
      "cell_type": "code",
      "metadata": {
        "id": "rzoZnl7cN17Y",
        "outputId": "b858ad7c-b07b-4b03-af5a-e131950e2cb3"
      },
      "source": [
        "model.wv.doesnt_match(\"covid health vaccine hour\".split())"
      ],
      "execution_count": null,
      "outputs": [
        {
          "output_type": "execute_result",
          "data": {
            "text/plain": [
              "'hour'"
            ]
          },
          "metadata": {
            "tags": []
          },
          "execution_count": 135
        }
      ]
    },
    {
      "cell_type": "code",
      "metadata": {
        "id": "nsW1NSpxN17Z",
        "outputId": "d23a0b80-30f3-49e7-8f49-0ad18a17f147"
      },
      "source": [
        "model.wv.similarity(\"covid\",\"vaccine\")"
      ],
      "execution_count": null,
      "outputs": [
        {
          "output_type": "execute_result",
          "data": {
            "text/plain": [
              "0.1406512"
            ]
          },
          "metadata": {
            "tags": []
          },
          "execution_count": 105
        }
      ]
    },
    {
      "cell_type": "code",
      "metadata": {
        "id": "UJ0vjEGHN17Z",
        "outputId": "ccf46bb0-0f89-4f3b-c31c-4bd47d02cac1"
      },
      "source": [
        "model.wv.similarity(\"covid\",\"patient\")"
      ],
      "execution_count": null,
      "outputs": [
        {
          "output_type": "execute_result",
          "data": {
            "text/plain": [
              "-0.08239451"
            ]
          },
          "metadata": {
            "tags": []
          },
          "execution_count": 110
        }
      ]
    },
    {
      "cell_type": "code",
      "metadata": {
        "id": "6Dw6lRBxN17a",
        "outputId": "3c836fdc-c7d5-4519-96ef-0bf59b721d89"
      },
      "source": [
        "%time secondmodel = Word2Vec(sentences = data , size= 10 , sg=1, window=25 , min_count=2, seed= 123, )"
      ],
      "execution_count": null,
      "outputs": [
        {
          "output_type": "stream",
          "text": [
            "CPU times: user 22 ms, sys: 2.33 ms, total: 24.3 ms\n",
            "Wall time: 22.5 ms\n"
          ],
          "name": "stdout"
        }
      ]
    },
    {
      "cell_type": "code",
      "metadata": {
        "id": "khfQrXnaN17a",
        "outputId": "9b3be573-21c9-4985-b978-7f42f4c6569e"
      },
      "source": [
        "len(secondmodel.wv.vocab)"
      ],
      "execution_count": null,
      "outputs": [
        {
          "output_type": "execute_result",
          "data": {
            "text/plain": [
              "85"
            ]
          },
          "metadata": {
            "tags": []
          },
          "execution_count": 126
        }
      ]
    },
    {
      "cell_type": "code",
      "metadata": {
        "collapsed": true,
        "jupyter": {
          "outputs_hidden": true
        },
        "id": "smfDpskZN17a",
        "outputId": "6c0b3e4d-650c-4648-ded4-89f162f09302"
      },
      "source": [
        "secondmodel.wv.vocab"
      ],
      "execution_count": null,
      "outputs": [
        {
          "output_type": "execute_result",
          "data": {
            "text/plain": [
              "{'dr': <gensim.models.keyedvectors.Vocab at 0x7fcfc6849850>,\n",
              " 'launched': <gensim.models.keyedvectors.Vocab at 0x7fcfc68493d0>,\n",
              " 'israel': <gensim.models.keyedvectors.Vocab at 0x7fcfc6849150>,\n",
              " 'five': <gensim.models.keyedvectors.Vocab at 0x7fcfc6849bd0>,\n",
              " 'new': <gensim.models.keyedvectors.Vocab at 0x7fcfc6849d10>,\n",
              " 'case': <gensim.models.keyedvectors.Vocab at 0x7fcfc6849c50>,\n",
              " 'one': <gensim.models.keyedvectors.Vocab at 0x7fcfc68496d0>,\n",
              " 'dose': <gensim.models.keyedvectors.Vocab at 0x7fcfc6849a10>,\n",
              " 'vaccine': <gensim.models.keyedvectors.Vocab at 0x7fcfc6849f50>,\n",
              " 'people': <gensim.models.keyedvectors.Vocab at 0x7fcfc6849ad0>,\n",
              " 'u': <gensim.models.keyedvectors.Vocab at 0x7fcfc6849fd0>,\n",
              " 'fda': <gensim.models.keyedvectors.Vocab at 0x7fcfc6849b10>,\n",
              " 'adviser': <gensim.models.keyedvectors.Vocab at 0x7fcfc6849e90>,\n",
              " 'friday': <gensim.models.keyedvectors.Vocab at 0x7fcfc6849990>,\n",
              " 'authorization': <gensim.models.keyedvectors.Vocab at 0x7fcfc6849890>,\n",
              " 'coronavirus': <gensim.models.keyedvectors.Vocab at 0x7fcfc68512d0>,\n",
              " 'found': <gensim.models.keyedvectors.Vocab at 0x7fcfc6851110>,\n",
              " 'patient': <gensim.models.keyedvectors.Vocab at 0x7fcfc6851210>,\n",
              " 'covid': <gensim.models.keyedvectors.Vocab at 0x7fcfc68511d0>,\n",
              " 'country': <gensim.models.keyedvectors.Vocab at 0x7fcfc6851190>,\n",
              " 'population': <gensim.models.keyedvectors.Vocab at 0x7fcfc6851fd0>,\n",
              " 'biggest': <gensim.models.keyedvectors.Vocab at 0x7fcfc6851f90>,\n",
              " 'death': <gensim.models.keyedvectors.Vocab at 0x7fcfc6851f50>,\n",
              " 'week': <gensim.models.keyedvectors.Vocab at 0x7fcfc6851f10>,\n",
              " 'food': <gensim.models.keyedvectors.Vocab at 0x7fcfc6851ed0>,\n",
              " 'drug': <gensim.models.keyedvectors.Vocab at 0x7fcfc6851e90>,\n",
              " 'administration': <gensim.models.keyedvectors.Vocab at 0x7fcfc6851e50>,\n",
              " 'expected': <gensim.models.keyedvectors.Vocab at 0x7fcfc6851e10>,\n",
              " 'onedose': <gensim.models.keyedvectors.Vocab at 0x7fcfc6851dd0>,\n",
              " 'said': <gensim.models.keyedvectors.Vocab at 0x7fcfc6851d90>,\n",
              " 'get': <gensim.models.keyedvectors.Vocab at 0x7fcfc6851d50>,\n",
              " 'hospital': <gensim.models.keyedvectors.Vocab at 0x7fcfc6851d10>,\n",
              " 'public': <gensim.models.keyedvectors.Vocab at 0x7fcfc6851cd0>,\n",
              " 'health': <gensim.models.keyedvectors.Vocab at 0x7fcfc6851c90>,\n",
              " 'official': <gensim.models.keyedvectors.Vocab at 0x7fcfc6851c50>,\n",
              " 'say': <gensim.models.keyedvectors.Vocab at 0x7fcfc6851c10>,\n",
              " 'rollout': <gensim.models.keyedvectors.Vocab at 0x7fcfc6851bd0>,\n",
              " 'american': <gensim.models.keyedvectors.Vocab at 0x7fcfc6851b90>,\n",
              " 'half': <gensim.models.keyedvectors.Vocab at 0x7fcfc6851b50>,\n",
              " 'even': <gensim.models.keyedvectors.Vocab at 0x7fcfc6851b10>,\n",
              " 'decline': <gensim.models.keyedvectors.Vocab at 0x7fcfc6851ad0>,\n",
              " 'time': <gensim.models.keyedvectors.Vocab at 0x7fcfc6851a90>,\n",
              " 'democraticcontrolled': <gensim.models.keyedvectors.Vocab at 0x7fcfc6851a50>,\n",
              " 'house': <gensim.models.keyedvectors.Vocab at 0x7fcfc6851a10>,\n",
              " 'representative': <gensim.models.keyedvectors.Vocab at 0x7fcfc68519d0>,\n",
              " 'president': <gensim.models.keyedvectors.Vocab at 0x7fcfc6851990>,\n",
              " 'joe': <gensim.models.keyedvectors.Vocab at 0x7fcfc6851950>,\n",
              " 'bidens': <gensim.models.keyedvectors.Vocab at 0x7fcfc6851910>,\n",
              " 'trillion': <gensim.models.keyedvectors.Vocab at 0x7fcfc68518d0>,\n",
              " 'allday': <gensim.models.keyedvectors.Vocab at 0x7fcfc6851890>,\n",
              " 'meeting': <gensim.models.keyedvectors.Vocab at 0x7fcfc6851850>,\n",
              " 'expert': <gensim.models.keyedvectors.Vocab at 0x7fcfc6851810>,\n",
              " 'committee': <gensim.models.keyedvectors.Vocab at 0x7fcfc68517d0>,\n",
              " 'weighs': <gensim.models.keyedvectors.Vocab at 0x7fcfc6851790>,\n",
              " 'johnson': <gensim.models.keyedvectors.Vocab at 0x7fcfc6851750>,\n",
              " 'vote': <gensim.models.keyedvectors.Vocab at 0x7fcfc6851710>,\n",
              " 'relief': <gensim.models.keyedvectors.Vocab at 0x7fcfc68516d0>,\n",
              " 'package': <gensim.models.keyedvectors.Vocab at 0x7fcfc6851690>,\n",
              " 'nearly': <gensim.models.keyedvectors.Vocab at 0x7fcfc6851650>,\n",
              " 'first': <gensim.models.keyedvectors.Vocab at 0x7fcfc6851610>,\n",
              " 'head': <gensim.models.keyedvectors.Vocab at 0x7fcfc68515d0>,\n",
              " 'biden': <gensim.models.keyedvectors.Vocab at 0x7fcfc6851590>,\n",
              " 'america': <gensim.models.keyedvectors.Vocab at 0x7fcfc6851550>,\n",
              " 'need': <gensim.models.keyedvectors.Vocab at 0x7fcfc6851510>,\n",
              " 'visit': <gensim.models.keyedvectors.Vocab at 0x7fcfc68514d0>,\n",
              " 'global': <gensim.models.keyedvectors.Vocab at 0x7fcfc6851490>,\n",
              " 'help': <gensim.models.keyedvectors.Vocab at 0x7fcfc6851450>,\n",
              " 'shot': <gensim.models.keyedvectors.Vocab at 0x7fcfc6851410>,\n",
              " 'hold': <gensim.models.keyedvectors.Vocab at 0x7fcfc68513d0>,\n",
              " 'south': <gensim.models.keyedvectors.Vocab at 0x7fcfc6851390>,\n",
              " 'korea': <gensim.models.keyedvectors.Vocab at 0x7fcfc6851350>,\n",
              " 'nursing': <gensim.models.keyedvectors.Vocab at 0x7fcfc6851310>,\n",
              " 'home': <gensim.models.keyedvectors.Vocab at 0x7fcfc6851290>,\n",
              " 'call': <gensim.models.keyedvectors.Vocab at 0x7fcfc6867110>,\n",
              " 'aid': <gensim.models.keyedvectors.Vocab at 0x7fcfc6867150>,\n",
              " 'could': <gensim.models.keyedvectors.Vocab at 0x7fcfc68670d0>,\n",
              " 'employee': <gensim.models.keyedvectors.Vocab at 0x7fcfc6867190>,\n",
              " 'state': <gensim.models.keyedvectors.Vocab at 0x7fcfc68624d0>,\n",
              " 'canada': <gensim.models.keyedvectors.Vocab at 0x7fcfc6862910>,\n",
              " 'pension': <gensim.models.keyedvectors.Vocab at 0x7fcfc6862090>,\n",
              " 'york': <gensim.models.keyedvectors.Vocab at 0x7fcfc6862650>,\n",
              " 'city': <gensim.models.keyedvectors.Vocab at 0x7fcfc6862510>,\n",
              " 'number': <gensim.models.keyedvectors.Vocab at 0x7fcfc6862550>,\n",
              " 'hour': <gensim.models.keyedvectors.Vocab at 0x7fcfc6862490>,\n",
              " 'vaccination': <gensim.models.keyedvectors.Vocab at 0x7fcfc6862710>}"
            ]
          },
          "metadata": {
            "tags": []
          },
          "execution_count": 127
        }
      ]
    },
    {
      "cell_type": "code",
      "metadata": {
        "id": "8Gn4cctiN17a",
        "outputId": "6df54471-858e-48b0-df52-20c1b7b86ffe"
      },
      "source": [
        "len(secondmodel.wv['covid'])"
      ],
      "execution_count": null,
      "outputs": [
        {
          "output_type": "execute_result",
          "data": {
            "text/plain": [
              "10"
            ]
          },
          "metadata": {
            "tags": []
          },
          "execution_count": 120
        }
      ]
    },
    {
      "cell_type": "code",
      "metadata": {
        "id": "C5CcE_ozN17b",
        "outputId": "03198d90-5009-4dfe-e0f8-9026058296f8"
      },
      "source": [
        "secondmodel.wv['covid']"
      ],
      "execution_count": null,
      "outputs": [
        {
          "output_type": "execute_result",
          "data": {
            "text/plain": [
              "array([ 0.03435746, -0.00732434,  0.01963578,  0.00669158,  0.01941319,\n",
              "       -0.04055123,  0.05132907, -0.03540367, -0.00106633, -0.0290741 ],\n",
              "      dtype=float32)"
            ]
          },
          "metadata": {
            "tags": []
          },
          "execution_count": 133
        }
      ]
    },
    {
      "cell_type": "code",
      "metadata": {
        "id": "AJM_1HmLN17b",
        "outputId": "2d79b5a3-13ca-4722-f550-f0338af61152"
      },
      "source": [
        "secondmodel.wv.most_similar('covid')"
      ],
      "execution_count": null,
      "outputs": [
        {
          "output_type": "execute_result",
          "data": {
            "text/plain": [
              "[('machin', 0.8191375732421875),\n",
              " ('news', 0.7914660573005676),\n",
              " ('let', 0.7756003141403198),\n",
              " ('half', 0.7451574802398682),\n",
              " ('behind', 0.6964625716209412),\n",
              " ('local', 0.6820414066314697),\n",
              " ('three', 0.6802926063537598),\n",
              " ('harmless', 0.656317412853241),\n",
              " ('pyongyang', 0.6515697240829468),\n",
              " ('first', 0.6303799748420715)]"
            ]
          },
          "metadata": {
            "tags": []
          },
          "execution_count": 121
        }
      ]
    },
    {
      "cell_type": "code",
      "metadata": {
        "id": "mpMVlEn6N17b",
        "outputId": "bdf4c76a-6859-42b2-8b6e-707c9dce741c"
      },
      "source": [
        "secondmodel.wv.similarity(\"covid\",\"vaccine\")"
      ],
      "execution_count": null,
      "outputs": [
        {
          "output_type": "execute_result",
          "data": {
            "text/plain": [
              "0.25888237"
            ]
          },
          "metadata": {
            "tags": []
          },
          "execution_count": 122
        }
      ]
    },
    {
      "cell_type": "code",
      "metadata": {
        "id": "wl1CQ6cHN17c",
        "outputId": "412ea2f5-8e8c-47b3-a3cd-5672adaa7b37"
      },
      "source": [
        "secondmodel.wv.similarity(\"covid\",\"patient\")"
      ],
      "execution_count": null,
      "outputs": [
        {
          "output_type": "execute_result",
          "data": {
            "text/plain": [
              "0.14245203"
            ]
          },
          "metadata": {
            "tags": []
          },
          "execution_count": 123
        }
      ]
    },
    {
      "cell_type": "code",
      "metadata": {
        "id": "jS6npoWyN17c",
        "outputId": "908fffb5-d3af-4999-9364-a7969fb22514"
      },
      "source": [
        "secondmodel .wv.most_similar(positive=['johnson','bidens'],negative=['joe'])"
      ],
      "execution_count": null,
      "outputs": [
        {
          "output_type": "execute_result",
          "data": {
            "text/plain": [
              "[('drug', 0.6142210960388184),\n",
              " ('shot', 0.6027372479438782),\n",
              " ('one', 0.5598418712615967),\n",
              " ('vaccination', 0.5565456748008728),\n",
              " ('population', 0.5227040648460388),\n",
              " ('canada', 0.5205078721046448),\n",
              " ('say', 0.5070671439170837),\n",
              " ('korea', 0.49143216013908386),\n",
              " ('death', 0.4763699173927307),\n",
              " ('nearly', 0.4269860088825226)]"
            ]
          },
          "metadata": {
            "tags": []
          },
          "execution_count": 132
        }
      ]
    },
    {
      "cell_type": "code",
      "metadata": {
        "id": "U_RMfnvWN17c",
        "outputId": "a888ffa6-fb31-427b-873b-11bbfed7b41c"
      },
      "source": [
        "secondmodel.wv.most_similar('vaccine')"
      ],
      "execution_count": null,
      "outputs": [
        {
          "output_type": "execute_result",
          "data": {
            "text/plain": [
              "[('health', 0.7552045583724976),\n",
              " ('found', 0.6101878881454468),\n",
              " ('president', 0.5980271697044373),\n",
              " ('get', 0.586661159992218),\n",
              " ('weighs', 0.5538339614868164),\n",
              " ('relief', 0.5522696375846863),\n",
              " ('could', 0.508864164352417),\n",
              " ('adviser', 0.4800153970718384),\n",
              " ('expert', 0.45644575357437134),\n",
              " ('pension', 0.4199911952018738)]"
            ]
          },
          "metadata": {
            "tags": []
          },
          "execution_count": 139
        }
      ]
    },
    {
      "cell_type": "code",
      "metadata": {
        "id": "_erBt1HrN17c",
        "outputId": "4d4db361-595f-4674-8ee4-c8f3c7d1bc61"
      },
      "source": [
        "model.wv['Maryam']"
      ],
      "execution_count": null,
      "outputs": [
        {
          "output_type": "error",
          "ename": "KeyError",
          "evalue": "\"word 'Maryam' not in vocabulary\"",
          "traceback": [
            "\u001b[0;31m---------------------------------------------------------------------------\u001b[0m",
            "\u001b[0;31mKeyError\u001b[0m                                  Traceback (most recent call last)",
            "\u001b[0;32m<ipython-input-142-9c6b713226d7>\u001b[0m in \u001b[0;36m<module>\u001b[0;34m\u001b[0m\n\u001b[0;32m----> 1\u001b[0;31m \u001b[0mmodel\u001b[0m\u001b[0;34m.\u001b[0m\u001b[0mwv\u001b[0m\u001b[0;34m[\u001b[0m\u001b[0;34m'Maryam'\u001b[0m\u001b[0;34m]\u001b[0m\u001b[0;34m\u001b[0m\u001b[0;34m\u001b[0m\u001b[0m\n\u001b[0m",
            "\u001b[0;32m~/opt/anaconda3/lib/python3.7/site-packages/gensim/models/keyedvectors.py\u001b[0m in \u001b[0;36m__getitem__\u001b[0;34m(self, entities)\u001b[0m\n\u001b[1;32m    351\u001b[0m         \u001b[0;32mif\u001b[0m \u001b[0misinstance\u001b[0m\u001b[0;34m(\u001b[0m\u001b[0mentities\u001b[0m\u001b[0;34m,\u001b[0m \u001b[0mstring_types\u001b[0m\u001b[0;34m)\u001b[0m\u001b[0;34m:\u001b[0m\u001b[0;34m\u001b[0m\u001b[0;34m\u001b[0m\u001b[0m\n\u001b[1;32m    352\u001b[0m             \u001b[0;31m# allow calls like trained_model['office'], as a shorthand for trained_model[['office']]\u001b[0m\u001b[0;34m\u001b[0m\u001b[0;34m\u001b[0m\u001b[0;34m\u001b[0m\u001b[0m\n\u001b[0;32m--> 353\u001b[0;31m             \u001b[0;32mreturn\u001b[0m \u001b[0mself\u001b[0m\u001b[0;34m.\u001b[0m\u001b[0mget_vector\u001b[0m\u001b[0;34m(\u001b[0m\u001b[0mentities\u001b[0m\u001b[0;34m)\u001b[0m\u001b[0;34m\u001b[0m\u001b[0;34m\u001b[0m\u001b[0m\n\u001b[0m\u001b[1;32m    354\u001b[0m \u001b[0;34m\u001b[0m\u001b[0m\n\u001b[1;32m    355\u001b[0m         \u001b[0;32mreturn\u001b[0m \u001b[0mvstack\u001b[0m\u001b[0;34m(\u001b[0m\u001b[0;34m[\u001b[0m\u001b[0mself\u001b[0m\u001b[0;34m.\u001b[0m\u001b[0mget_vector\u001b[0m\u001b[0;34m(\u001b[0m\u001b[0mentity\u001b[0m\u001b[0;34m)\u001b[0m \u001b[0;32mfor\u001b[0m \u001b[0mentity\u001b[0m \u001b[0;32min\u001b[0m \u001b[0mentities\u001b[0m\u001b[0;34m]\u001b[0m\u001b[0;34m)\u001b[0m\u001b[0;34m\u001b[0m\u001b[0;34m\u001b[0m\u001b[0m\n",
            "\u001b[0;32m~/opt/anaconda3/lib/python3.7/site-packages/gensim/models/keyedvectors.py\u001b[0m in \u001b[0;36mget_vector\u001b[0;34m(self, word)\u001b[0m\n\u001b[1;32m    469\u001b[0m \u001b[0;34m\u001b[0m\u001b[0m\n\u001b[1;32m    470\u001b[0m     \u001b[0;32mdef\u001b[0m \u001b[0mget_vector\u001b[0m\u001b[0;34m(\u001b[0m\u001b[0mself\u001b[0m\u001b[0;34m,\u001b[0m \u001b[0mword\u001b[0m\u001b[0;34m)\u001b[0m\u001b[0;34m:\u001b[0m\u001b[0;34m\u001b[0m\u001b[0;34m\u001b[0m\u001b[0m\n\u001b[0;32m--> 471\u001b[0;31m         \u001b[0;32mreturn\u001b[0m \u001b[0mself\u001b[0m\u001b[0;34m.\u001b[0m\u001b[0mword_vec\u001b[0m\u001b[0;34m(\u001b[0m\u001b[0mword\u001b[0m\u001b[0;34m)\u001b[0m\u001b[0;34m\u001b[0m\u001b[0;34m\u001b[0m\u001b[0m\n\u001b[0m\u001b[1;32m    472\u001b[0m \u001b[0;34m\u001b[0m\u001b[0m\n\u001b[1;32m    473\u001b[0m     \u001b[0;32mdef\u001b[0m \u001b[0mwords_closer_than\u001b[0m\u001b[0;34m(\u001b[0m\u001b[0mself\u001b[0m\u001b[0;34m,\u001b[0m \u001b[0mw1\u001b[0m\u001b[0;34m,\u001b[0m \u001b[0mw2\u001b[0m\u001b[0;34m)\u001b[0m\u001b[0;34m:\u001b[0m\u001b[0;34m\u001b[0m\u001b[0;34m\u001b[0m\u001b[0m\n",
            "\u001b[0;32m~/opt/anaconda3/lib/python3.7/site-packages/gensim/models/keyedvectors.py\u001b[0m in \u001b[0;36mword_vec\u001b[0;34m(self, word, use_norm)\u001b[0m\n\u001b[1;32m    466\u001b[0m             \u001b[0;32mreturn\u001b[0m \u001b[0mresult\u001b[0m\u001b[0;34m\u001b[0m\u001b[0;34m\u001b[0m\u001b[0m\n\u001b[1;32m    467\u001b[0m         \u001b[0;32melse\u001b[0m\u001b[0;34m:\u001b[0m\u001b[0;34m\u001b[0m\u001b[0;34m\u001b[0m\u001b[0m\n\u001b[0;32m--> 468\u001b[0;31m             \u001b[0;32mraise\u001b[0m \u001b[0mKeyError\u001b[0m\u001b[0;34m(\u001b[0m\u001b[0;34m\"word '%s' not in vocabulary\"\u001b[0m \u001b[0;34m%\u001b[0m \u001b[0mword\u001b[0m\u001b[0;34m)\u001b[0m\u001b[0;34m\u001b[0m\u001b[0;34m\u001b[0m\u001b[0m\n\u001b[0m\u001b[1;32m    469\u001b[0m \u001b[0;34m\u001b[0m\u001b[0m\n\u001b[1;32m    470\u001b[0m     \u001b[0;32mdef\u001b[0m \u001b[0mget_vector\u001b[0m\u001b[0;34m(\u001b[0m\u001b[0mself\u001b[0m\u001b[0;34m,\u001b[0m \u001b[0mword\u001b[0m\u001b[0;34m)\u001b[0m\u001b[0;34m:\u001b[0m\u001b[0;34m\u001b[0m\u001b[0;34m\u001b[0m\u001b[0m\n",
            "\u001b[0;31mKeyError\u001b[0m: \"word 'Maryam' not in vocabulary\""
          ]
        }
      ]
    },
    {
      "cell_type": "code",
      "metadata": {
        "id": "-XoENW4iN17c"
      },
      "source": [
        ""
      ],
      "execution_count": null,
      "outputs": []
    }
  ]
}