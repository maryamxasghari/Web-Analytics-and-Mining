{
  "nbformat": 4,
  "nbformat_minor": 0,
  "metadata": {
    "colab": {
      "name": "W2v and GloVe.ipynb",
      "provenance": []
    },
    "kernelspec": {
      "name": "python3",
      "display_name": "Python 3"
    },
    "language_info": {
      "name": "python"
    }
  },
  "cells": [
    {
      "cell_type": "markdown",
      "metadata": {
        "id": "_DF_N2n94iKb"
      },
      "source": [
        "## word2vec pretrained model "
      ]
    },
    {
      "cell_type": "code",
      "metadata": {
        "id": "7Q-X_wEW-v4S"
      },
      "source": [
        "import gensim.downloader as api\n",
        "api.info()"
      ],
      "execution_count": null,
      "outputs": []
    },
    {
      "cell_type": "code",
      "metadata": {
        "colab": {
          "base_uri": "https://localhost:8080/"
        },
        "id": "u7O-XxF03j4u",
        "outputId": "56545606-893c-4bc2-8d64-41c6d5e75779"
      },
      "source": [
        "from gensim.models import Word2Vec \n",
        "import gensim.downloader as api\n",
        "\n",
        "\n",
        "w2v_model = api.load('word2vec-google-news-300')\n"
      ],
      "execution_count": 3,
      "outputs": [
        {
          "output_type": "stream",
          "text": [
            "[==================================================] 100.0% 1662.8/1662.8MB downloaded\n"
          ],
          "name": "stdout"
        }
      ]
    },
    {
      "cell_type": "code",
      "metadata": {
        "colab": {
          "base_uri": "https://localhost:8080/"
        },
        "id": "0rFRdYiP6tmu",
        "outputId": "3c66fccf-8941-4d28-815b-2ea081117f53"
      },
      "source": [
        "len(w2v_model.vocab)"
      ],
      "execution_count": 24,
      "outputs": [
        {
          "output_type": "execute_result",
          "data": {
            "text/plain": [
              "3000000"
            ]
          },
          "metadata": {
            "tags": []
          },
          "execution_count": 24
        }
      ]
    },
    {
      "cell_type": "code",
      "metadata": {
        "colab": {
          "base_uri": "https://localhost:8080/"
        },
        "id": "rCpBo9z36xxC",
        "outputId": "56e5cee6-594c-4cc9-c77f-be9ac404258d"
      },
      "source": [
        "# sample_word2vec_embedding\n",
        "w2v_model['computer'].size"
      ],
      "execution_count": 5,
      "outputs": [
        {
          "output_type": "execute_result",
          "data": {
            "text/plain": [
              "300"
            ]
          },
          "metadata": {
            "tags": []
          },
          "execution_count": 5
        }
      ]
    },
    {
      "cell_type": "code",
      "metadata": {
        "id": "QL-K3YzG5IpQ"
      },
      "source": [
        "w2v_model['computer'] #array size 300"
      ],
      "execution_count": null,
      "outputs": []
    },
    {
      "cell_type": "code",
      "metadata": {
        "colab": {
          "base_uri": "https://localhost:8080/"
        },
        "id": "kcV03G0o7UmL",
        "outputId": "ab6f04dc-34ce-42ce-a159-59a35848f905"
      },
      "source": [
        "w2v_model.most_similar('computer')"
      ],
      "execution_count": 7,
      "outputs": [
        {
          "output_type": "execute_result",
          "data": {
            "text/plain": [
              "[('computers', 0.7979379892349243),\n",
              " ('laptop', 0.6640493273735046),\n",
              " ('laptop_computer', 0.6548868417739868),\n",
              " ('Computer', 0.6473334431648254),\n",
              " ('com_puter', 0.6082079410552979),\n",
              " ('technician_Leonard_Luchko', 0.5662748217582703),\n",
              " ('mainframes_minicomputers', 0.5617721080780029),\n",
              " ('laptop_computers', 0.5585449934005737),\n",
              " ('PC', 0.5539618134498596),\n",
              " ('maker_Dell_DELL.O', 0.5519254207611084)]"
            ]
          },
          "metadata": {
            "tags": []
          },
          "execution_count": 7
        }
      ]
    },
    {
      "cell_type": "markdown",
      "metadata": {
        "id": "aENVwlOd_5wa"
      },
      "source": [
        "## load a corpus and use it to train a Word2Vec model"
      ]
    },
    {
      "cell_type": "code",
      "metadata": {
        "colab": {
          "base_uri": "https://localhost:8080/"
        },
        "id": "398jN6Xt_dRf",
        "outputId": "f2ce7358-4b25-46cc-ce4b-c9b707180811"
      },
      "source": [
        "corpus = api.load('text8')\n",
        "model = Word2Vec(corpus)  # train a model from the corpus\n",
        "len(model.wv.vocab), model['computer'].size"
      ],
      "execution_count": 30,
      "outputs": [
        {
          "output_type": "stream",
          "text": [
            "/usr/local/lib/python3.7/dist-packages/ipykernel_launcher.py:3: DeprecationWarning: Call to deprecated `__getitem__` (Method will be removed in 4.0.0, use self.wv.__getitem__() instead).\n",
            "  This is separate from the ipykernel package so we can avoid doing imports until\n"
          ],
          "name": "stderr"
        },
        {
          "output_type": "execute_result",
          "data": {
            "text/plain": [
              "(71290, 100)"
            ]
          },
          "metadata": {
            "tags": []
          },
          "execution_count": 30
        }
      ]
    },
    {
      "cell_type": "code",
      "metadata": {
        "colab": {
          "base_uri": "https://localhost:8080/"
        },
        "id": "69LuSyJuCbLC",
        "outputId": "b6ae9a8d-93eb-46b1-9011-bb004fd3b5e5"
      },
      "source": [
        "model.most_similar('computer')"
      ],
      "execution_count": 28,
      "outputs": [
        {
          "output_type": "stream",
          "text": [
            "/usr/local/lib/python3.7/dist-packages/ipykernel_launcher.py:1: DeprecationWarning: Call to deprecated `most_similar` (Method will be removed in 4.0.0, use self.wv.most_similar() instead).\n",
            "  \"\"\"Entry point for launching an IPython kernel.\n"
          ],
          "name": "stderr"
        },
        {
          "output_type": "execute_result",
          "data": {
            "text/plain": [
              "[('computing', 0.7104264497756958),\n",
              " ('computers', 0.7098677158355713),\n",
              " ('digital', 0.6829723715782166),\n",
              " ('programmer', 0.6421271562576294),\n",
              " ('hardware', 0.6412582397460938),\n",
              " ('console', 0.6410561800003052),\n",
              " ('graphical', 0.6329975724220276),\n",
              " ('simulation', 0.6283072233200073),\n",
              " ('handheld', 0.61688232421875),\n",
              " ('software', 0.6148202419281006)]"
            ]
          },
          "metadata": {
            "tags": []
          },
          "execution_count": 28
        }
      ]
    },
    {
      "cell_type": "markdown",
      "metadata": {
        "id": "k6WYlI4Y4nEp"
      },
      "source": [
        "## Glove pretrained model"
      ]
    },
    {
      "cell_type": "code",
      "metadata": {
        "colab": {
          "base_uri": "https://localhost:8080/"
        },
        "id": "iTI1boZ_3hhM",
        "outputId": "0d4e90ef-feec-4593-ef98-d53da451ea4c"
      },
      "source": [
        "#import gensim.downloader as api\n",
        "\n",
        "glove_model = api.load('glove-twitter-25')"
      ],
      "execution_count": 9,
      "outputs": [
        {
          "output_type": "stream",
          "text": [
            "[==================================================] 100.0% 104.8/104.8MB downloaded\n"
          ],
          "name": "stdout"
        }
      ]
    },
    {
      "cell_type": "code",
      "metadata": {
        "colab": {
          "base_uri": "https://localhost:8080/"
        },
        "id": "EPwy2lTT6umL",
        "outputId": "f0bcfb83-b02e-45a3-be0c-ab0c659a0f9e"
      },
      "source": [
        "len(glove_model.vocab)"
      ],
      "execution_count": 25,
      "outputs": [
        {
          "output_type": "execute_result",
          "data": {
            "text/plain": [
              "1193514"
            ]
          },
          "metadata": {
            "tags": []
          },
          "execution_count": 25
        }
      ]
    },
    {
      "cell_type": "code",
      "metadata": {
        "colab": {
          "base_uri": "https://localhost:8080/"
        },
        "id": "x7N0uSwm6yui",
        "outputId": "7f60597a-a5f0-4f31-9d67-1a4d863f64d7"
      },
      "source": [
        "#sample_glove_embedding\n",
        "glove_model['computer'].size"
      ],
      "execution_count": 11,
      "outputs": [
        {
          "output_type": "execute_result",
          "data": {
            "text/plain": [
              "25"
            ]
          },
          "metadata": {
            "tags": []
          },
          "execution_count": 11
        }
      ]
    },
    {
      "cell_type": "code",
      "metadata": {
        "colab": {
          "base_uri": "https://localhost:8080/"
        },
        "id": "8H4oqntW3twh",
        "outputId": "a8879b69-1364-485b-a422-f4d10544e1fe"
      },
      "source": [
        "glove_model['computer']"
      ],
      "execution_count": 13,
      "outputs": [
        {
          "output_type": "execute_result",
          "data": {
            "text/plain": [
              "array([ 0.64005 , -0.019514,  0.70148 , -0.66123 ,  1.1723  , -0.58859 ,\n",
              "        0.25917 , -0.81541 ,  1.1708  ,  1.1413  , -0.15405 , -0.11369 ,\n",
              "       -3.8414  , -0.87233 ,  0.47489 ,  1.1541  ,  0.97678 ,  1.1107  ,\n",
              "       -0.14572 , -0.52013 , -0.52234 , -0.92349 ,  0.34651 ,  0.061939,\n",
              "       -0.57375 ], dtype=float32)"
            ]
          },
          "metadata": {
            "tags": []
          },
          "execution_count": 13
        }
      ]
    },
    {
      "cell_type": "code",
      "metadata": {
        "colab": {
          "base_uri": "https://localhost:8080/"
        },
        "id": "md8QDzjS7fGA",
        "outputId": "64267698-2f0a-4c09-b74e-fda49b547c52"
      },
      "source": [
        "glove_model.most_similar('computer')"
      ],
      "execution_count": 14,
      "outputs": [
        {
          "output_type": "execute_result",
          "data": {
            "text/plain": [
              "[('camera', 0.907833456993103),\n",
              " ('cell', 0.891890287399292),\n",
              " ('server', 0.8744666576385498),\n",
              " ('device', 0.869352400302887),\n",
              " ('wifi', 0.8631256818771362),\n",
              " ('screen', 0.8621907234191895),\n",
              " ('app', 0.8615544438362122),\n",
              " ('case', 0.8587921857833862),\n",
              " ('remote', 0.8583616018295288),\n",
              " ('file', 0.8575270771980286)]"
            ]
          },
          "metadata": {
            "tags": []
          },
          "execution_count": 14
        }
      ]
    },
    {
      "cell_type": "code",
      "metadata": {
        "id": "WqWXiCWz8yRC"
      },
      "source": [
        ""
      ],
      "execution_count": null,
      "outputs": []
    }
  ]
}