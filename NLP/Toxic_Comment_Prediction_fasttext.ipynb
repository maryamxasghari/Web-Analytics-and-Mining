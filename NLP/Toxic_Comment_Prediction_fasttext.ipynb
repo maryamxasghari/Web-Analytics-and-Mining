{
  "nbformat": 4,
  "nbformat_minor": 0,
  "metadata": {
    "kernelspec": {
      "display_name": "Python 3",
      "language": "python",
      "name": "python3"
    },
    "language_info": {
      "codemirror_mode": {
        "name": "ipython",
        "version": 3
      },
      "file_extension": ".py",
      "mimetype": "text/x-python",
      "name": "python",
      "nbconvert_exporter": "python",
      "pygments_lexer": "ipython3",
      "version": "3.7.6"
    },
    "colab": {
      "name": "Toxic Comment Prediction_fasttext.ipynb",
      "provenance": [],
      "collapsed_sections": [],
      "toc_visible": true
    },
    "accelerator": "GPU"
  },
  "cells": [
    {
      "cell_type": "markdown",
      "metadata": {
        "id": "TplABs4v_g3M"
      },
      "source": [
        "# Toxic Comment Prediction "
      ]
    },
    {
      "cell_type": "code",
      "metadata": {
        "id": "o7mGaVDICvwv"
      },
      "source": [
        "!pip install ktrain"
      ],
      "execution_count": null,
      "outputs": []
    },
    {
      "cell_type": "code",
      "metadata": {
        "colab": {
          "base_uri": "https://localhost:8080/"
        },
        "id": "gfLC4UjqDTcu",
        "outputId": "9cc7f5d7-fe7d-4509-bd14-5d61ac0b9db0"
      },
      "source": [
        "! git clone https://github.com/laxmimerit/Toxic-Comment.git"
      ],
      "execution_count": 3,
      "outputs": [
        {
          "output_type": "stream",
          "text": [
            "Cloning into 'Toxic-Comment'...\n",
            "remote: Enumerating objects: 9, done.\u001b[K\n",
            "remote: Counting objects: 100% (9/9), done.\u001b[K\n",
            "remote: Compressing objects: 100% (8/8), done.\u001b[K\n",
            "remote: Total 9 (delta 1), reused 3 (delta 0), pack-reused 0\u001b[K\n",
            "Unpacking objects: 100% (9/9), done.\n"
          ],
          "name": "stdout"
        }
      ]
    },
    {
      "cell_type": "code",
      "metadata": {
        "id": "w3fVgpZADTYc"
      },
      "source": [
        "import pandas as pd\n",
        "import ktrain\n",
        "from ktrain import text"
      ],
      "execution_count": 4,
      "outputs": []
    },
    {
      "cell_type": "code",
      "metadata": {
        "colab": {
          "base_uri": "https://localhost:8080/"
        },
        "id": "vyWlo3l6DTUX",
        "outputId": "97ab4f17-bc3f-42f1-f5ac-bc6ba8065234"
      },
      "source": [
        "PATH = \"/content/Toxic-Comment/train.csv\"\n",
        "\n",
        "train, val , preproc = text.texts_from_csv(PATH,'comment_text' ,label_columns=['toxic','severe_toxic',\n",
        "                                                        'obscene', 'threat','insult','identity_hate'],\n",
        "                    ngram_range =1 , max_features = 50000, maxlen =150 )"
      ],
      "execution_count": 9,
      "outputs": [
        {
          "output_type": "stream",
          "text": [
            "detected encoding: utf-8 (if wrong, set manually)\n",
            "['toxic', 'severe_toxic', 'obscene', 'threat', 'insult', 'identity_hate']\n",
            "        toxic  severe_toxic  obscene  threat  insult  identity_hate\n",
            "98018       0             0        0       0       0              0\n",
            "34913       0             0        0       0       0              0\n",
            "68030       0             0        0       0       0              0\n",
            "109645      0             0        0       0       0              0\n",
            "63186       0             0        0       0       0              0\n",
            "['toxic', 'severe_toxic', 'obscene', 'threat', 'insult', 'identity_hate']\n",
            "        toxic  severe_toxic  obscene  threat  insult  identity_hate\n",
            "8518        0             0        0       0       0              0\n",
            "115183      0             0        0       0       0              0\n",
            "42515       1             0        0       0       0              0\n",
            "108424      0             0        0       0       0              0\n",
            "15122       0             0        0       0       0              0\n",
            "language: en\n",
            "Word Counts: 197496\n",
            "Nrows: 143613\n",
            "143613 train sequences\n",
            "train sequence lengths:\n",
            "\tmean : 67\n",
            "\t95percentile : 228\n",
            "\t99percentile : 570\n",
            "x_train shape: (143613,150)\n",
            "y_train shape: (143613, 6)\n",
            "Is Multi-Label? True\n",
            "15958 test sequences\n",
            "test sequence lengths:\n",
            "\tmean : 66\n",
            "\t95percentile : 228\n",
            "\t99percentile : 532\n",
            "x_test shape: (15958,150)\n",
            "y_test shape: (15958, 6)\n"
          ],
          "name": "stdout"
        }
      ]
    },
    {
      "cell_type": "code",
      "metadata": {
        "colab": {
          "base_uri": "https://localhost:8080/"
        },
        "id": "KntzAAe0DTQa",
        "outputId": "22cd6497-7f67-49d0-887a-6a661daf7c7a"
      },
      "source": [
        "text.print_text_classifiers()"
      ],
      "execution_count": 6,
      "outputs": [
        {
          "output_type": "stream",
          "text": [
            "fasttext: a fastText-like model [http://arxiv.org/pdf/1607.01759.pdf]\n",
            "logreg: logistic regression using a trainable Embedding layer\n",
            "nbsvm: NBSVM model [http://www.aclweb.org/anthology/P12-2018]\n",
            "bigru: Bidirectional GRU with pretrained fasttext word vectors [https://fasttext.cc/docs/en/crawl-vectors.html]\n",
            "standard_gru: simple 2-layer GRU with randomly initialized embeddings\n",
            "bert: Bidirectional Encoder Representations from Transformers (BERT) from keras_bert [https://arxiv.org/abs/1810.04805]\n",
            "distilbert: distilled, smaller, and faster BERT from Hugging Face transformers [https://arxiv.org/abs/1910.01108]\n"
          ],
          "name": "stdout"
        }
      ]
    },
    {
      "cell_type": "code",
      "metadata": {
        "colab": {
          "base_uri": "https://localhost:8080/"
        },
        "id": "dua1cjJdGAgI",
        "outputId": "d03bb5c0-0ea7-4c25-8e46-7d4b9a837e8d"
      },
      "source": [
        "model = text.text_classifier('fasttext',train,preproc)"
      ],
      "execution_count": 10,
      "outputs": [
        {
          "output_type": "stream",
          "text": [
            "Is Multi-Label? True\n",
            "compiling word ID features...\n",
            "maxlen is 150\n",
            "done.\n"
          ],
          "name": "stdout"
        }
      ]
    },
    {
      "cell_type": "code",
      "metadata": {
        "colab": {
          "base_uri": "https://localhost:8080/"
        },
        "id": "W91kK0JuLGZJ",
        "outputId": "89a6297e-dc5e-4736-b986-580978c8e7b6"
      },
      "source": [
        "model.summary()"
      ],
      "execution_count": 27,
      "outputs": [
        {
          "output_type": "stream",
          "text": [
            "Model: \"sequential_1\"\n",
            "_________________________________________________________________\n",
            "Layer (type)                 Output Shape              Param #   \n",
            "=================================================================\n",
            "embedding_1 (Embedding)      (None, 150, 64)           3200000   \n",
            "_________________________________________________________________\n",
            "spatial_dropout1d_1 (Spatial (None, 150, 64)           0         \n",
            "_________________________________________________________________\n",
            "global_max_pooling1d_1 (Glob (None, 64)                0         \n",
            "_________________________________________________________________\n",
            "batch_normalization_1 (Batch (None, 64)                256       \n",
            "_________________________________________________________________\n",
            "dense_2 (Dense)              (None, 64)                4160      \n",
            "_________________________________________________________________\n",
            "dropout_1 (Dropout)          (None, 64)                0         \n",
            "_________________________________________________________________\n",
            "dense_3 (Dense)              (None, 6)                 390       \n",
            "=================================================================\n",
            "Total params: 3,204,806\n",
            "Trainable params: 3,204,678\n",
            "Non-trainable params: 128\n",
            "_________________________________________________________________\n"
          ],
          "name": "stdout"
        }
      ]
    },
    {
      "cell_type": "code",
      "metadata": {
        "id": "sDZZbZFeGAHg"
      },
      "source": [
        "learner = ktrain.get_learner(model, train, val)"
      ],
      "execution_count": 11,
      "outputs": []
    },
    {
      "cell_type": "code",
      "metadata": {
        "colab": {
          "base_uri": "https://localhost:8080/"
        },
        "id": "m6bfoafMF_zb",
        "outputId": "b0358f23-d9cc-4c1d-8ab6-be34920bc1f7"
      },
      "source": [
        "%time learner.autofit(0.001,2)"
      ],
      "execution_count": 12,
      "outputs": [
        {
          "output_type": "stream",
          "text": [
            "\n",
            "\n",
            "begin training using triangular learning rate policy with max lr of 0.001...\n",
            "Epoch 1/2\n",
            "4488/4488 [==============================] - 155s 34ms/step - loss: 0.3063 - accuracy: 0.5041 - val_loss: 0.0550 - val_accuracy: 0.9945\n",
            "Epoch 2/2\n",
            "4488/4488 [==============================] - 145s 32ms/step - loss: 0.0655 - accuracy: 0.9879 - val_loss: 0.0521 - val_accuracy: 0.9945\n",
            "CPU times: user 7min 45s, sys: 18.6 s, total: 8min 3s\n",
            "Wall time: 5min\n"
          ],
          "name": "stdout"
        },
        {
          "output_type": "execute_result",
          "data": {
            "text/plain": [
              "<tensorflow.python.keras.callbacks.History at 0x7f5cd5308f90>"
            ]
          },
          "metadata": {
            "tags": []
          },
          "execution_count": 12
        }
      ]
    },
    {
      "cell_type": "code",
      "metadata": {
        "id": "L45zB-I8H75L"
      },
      "source": [
        "predictor = ktrain.get_predictor(learner.model,preproc)"
      ],
      "execution_count": 13,
      "outputs": []
    },
    {
      "cell_type": "code",
      "metadata": {
        "colab": {
          "base_uri": "https://localhost:8080/"
        },
        "id": "ugmYQrNoH70B",
        "outputId": "7084b64d-5cfc-42c3-f8d1-ad68854534ab"
      },
      "source": [
        "predictor.predict(['Yor are amazing'])"
      ],
      "execution_count": 14,
      "outputs": [
        {
          "output_type": "execute_result",
          "data": {
            "text/plain": [
              "[[('toxic', 0.065121606),\n",
              "  ('severe_toxic', 1.7573222e-05),\n",
              "  ('obscene', 0.005370948),\n",
              "  ('threat', 0.00022455186),\n",
              "  ('insult', 0.00975184),\n",
              "  ('identity_hate', 0.00083664455)]]"
            ]
          },
          "metadata": {
            "tags": []
          },
          "execution_count": 14
        }
      ]
    },
    {
      "cell_type": "code",
      "metadata": {
        "colab": {
          "base_uri": "https://localhost:8080/"
        },
        "id": "yBDKLA2AH7ux",
        "outputId": "948520f9-71aa-4471-a2d9-2663bb35c937"
      },
      "source": [
        "predictor.predict(['I hate you , you are so crazy'])"
      ],
      "execution_count": 15,
      "outputs": [
        {
          "output_type": "execute_result",
          "data": {
            "text/plain": [
              "[[('toxic', 0.94043905),\n",
              "  ('severe_toxic', 0.07688414),\n",
              "  ('obscene', 0.58740044),\n",
              "  ('threat', 0.048209522),\n",
              "  ('insult', 0.5720059),\n",
              "  ('identity_hate', 0.1387509)]]"
            ]
          },
          "metadata": {
            "tags": []
          },
          "execution_count": 15
        }
      ]
    },
    {
      "cell_type": "code",
      "metadata": {
        "id": "D8CyNXRtH7pu"
      },
      "source": [
        "predictor.save('/content/fasttext')"
      ],
      "execution_count": 16,
      "outputs": []
    },
    {
      "cell_type": "code",
      "metadata": {
        "id": "pc0OMXP9_g3T"
      },
      "source": [
        "predictor = ktrain.load_predictor('fasttext')\n",
        "\n",
        "def get_prediction(x):\n",
        "\tpred = predictor.predict([x])\n",
        "\treturn pred[0]"
      ],
      "execution_count": 17,
      "outputs": []
    },
    {
      "cell_type": "code",
      "metadata": {
        "id": "ofbYVQOy_g3U"
      },
      "source": [
        "data = 'You are so stopid'"
      ],
      "execution_count": 18,
      "outputs": []
    },
    {
      "cell_type": "code",
      "metadata": {
        "id": "5t8F9MJG_g3U"
      },
      "source": [
        "pred = get_prediction(data)"
      ],
      "execution_count": 19,
      "outputs": []
    },
    {
      "cell_type": "code",
      "metadata": {
        "colab": {
          "base_uri": "https://localhost:8080/"
        },
        "id": "MvK3KXpt_g3V",
        "outputId": "3772d965-d1c8-4eaa-a83f-c201b452f7f3"
      },
      "source": [
        "pred"
      ],
      "execution_count": 20,
      "outputs": [
        {
          "output_type": "execute_result",
          "data": {
            "text/plain": [
              "[('toxic', 0.39305624),\n",
              " ('severe_toxic', 0.0012070052),\n",
              " ('obscene', 0.047301333),\n",
              " ('threat', 0.004651728),\n",
              " ('insult', 0.09258503),\n",
              " ('identity_hate', 0.009582117)]"
            ]
          },
          "metadata": {
            "tags": []
          },
          "execution_count": 20
        }
      ]
    },
    {
      "cell_type": "code",
      "metadata": {
        "id": "AZtie5Nw_g3W"
      },
      "source": [
        "import json"
      ],
      "execution_count": 21,
      "outputs": []
    },
    {
      "cell_type": "code",
      "metadata": {
        "id": "EayXI0jl_g3W"
      },
      "source": [
        "d = dict(pred)\n",
        "for key in d:\n",
        "    d[key] = str(d[key])"
      ],
      "execution_count": 22,
      "outputs": []
    },
    {
      "cell_type": "code",
      "metadata": {
        "colab": {
          "base_uri": "https://localhost:8080/"
        },
        "id": "G5ZRM78T_g3X",
        "outputId": "09d3ef99-dd6f-461f-fd20-bd4fee4634fd"
      },
      "source": [
        "d"
      ],
      "execution_count": 23,
      "outputs": [
        {
          "output_type": "execute_result",
          "data": {
            "text/plain": [
              "{'identity_hate': '0.009582117',\n",
              " 'insult': '0.09258503',\n",
              " 'obscene': '0.047301333',\n",
              " 'severe_toxic': '0.0012070052',\n",
              " 'threat': '0.004651728',\n",
              " 'toxic': '0.39305624'}"
            ]
          },
          "metadata": {
            "tags": []
          },
          "execution_count": 23
        }
      ]
    },
    {
      "cell_type": "code",
      "metadata": {
        "colab": {
          "base_uri": "https://localhost:8080/",
          "height": 37
        },
        "id": "DiswTzWV_g3X",
        "outputId": "990f5546-ec83-40e9-b9bb-69b146964fcc"
      },
      "source": [
        "json.dumps(d)"
      ],
      "execution_count": 24,
      "outputs": [
        {
          "output_type": "execute_result",
          "data": {
            "application/vnd.google.colaboratory.intrinsic+json": {
              "type": "string"
            },
            "text/plain": [
              "'{\"toxic\": \"0.39305624\", \"severe_toxic\": \"0.0012070052\", \"obscene\": \"0.047301333\", \"threat\": \"0.004651728\", \"insult\": \"0.09258503\", \"identity_hate\": \"0.009582117\"}'"
            ]
          },
          "metadata": {
            "tags": []
          },
          "execution_count": 24
        }
      ]
    },
    {
      "cell_type": "code",
      "metadata": {
        "id": "k_5Q9hkW_g3Y"
      },
      "source": [
        ""
      ],
      "execution_count": null,
      "outputs": []
    }
  ]
}