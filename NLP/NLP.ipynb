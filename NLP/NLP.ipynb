{
  "nbformat": 4,
  "nbformat_minor": 0,
  "metadata": {
    "kernelspec": {
      "display_name": "Python 3",
      "language": "python",
      "name": "python3"
    },
    "language_info": {
      "codemirror_mode": {
        "name": "ipython",
        "version": 3
      },
      "file_extension": ".py",
      "mimetype": "text/x-python",
      "name": "python",
      "nbconvert_exporter": "python",
      "pygments_lexer": "ipython3",
      "version": "3.7.6"
    },
    "colab": {
      "name": "NLP.ipynb",
      "provenance": []
    }
  },
  "cells": [
    {
      "cell_type": "code",
      "metadata": {
        "id": "hRgDpmnwTdxd"
      },
      "source": [
        ""
      ],
      "execution_count": null,
      "outputs": []
    },
    {
      "cell_type": "code",
      "metadata": {
        "id": "BaI-jSeWTdxl",
        "outputId": "bce472d4-2f26-4052-bfd2-c181d5e33bbe"
      },
      "source": [
        "import datetime\n",
        "print(datetime.datetime.now())"
      ],
      "execution_count": null,
      "outputs": [
        {
          "output_type": "stream",
          "text": [
            "2021-02-25 23:07:43.175430\n"
          ],
          "name": "stdout"
        }
      ]
    },
    {
      "cell_type": "code",
      "metadata": {
        "id": "WjF5o-fQTdxm"
      },
      "source": [
        "import pandas as pd\n",
        "import numpy as np\n",
        "\n",
        "import matplotlib\n",
        "import matplotlib.pyplot as plt\n",
        "import seaborn as sns "
      ],
      "execution_count": null,
      "outputs": []
    },
    {
      "cell_type": "code",
      "metadata": {
        "id": "mUNW2BjoTdxm"
      },
      "source": [
        "import re\n",
        "import string\n",
        "import unicodedata\n",
        "\n",
        "import nltk\n",
        "from nltk.corpus import stopwords\n",
        "from nltk import word_tokenize\n",
        "from nltk import word_tokenize, sent_tokenize\n",
        "from nltk.corpus import stopwords\n",
        "from nltk.stem import LancasterStemmer, WordNetLemmatizer\n",
        "\n",
        "from bs4 import BeautifulSoup\n",
        "\n",
        "import os\n",
        "\n",
        "from IPython.core.interactiveshell import InteractiveShell\n",
        "InteractiveShell.ast_node_interactivity = \"all\""
      ],
      "execution_count": null,
      "outputs": []
    },
    {
      "cell_type": "code",
      "metadata": {
        "id": "3PglzrmETdxm"
      },
      "source": [
        "s = \"  Hi, let's play with some code\""
      ],
      "execution_count": null,
      "outputs": []
    },
    {
      "cell_type": "markdown",
      "metadata": {
        "id": "4Dv_tPFsTdxn"
      },
      "source": [
        "## Case Normalization"
      ]
    },
    {
      "cell_type": "code",
      "metadata": {
        "id": "vdIKWlbmTdxn",
        "outputId": "f5f85f87-17fd-4e52-c28c-f065db30ba35"
      },
      "source": [
        "s.lower()"
      ],
      "execution_count": null,
      "outputs": [
        {
          "output_type": "execute_result",
          "data": {
            "text/plain": [
              "\"  hi, let's play with some code\""
            ]
          },
          "metadata": {
            "tags": []
          },
          "execution_count": 14
        }
      ]
    },
    {
      "cell_type": "markdown",
      "metadata": {
        "id": "boRIaTAUTdxo"
      },
      "source": [
        "## Tokenization\n",
        "For simple tokenzation, the NLTK docs recommend to just use .split()"
      ]
    },
    {
      "cell_type": "code",
      "metadata": {
        "id": "1wlaguMdTdxo",
        "outputId": "5f2fb803-737d-4e95-eb02-13e331416ff4"
      },
      "source": [
        "s.split()\n",
        "#return list"
      ],
      "execution_count": null,
      "outputs": [
        {
          "output_type": "execute_result",
          "data": {
            "text/plain": [
              "['Hi,', \"let's\", 'play', 'with', 'some', 'code']"
            ]
          },
          "metadata": {
            "tags": []
          },
          "execution_count": 15
        }
      ]
    },
    {
      "cell_type": "code",
      "metadata": {
        "id": "j_PUvI8cTdxp"
      },
      "source": [
        "#Can also use nltk's word_tokenize() function."
      ],
      "execution_count": null,
      "outputs": []
    },
    {
      "cell_type": "code",
      "metadata": {
        "id": "zQeLzCfxTdxp",
        "outputId": "33ea4193-7a9c-44e5-8db3-413501e9ecd3"
      },
      "source": [
        "import nltk\n",
        "nltk.download('punkt')"
      ],
      "execution_count": null,
      "outputs": [
        {
          "output_type": "stream",
          "text": [
            "[nltk_data] Downloading package punkt to\n",
            "[nltk_data]     /Users/maryamasghari/nltk_data...\n",
            "[nltk_data]   Package punkt is already up-to-date!\n"
          ],
          "name": "stderr"
        },
        {
          "output_type": "execute_result",
          "data": {
            "text/plain": [
              "True"
            ]
          },
          "metadata": {
            "tags": []
          },
          "execution_count": 17
        }
      ]
    },
    {
      "cell_type": "code",
      "metadata": {
        "id": "NAzoHbOcTdxp",
        "outputId": "9e8ddba0-94f4-4314-f4be-b8164ef949eb"
      },
      "source": [
        "from nltk import word_tokenize\n",
        "word_tokenize(s)"
      ],
      "execution_count": null,
      "outputs": [
        {
          "output_type": "execute_result",
          "data": {
            "text/plain": [
              "['Hi', ',', 'let', \"'s\", 'play', 'with', 'some', 'code']"
            ]
          },
          "metadata": {
            "tags": []
          },
          "execution_count": 18
        }
      ]
    },
    {
      "cell_type": "code",
      "metadata": {
        "id": "BPKbvStoTdxq",
        "outputId": "efdf7aef-c1d6-48f6-83f0-324c658a398f"
      },
      "source": [
        "word_tokenize(\"mary@gmail.com\")"
      ],
      "execution_count": null,
      "outputs": [
        {
          "output_type": "execute_result",
          "data": {
            "text/plain": [
              "['mary', '@', 'gmail.com']"
            ]
          },
          "metadata": {
            "tags": []
          },
          "execution_count": 19
        }
      ]
    },
    {
      "cell_type": "code",
      "metadata": {
        "id": "68RGiuWtTdxq",
        "outputId": "70550996-553f-4f71-c009-9461df499af9"
      },
      "source": [
        "word_tokenize(\"U.N , NYC , Let's go !\")"
      ],
      "execution_count": null,
      "outputs": [
        {
          "output_type": "execute_result",
          "data": {
            "text/plain": [
              "['U.N', ',', 'NYC', ',', 'Let', \"'s\", 'go', '!']"
            ]
          },
          "metadata": {
            "tags": []
          },
          "execution_count": 20
        }
      ]
    },
    {
      "cell_type": "markdown",
      "metadata": {
        "id": "C3kn1eQSTdxq"
      },
      "source": [
        "nltk even has a tokenizer for tweets!"
      ]
    },
    {
      "cell_type": "code",
      "metadata": {
        "id": "xPpmXo3uTdxr",
        "outputId": "29163514-7136-43e4-a995-ceefce505e28"
      },
      "source": [
        "from nltk.tokenize import TweetTokenizer\n",
        "tknzr = TweetTokenizer()\n",
        "s0 = \"This is a cooool #dummysmiley: :-) :-P <3 and some arrows < > -> <--\"\n",
        "tknzr.tokenize(s0)"
      ],
      "execution_count": null,
      "outputs": [
        {
          "output_type": "execute_result",
          "data": {
            "text/plain": [
              "['This',\n",
              " 'is',\n",
              " 'a',\n",
              " 'cooool',\n",
              " '#dummysmiley',\n",
              " ':',\n",
              " ':-)',\n",
              " ':-P',\n",
              " '<3',\n",
              " 'and',\n",
              " 'some',\n",
              " 'arrows',\n",
              " '<',\n",
              " '>',\n",
              " '->',\n",
              " '<--']"
            ]
          },
          "metadata": {
            "tags": []
          },
          "execution_count": 21
        }
      ]
    },
    {
      "cell_type": "markdown",
      "metadata": {
        "id": "tx6NjjGCTdxr"
      },
      "source": [
        "## N-Grams"
      ]
    },
    {
      "cell_type": "code",
      "metadata": {
        "id": "RoqrOIc6Tdxs",
        "outputId": "5e25e70b-daf3-491b-83c4-7ab0f177a374"
      },
      "source": [
        "#from nltk import word_tokenize                                                             \n",
        "from nltk.util import ngrams\n",
        "tokens = word_tokenize(\"Hey there, I am awesome.\")\n",
        "\n",
        "grams = ngrams(tokens,2)\n",
        "for grams in grams:\n",
        "  print(grams)\n",
        "\n",
        "grams = ngrams(tokens,3)\n",
        "for grams in grams:\n",
        "  print(grams)"
      ],
      "execution_count": null,
      "outputs": [
        {
          "output_type": "stream",
          "text": [
            "('Hey', 'there')\n",
            "('there', ',')\n",
            "(',', 'I')\n",
            "('I', 'am')\n",
            "('am', 'awesome')\n",
            "('awesome', '.')\n",
            "('Hey', 'there', ',')\n",
            "('there', ',', 'I')\n",
            "(',', 'I', 'am')\n",
            "('I', 'am', 'awesome')\n",
            "('am', 'awesome', '.')\n"
          ],
          "name": "stdout"
        }
      ]
    },
    {
      "cell_type": "markdown",
      "metadata": {
        "id": "8aZ3f6jMTdxt"
      },
      "source": [
        "## Removing Characters"
      ]
    },
    {
      "cell_type": "code",
      "metadata": {
        "id": "O_0gMoZ2Tdxu",
        "outputId": "1650c9e6-5a48-45dc-d0a5-ec67c599579d"
      },
      "source": [
        "import re\n",
        "s = \"Hey! Let's go ...\"\n",
        "#r tells python that this sttring contains a regular expression\n",
        "s = \"Hi Tom, let's go .. \"\n",
        "re.sub(r'Tom', 'Sam', s)\n",
        "re.sub(r'[^\\w\\s]', '', s)"
      ],
      "execution_count": null,
      "outputs": [
        {
          "output_type": "execute_result",
          "data": {
            "text/plain": [
              "\"Hi Sam, let's go .. \""
            ]
          },
          "metadata": {
            "tags": []
          },
          "execution_count": 23
        },
        {
          "output_type": "execute_result",
          "data": {
            "text/plain": [
              "'Hi Tom lets go  '"
            ]
          },
          "metadata": {
            "tags": []
          },
          "execution_count": 23
        }
      ]
    },
    {
      "cell_type": "code",
      "metadata": {
        "id": "ZFItpot7Tdxu",
        "outputId": "6adfcc5a-5067-4231-9575-9710b4c5924b"
      },
      "source": [
        "import unidecode\n",
        "# the u tells python that this string contains unicode characters \n",
        "s = u'Ábcdêãçoàúü'\n",
        "\n",
        "unidecode.unidecode(s)"
      ],
      "execution_count": null,
      "outputs": [
        {
          "output_type": "execute_result",
          "data": {
            "text/plain": [
              "'Abcdeacoauu'"
            ]
          },
          "metadata": {
            "tags": []
          },
          "execution_count": 24
        }
      ]
    },
    {
      "cell_type": "code",
      "metadata": {
        "id": "4zFMd22kTdxu",
        "outputId": "72d49cc8-54c5-4ace-c9b5-d16fec140b1e"
      },
      "source": [
        "import re\n",
        "#\\d means any number \n",
        "#+ means one or more time\n",
        "re.sub(r'\\d+','', 'I have 3 birds ')"
      ],
      "execution_count": null,
      "outputs": [
        {
          "output_type": "execute_result",
          "data": {
            "text/plain": [
              "'I have  birds '"
            ]
          },
          "metadata": {
            "tags": []
          },
          "execution_count": 25
        }
      ]
    },
    {
      "cell_type": "code",
      "metadata": {
        "id": "4-MWxCd-Tdxv",
        "outputId": "cea256ee-6a08-4322-d166-e56606c19a8a"
      },
      "source": [
        "sentences = [\n",
        "  \"Alejandrina has a small store in her house where she sells basic products. Translated from Spanish by Jennifer Day, Kiva Volunteer.\",\n",
        "  \"Nancy works as a saleswoman, her main product being used clothing.Translated from Spanish by Kiva Volunteer, Kristin Connor.\",\n",
        "  \"Marjorie sells lunch to companies and construction workers. Translated by Ramn F. Kolb.\"]\n",
        "\n",
        "[re.sub(r'Translated[^\\.]+\\.', '', s) for s in sentences]"
      ],
      "execution_count": null,
      "outputs": [
        {
          "output_type": "execute_result",
          "data": {
            "text/plain": [
              "['Alejandrina has a small store in her house where she sells basic products. ',\n",
              " 'Nancy works as a saleswoman, her main product being used clothing.',\n",
              " 'Marjorie sells lunch to companies and construction workers.  Kolb.']"
            ]
          },
          "metadata": {
            "tags": []
          },
          "execution_count": 26
        }
      ]
    },
    {
      "cell_type": "code",
      "metadata": {
        "id": "ZvV8lbkVTdxv",
        "outputId": "c80a959c-3838-4137-ec1c-ed62a7131ff9"
      },
      "source": [
        "import nltk\n",
        "nltk.download('wordnet')\n",
        "from nltk.stem import WordNetLemmatizer"
      ],
      "execution_count": null,
      "outputs": [
        {
          "output_type": "stream",
          "text": [
            "[nltk_data] Downloading package wordnet to\n",
            "[nltk_data]     /Users/maryamasghari/nltk_data...\n",
            "[nltk_data]   Package wordnet is already up-to-date!\n"
          ],
          "name": "stderr"
        },
        {
          "output_type": "execute_result",
          "data": {
            "text/plain": [
              "True"
            ]
          },
          "metadata": {
            "tags": []
          },
          "execution_count": 27
        }
      ]
    },
    {
      "cell_type": "code",
      "metadata": {
        "id": "m3beEHRGTdxw",
        "outputId": "871be7e9-b9c6-4110-e330-3f6d3c45e766"
      },
      "source": [
        "WordNetLemmatizer().lemmatize('works')\n"
      ],
      "execution_count": null,
      "outputs": [
        {
          "output_type": "execute_result",
          "data": {
            "text/plain": [
              "'work'"
            ]
          },
          "metadata": {
            "tags": []
          },
          "execution_count": 28
        }
      ]
    },
    {
      "cell_type": "code",
      "metadata": {
        "id": "lpZjTjftTdxw",
        "outputId": "c7bf6df5-7cc2-4966-ce83-8b8bd0bee3a8"
      },
      "source": [
        "WordNetLemmatizer().lemmatize('shelves')"
      ],
      "execution_count": null,
      "outputs": [
        {
          "output_type": "execute_result",
          "data": {
            "text/plain": [
              "'shelf'"
            ]
          },
          "metadata": {
            "tags": []
          },
          "execution_count": 29
        }
      ]
    },
    {
      "cell_type": "code",
      "metadata": {
        "id": "z1ZsVVIFTdxw",
        "outputId": "b6095945-0900-4a8d-c284-2b49321da199"
      },
      "source": [
        "from nltk.stem.porter import PorterStemmer\n",
        "PorterStemmer().stem('shelves')"
      ],
      "execution_count": null,
      "outputs": [
        {
          "output_type": "execute_result",
          "data": {
            "text/plain": [
              "'shelv'"
            ]
          },
          "metadata": {
            "tags": []
          },
          "execution_count": 30
        }
      ]
    },
    {
      "cell_type": "code",
      "metadata": {
        "id": "LoedD82GTdxx",
        "outputId": "4ace4cc6-8d5d-442e-9367-4c88a59d7324"
      },
      "source": [
        "PorterStemmer().stem('generously')"
      ],
      "execution_count": null,
      "outputs": [
        {
          "output_type": "execute_result",
          "data": {
            "text/plain": [
              "'gener'"
            ]
          },
          "metadata": {
            "tags": []
          },
          "execution_count": 31
        }
      ]
    },
    {
      "cell_type": "code",
      "metadata": {
        "id": "t5z7SPxVTdxx",
        "outputId": "c11a060b-a20e-4ef3-9131-9706563a27c0"
      },
      "source": [
        "from nltk.stem.snowball import SnowballStemmer\n",
        "SnowballStemmer('english').stem('generously')"
      ],
      "execution_count": null,
      "outputs": [
        {
          "output_type": "execute_result",
          "data": {
            "text/plain": [
              "'generous'"
            ]
          },
          "metadata": {
            "tags": []
          },
          "execution_count": 32
        }
      ]
    },
    {
      "cell_type": "code",
      "metadata": {
        "id": "CH34DK_RTdxx",
        "outputId": "ef7b4d45-e5d4-40fb-c17a-a22b79106e6a"
      },
      "source": [
        "from nltk.stem.lancaster import LancasterStemmer\n",
        "LancasterStemmer().stem('worked')"
      ],
      "execution_count": null,
      "outputs": [
        {
          "output_type": "execute_result",
          "data": {
            "text/plain": [
              "'work'"
            ]
          },
          "metadata": {
            "tags": []
          },
          "execution_count": 33
        }
      ]
    },
    {
      "cell_type": "code",
      "metadata": {
        "id": "yePyRMWbTdxx",
        "outputId": "46fd4dfc-3c82-4f88-e74d-01dc19bccba5"
      },
      "source": [
        "import nltk\n",
        "nltk.download('stopwords')"
      ],
      "execution_count": null,
      "outputs": [
        {
          "output_type": "stream",
          "text": [
            "[nltk_data] Downloading package stopwords to\n",
            "[nltk_data]     /Users/maryamasghari/nltk_data...\n",
            "[nltk_data]   Package stopwords is already up-to-date!\n"
          ],
          "name": "stderr"
        },
        {
          "output_type": "execute_result",
          "data": {
            "text/plain": [
              "True"
            ]
          },
          "metadata": {
            "tags": []
          },
          "execution_count": 34
        }
      ]
    },
    {
      "cell_type": "code",
      "metadata": {
        "id": "P2IOkIisTdxy",
        "outputId": "251011d4-04c9-4570-c65a-770dc7f17f0a"
      },
      "source": [
        "from nltk.corpus import stopwords\n",
        "import pprint\n",
        "pp = pprint.PrettyPrinter(width=80, compact=True)\n",
        "pp.pprint(sorted(stopwords.words('english')))"
      ],
      "execution_count": null,
      "outputs": [
        {
          "output_type": "stream",
          "text": [
            "['a', 'about', 'above', 'after', 'again', 'against', 'ain', 'all', 'am', 'an',\n",
            " 'and', 'any', 'are', 'aren', \"aren't\", 'as', 'at', 'be', 'because', 'been',\n",
            " 'before', 'being', 'below', 'between', 'both', 'but', 'by', 'can', 'couldn',\n",
            " \"couldn't\", 'd', 'did', 'didn', \"didn't\", 'do', 'does', 'doesn', \"doesn't\",\n",
            " 'doing', 'don', \"don't\", 'down', 'during', 'each', 'few', 'for', 'from',\n",
            " 'further', 'had', 'hadn', \"hadn't\", 'has', 'hasn', \"hasn't\", 'have', 'haven',\n",
            " \"haven't\", 'having', 'he', 'her', 'here', 'hers', 'herself', 'him', 'himself',\n",
            " 'his', 'how', 'i', 'if', 'in', 'into', 'is', 'isn', \"isn't\", 'it', \"it's\",\n",
            " 'its', 'itself', 'just', 'll', 'm', 'ma', 'me', 'mightn', \"mightn't\", 'more',\n",
            " 'most', 'mustn', \"mustn't\", 'my', 'myself', 'needn', \"needn't\", 'no', 'nor',\n",
            " 'not', 'now', 'o', 'of', 'off', 'on', 'once', 'only', 'or', 'other', 'our',\n",
            " 'ours', 'ourselves', 'out', 'over', 'own', 're', 's', 'same', 'shan', \"shan't\",\n",
            " 'she', \"she's\", 'should', \"should've\", 'shouldn', \"shouldn't\", 'so', 'some',\n",
            " 'such', 't', 'than', 'that', \"that'll\", 'the', 'their', 'theirs', 'them',\n",
            " 'themselves', 'then', 'there', 'these', 'they', 'this', 'those', 'through',\n",
            " 'to', 'too', 'under', 'until', 'up', 've', 'very', 'was', 'wasn', \"wasn't\",\n",
            " 'we', 'were', 'weren', \"weren't\", 'what', 'when', 'where', 'which', 'while',\n",
            " 'who', 'whom', 'why', 'will', 'with', 'won', \"won't\", 'wouldn', \"wouldn't\",\n",
            " 'y', 'you', \"you'd\", \"you'll\", \"you're\", \"you've\", 'your', 'yours', 'yourself',\n",
            " 'yourselves']\n"
          ],
          "name": "stdout"
        }
      ]
    },
    {
      "cell_type": "code",
      "metadata": {
        "id": "OWHslFsOTdxy",
        "outputId": "1e13a667-1768-4ca5-9efa-0d5f95591b8f"
      },
      "source": [
        "tokens = nltk.word_tokenize(\"My name is Mary, and I am a student.\".lower())\n",
        "#create a list of all words that are not stop words\n",
        "[t for t in tokens if t not in stopwords.words('english')]"
      ],
      "execution_count": null,
      "outputs": [
        {
          "output_type": "execute_result",
          "data": {
            "text/plain": [
              "['name', 'mary', ',', 'student', '.']"
            ]
          },
          "metadata": {
            "tags": []
          },
          "execution_count": 36
        }
      ]
    },
    {
      "cell_type": "code",
      "metadata": {
        "id": "7yKOJO7oTdxz",
        "outputId": "91a82991-aa0c-4d17-bb0e-7d5b8afc4e5b"
      },
      "source": [
        "from sklearn.feature_extraction.text import CountVectorizer\n",
        "\n",
        "myText = [\"This is a blue ball as a the quick text to vectorize in a simple way\",\n",
        "              \"the blue ball matrix\",\n",
        "              \"the quick matrix\"]\n",
        "\n",
        "\n",
        "tf_vectorizer = CountVectorizer(min_df=.5, max_df=.75, ngram_range=[1,3])\n",
        "dtm_tf = tf_vectorizer.fit_transform(myText)\n",
        "print(dtm_tf.shape)\n",
        "\n",
        "import pandas as pd\n",
        "df = pd.DataFrame(dtm_tf.toarray(), columns=tf_vectorizer.get_feature_names())\n",
        "df.head()"
      ],
      "execution_count": null,
      "outputs": [
        {
          "output_type": "stream",
          "text": [
            "(3, 6)\n"
          ],
          "name": "stdout"
        },
        {
          "output_type": "execute_result",
          "data": {
            "text/html": [
              "<div>\n",
              "<style scoped>\n",
              "    .dataframe tbody tr th:only-of-type {\n",
              "        vertical-align: middle;\n",
              "    }\n",
              "\n",
              "    .dataframe tbody tr th {\n",
              "        vertical-align: top;\n",
              "    }\n",
              "\n",
              "    .dataframe thead th {\n",
              "        text-align: right;\n",
              "    }\n",
              "</style>\n",
              "<table border=\"1\" class=\"dataframe\">\n",
              "  <thead>\n",
              "    <tr style=\"text-align: right;\">\n",
              "      <th></th>\n",
              "      <th>ball</th>\n",
              "      <th>blue</th>\n",
              "      <th>blue ball</th>\n",
              "      <th>matrix</th>\n",
              "      <th>quick</th>\n",
              "      <th>the quick</th>\n",
              "    </tr>\n",
              "  </thead>\n",
              "  <tbody>\n",
              "    <tr>\n",
              "      <th>0</th>\n",
              "      <td>1</td>\n",
              "      <td>1</td>\n",
              "      <td>1</td>\n",
              "      <td>0</td>\n",
              "      <td>1</td>\n",
              "      <td>1</td>\n",
              "    </tr>\n",
              "    <tr>\n",
              "      <th>1</th>\n",
              "      <td>1</td>\n",
              "      <td>1</td>\n",
              "      <td>1</td>\n",
              "      <td>1</td>\n",
              "      <td>0</td>\n",
              "      <td>0</td>\n",
              "    </tr>\n",
              "    <tr>\n",
              "      <th>2</th>\n",
              "      <td>0</td>\n",
              "      <td>0</td>\n",
              "      <td>0</td>\n",
              "      <td>1</td>\n",
              "      <td>1</td>\n",
              "      <td>1</td>\n",
              "    </tr>\n",
              "  </tbody>\n",
              "</table>\n",
              "</div>"
            ],
            "text/plain": [
              "   ball  blue  blue ball  matrix  quick  the quick\n",
              "0     1     1          1       0      1          1\n",
              "1     1     1          1       1      0          0\n",
              "2     0     0          0       1      1          1"
            ]
          },
          "metadata": {
            "tags": []
          },
          "execution_count": 37
        }
      ]
    },
    {
      "cell_type": "code",
      "metadata": {
        "id": "PvuaZNHaTdx1",
        "outputId": "a3b90d5d-2d32-47fb-da79-8aecd7edd9bb"
      },
      "source": [
        "import os\n",
        "in_dir = \"/Users/maryamasghari/Documents/GitHub/NLP_course/data\"\n",
        "#out_dir = \"C:/Users/st50/Documents/sandbox/out\"\n",
        "\n",
        "kiva_df=pd.read_csv(os.path.join(in_dir, \"kiva_50.csv\"))\n",
        "#kiva_df = kiva_df.sample(frac=0.1)\n",
        "\n",
        "kiva_df.dropna(inplace=True)\n",
        "list(kiva_df)\n",
        "kiva_df.shape\n",
        "kiva_df.head()\n",
        "kiva_df.tail()"
      ],
      "execution_count": null,
      "outputs": [
        {
          "output_type": "execute_result",
          "data": {
            "text/plain": [
              "['status', 'sector', 'en', 'country', 'gender', 'loan_amount', 'nonpayment']"
            ]
          },
          "metadata": {
            "tags": []
          },
          "execution_count": 38
        },
        {
          "output_type": "execute_result",
          "data": {
            "text/plain": [
              "(3935, 7)"
            ]
          },
          "metadata": {
            "tags": []
          },
          "execution_count": 38
        },
        {
          "output_type": "execute_result",
          "data": {
            "text/html": [
              "<div>\n",
              "<style scoped>\n",
              "    .dataframe tbody tr th:only-of-type {\n",
              "        vertical-align: middle;\n",
              "    }\n",
              "\n",
              "    .dataframe tbody tr th {\n",
              "        vertical-align: top;\n",
              "    }\n",
              "\n",
              "    .dataframe thead th {\n",
              "        text-align: right;\n",
              "    }\n",
              "</style>\n",
              "<table border=\"1\" class=\"dataframe\">\n",
              "  <thead>\n",
              "    <tr style=\"text-align: right;\">\n",
              "      <th></th>\n",
              "      <th>status</th>\n",
              "      <th>sector</th>\n",
              "      <th>en</th>\n",
              "      <th>country</th>\n",
              "      <th>gender</th>\n",
              "      <th>loan_amount</th>\n",
              "      <th>nonpayment</th>\n",
              "    </tr>\n",
              "  </thead>\n",
              "  <tbody>\n",
              "    <tr>\n",
              "      <th>0</th>\n",
              "      <td>paid</td>\n",
              "      <td>Agriculture</td>\n",
              "      <td>&lt;p style=\"margin: 0in 0in 0pt\" class=\"MsoNorma...</td>\n",
              "      <td>Kenya</td>\n",
              "      <td>F</td>\n",
              "      <td>600.0</td>\n",
              "      <td>partner</td>\n",
              "    </tr>\n",
              "    <tr>\n",
              "      <th>1</th>\n",
              "      <td>paid</td>\n",
              "      <td>Retail</td>\n",
              "      <td>Louise Njambi Ndungu is 39 years old. She is m...</td>\n",
              "      <td>Kenya</td>\n",
              "      <td>F</td>\n",
              "      <td>800.0</td>\n",
              "      <td>partner</td>\n",
              "    </tr>\n",
              "    <tr>\n",
              "      <th>2</th>\n",
              "      <td>paid</td>\n",
              "      <td>Retail</td>\n",
              "      <td>Oscar Owino is an average-aged man who is marr...</td>\n",
              "      <td>Kenya</td>\n",
              "      <td>M</td>\n",
              "      <td>1275.0</td>\n",
              "      <td>lender</td>\n",
              "    </tr>\n",
              "    <tr>\n",
              "      <th>3</th>\n",
              "      <td>defaulted</td>\n",
              "      <td>Food</td>\n",
              "      <td>Dorcas Wairimu is 35 years old, married, and h...</td>\n",
              "      <td>Kenya</td>\n",
              "      <td>F</td>\n",
              "      <td>600.0</td>\n",
              "      <td>lender</td>\n",
              "    </tr>\n",
              "    <tr>\n",
              "      <th>4</th>\n",
              "      <td>paid</td>\n",
              "      <td>Clothing</td>\n",
              "      <td>Maria is a woman who started over 5 years ago ...</td>\n",
              "      <td>Dominican Republic</td>\n",
              "      <td>F</td>\n",
              "      <td>375.0</td>\n",
              "      <td>partner</td>\n",
              "    </tr>\n",
              "  </tbody>\n",
              "</table>\n",
              "</div>"
            ],
            "text/plain": [
              "      status       sector                                                 en  \\\n",
              "0       paid  Agriculture  <p style=\"margin: 0in 0in 0pt\" class=\"MsoNorma...   \n",
              "1       paid       Retail  Louise Njambi Ndungu is 39 years old. She is m...   \n",
              "2       paid       Retail  Oscar Owino is an average-aged man who is marr...   \n",
              "3  defaulted         Food  Dorcas Wairimu is 35 years old, married, and h...   \n",
              "4       paid     Clothing  Maria is a woman who started over 5 years ago ...   \n",
              "\n",
              "              country gender  loan_amount nonpayment  \n",
              "0               Kenya      F        600.0    partner  \n",
              "1               Kenya      F        800.0    partner  \n",
              "2               Kenya      M       1275.0     lender  \n",
              "3               Kenya      F        600.0     lender  \n",
              "4  Dominican Republic      F        375.0    partner  "
            ]
          },
          "metadata": {
            "tags": []
          },
          "execution_count": 38
        },
        {
          "output_type": "execute_result",
          "data": {
            "text/html": [
              "<div>\n",
              "<style scoped>\n",
              "    .dataframe tbody tr th:only-of-type {\n",
              "        vertical-align: middle;\n",
              "    }\n",
              "\n",
              "    .dataframe tbody tr th {\n",
              "        vertical-align: top;\n",
              "    }\n",
              "\n",
              "    .dataframe thead th {\n",
              "        text-align: right;\n",
              "    }\n",
              "</style>\n",
              "<table border=\"1\" class=\"dataframe\">\n",
              "  <thead>\n",
              "    <tr style=\"text-align: right;\">\n",
              "      <th></th>\n",
              "      <th>status</th>\n",
              "      <th>sector</th>\n",
              "      <th>en</th>\n",
              "      <th>country</th>\n",
              "      <th>gender</th>\n",
              "      <th>loan_amount</th>\n",
              "      <th>nonpayment</th>\n",
              "    </tr>\n",
              "  </thead>\n",
              "  <tbody>\n",
              "    <tr>\n",
              "      <th>3989</th>\n",
              "      <td>paid</td>\n",
              "      <td>Food</td>\n",
              "      <td>Mara Maribel, a humorous but hard-working woma...</td>\n",
              "      <td>Dominican Republic</td>\n",
              "      <td>F</td>\n",
              "      <td>950.0</td>\n",
              "      <td>partner</td>\n",
              "    </tr>\n",
              "    <tr>\n",
              "      <th>3990</th>\n",
              "      <td>defaulted</td>\n",
              "      <td>Agriculture</td>\n",
              "      <td>Sarah is 40 years old. She is married and has ...</td>\n",
              "      <td>Kenya</td>\n",
              "      <td>F</td>\n",
              "      <td>300.0</td>\n",
              "      <td>lender</td>\n",
              "    </tr>\n",
              "    <tr>\n",
              "      <th>3991</th>\n",
              "      <td>defaulted</td>\n",
              "      <td>Food</td>\n",
              "      <td>Ann Wangare Kamau, aged 43 years, is married w...</td>\n",
              "      <td>Kenya</td>\n",
              "      <td>F</td>\n",
              "      <td>1200.0</td>\n",
              "      <td>lender</td>\n",
              "    </tr>\n",
              "    <tr>\n",
              "      <th>3992</th>\n",
              "      <td>paid</td>\n",
              "      <td>Food</td>\n",
              "      <td>&lt;p&gt;Martha is asking for a second loan after ha...</td>\n",
              "      <td>Ecuador</td>\n",
              "      <td>F</td>\n",
              "      <td>1175.0</td>\n",
              "      <td>partner</td>\n",
              "    </tr>\n",
              "    <tr>\n",
              "      <th>3993</th>\n",
              "      <td>paid</td>\n",
              "      <td>Food</td>\n",
              "      <td>Alejandrina sells empanadas, pts, sandwiches a...</td>\n",
              "      <td>Dominican Republic</td>\n",
              "      <td>F</td>\n",
              "      <td>450.0</td>\n",
              "      <td>partner</td>\n",
              "    </tr>\n",
              "  </tbody>\n",
              "</table>\n",
              "</div>"
            ],
            "text/plain": [
              "         status       sector  \\\n",
              "3989       paid         Food   \n",
              "3990  defaulted  Agriculture   \n",
              "3991  defaulted         Food   \n",
              "3992       paid         Food   \n",
              "3993       paid         Food   \n",
              "\n",
              "                                                     en             country  \\\n",
              "3989  Mara Maribel, a humorous but hard-working woma...  Dominican Republic   \n",
              "3990  Sarah is 40 years old. She is married and has ...               Kenya   \n",
              "3991  Ann Wangare Kamau, aged 43 years, is married w...               Kenya   \n",
              "3992  <p>Martha is asking for a second loan after ha...             Ecuador   \n",
              "3993  Alejandrina sells empanadas, pts, sandwiches a...  Dominican Republic   \n",
              "\n",
              "     gender  loan_amount nonpayment  \n",
              "3989      F        950.0    partner  \n",
              "3990      F        300.0     lender  \n",
              "3991      F       1200.0     lender  \n",
              "3992      F       1175.0    partner  \n",
              "3993      F        450.0    partner  "
            ]
          },
          "metadata": {
            "tags": []
          },
          "execution_count": 38
        }
      ]
    },
    {
      "cell_type": "code",
      "metadata": {
        "id": "9fBFqwnoTdx1",
        "outputId": "3651817a-3823-4880-f7a0-63cdfa523c73"
      },
      "source": [
        "from nltk.corpus import stopwords \n",
        "from bs4 import BeautifulSoup\n",
        "\n",
        "stop_words = set(stopwords.words('english') + stopwords.words('spanish'))\n",
        "\n",
        "lemmer = WordNetLemmatizer()\n",
        "\n",
        "def preprocess(x):\n",
        "    # Remove HTML tags\n",
        "    x = BeautifulSoup(x, \"lxml\").get_text()\n",
        "\n",
        "    # Lower case\n",
        "    x = x.lower()\n",
        "    \n",
        "    # Remove punctuation\n",
        "    x = re.sub(r'[^\\w\\s]', '', x)\n",
        "    \n",
        "    # Remove non-unicode\n",
        "    x = unidecode.unidecode(x)\n",
        "    \n",
        "    # Remove numbers\n",
        "    x = re.sub(r'\\d+', '', x)\n",
        "    \n",
        "    # Remove stopwords and lemmatize\n",
        "    x = [lemmer.lemmatize(w) for w in x.split() if w not in stop_words]\n",
        "    return ' '.join(x) \n",
        "\n",
        "%time kiva_df['en_clean'] = kiva_df['en'].apply(preprocess)\n",
        "kiva_df.head()"
      ],
      "execution_count": null,
      "outputs": [
        {
          "output_type": "stream",
          "text": [
            "CPU times: user 2.21 s, sys: 14.7 ms, total: 2.23 s\n",
            "Wall time: 2.23 s\n"
          ],
          "name": "stdout"
        },
        {
          "output_type": "execute_result",
          "data": {
            "text/html": [
              "<div>\n",
              "<style scoped>\n",
              "    .dataframe tbody tr th:only-of-type {\n",
              "        vertical-align: middle;\n",
              "    }\n",
              "\n",
              "    .dataframe tbody tr th {\n",
              "        vertical-align: top;\n",
              "    }\n",
              "\n",
              "    .dataframe thead th {\n",
              "        text-align: right;\n",
              "    }\n",
              "</style>\n",
              "<table border=\"1\" class=\"dataframe\">\n",
              "  <thead>\n",
              "    <tr style=\"text-align: right;\">\n",
              "      <th></th>\n",
              "      <th>status</th>\n",
              "      <th>sector</th>\n",
              "      <th>en</th>\n",
              "      <th>country</th>\n",
              "      <th>gender</th>\n",
              "      <th>loan_amount</th>\n",
              "      <th>nonpayment</th>\n",
              "      <th>en_clean</th>\n",
              "    </tr>\n",
              "  </thead>\n",
              "  <tbody>\n",
              "    <tr>\n",
              "      <th>0</th>\n",
              "      <td>paid</td>\n",
              "      <td>Agriculture</td>\n",
              "      <td>&lt;p style=\"margin: 0in 0in 0pt\" class=\"MsoNorma...</td>\n",
              "      <td>Kenya</td>\n",
              "      <td>F</td>\n",
              "      <td>600.0</td>\n",
              "      <td>partner</td>\n",
              "      <td>jane year old widow child two local technical ...</td>\n",
              "    </tr>\n",
              "    <tr>\n",
              "      <th>1</th>\n",
              "      <td>paid</td>\n",
              "      <td>Retail</td>\n",
              "      <td>Louise Njambi Ndungu is 39 years old. She is m...</td>\n",
              "      <td>Kenya</td>\n",
              "      <td>F</td>\n",
              "      <td>800.0</td>\n",
              "      <td>partner</td>\n",
              "      <td>louise njambi ndungu year old married four chi...</td>\n",
              "    </tr>\n",
              "    <tr>\n",
              "      <th>2</th>\n",
              "      <td>paid</td>\n",
              "      <td>Retail</td>\n",
              "      <td>Oscar Owino is an average-aged man who is marr...</td>\n",
              "      <td>Kenya</td>\n",
              "      <td>M</td>\n",
              "      <td>1275.0</td>\n",
              "      <td>lender</td>\n",
              "      <td>oscar owino averageaged man married wife six c...</td>\n",
              "    </tr>\n",
              "    <tr>\n",
              "      <th>3</th>\n",
              "      <td>defaulted</td>\n",
              "      <td>Food</td>\n",
              "      <td>Dorcas Wairimu is 35 years old, married, and h...</td>\n",
              "      <td>Kenya</td>\n",
              "      <td>F</td>\n",
              "      <td>600.0</td>\n",
              "      <td>lender</td>\n",
              "      <td>dorcas wairimu year old married child child sc...</td>\n",
              "    </tr>\n",
              "    <tr>\n",
              "      <th>4</th>\n",
              "      <td>paid</td>\n",
              "      <td>Clothing</td>\n",
              "      <td>Maria is a woman who started over 5 years ago ...</td>\n",
              "      <td>Dominican Republic</td>\n",
              "      <td>F</td>\n",
              "      <td>375.0</td>\n",
              "      <td>partner</td>\n",
              "      <td>maria woman started year ago selling clothes n...</td>\n",
              "    </tr>\n",
              "  </tbody>\n",
              "</table>\n",
              "</div>"
            ],
            "text/plain": [
              "      status       sector                                                 en  \\\n",
              "0       paid  Agriculture  <p style=\"margin: 0in 0in 0pt\" class=\"MsoNorma...   \n",
              "1       paid       Retail  Louise Njambi Ndungu is 39 years old. She is m...   \n",
              "2       paid       Retail  Oscar Owino is an average-aged man who is marr...   \n",
              "3  defaulted         Food  Dorcas Wairimu is 35 years old, married, and h...   \n",
              "4       paid     Clothing  Maria is a woman who started over 5 years ago ...   \n",
              "\n",
              "              country gender  loan_amount nonpayment  \\\n",
              "0               Kenya      F        600.0    partner   \n",
              "1               Kenya      F        800.0    partner   \n",
              "2               Kenya      M       1275.0     lender   \n",
              "3               Kenya      F        600.0     lender   \n",
              "4  Dominican Republic      F        375.0    partner   \n",
              "\n",
              "                                            en_clean  \n",
              "0  jane year old widow child two local technical ...  \n",
              "1  louise njambi ndungu year old married four chi...  \n",
              "2  oscar owino averageaged man married wife six c...  \n",
              "3  dorcas wairimu year old married child child sc...  \n",
              "4  maria woman started year ago selling clothes n...  "
            ]
          },
          "metadata": {
            "tags": []
          },
          "execution_count": 39
        }
      ]
    },
    {
      "cell_type": "code",
      "metadata": {
        "id": "YiZpR5n0Tdx2",
        "outputId": "d93e7df8-dafd-4c8c-d98f-90e90c5bfe46"
      },
      "source": [
        "from sklearn.feature_extraction.text import TfidfVectorizer, CountVectorizer\n",
        "\n",
        "no_features = 1000\n",
        "\n",
        "tf_vectorizer = CountVectorizer(min_df=.05, max_df=.5, max_features=no_features, ngram_range=[1,3])\n",
        "%time dtm_tf = tf_vectorizer.fit_transform(kiva_df['en_clean'])\n",
        "print(dtm_tf.shape)"
      ],
      "execution_count": null,
      "outputs": [
        {
          "output_type": "stream",
          "text": [
            "CPU times: user 1.59 s, sys: 74.7 ms, total: 1.66 s\n",
            "Wall time: 1.67 s\n",
            "(3935, 343)\n"
          ],
          "name": "stdout"
        }
      ]
    },
    {
      "cell_type": "code",
      "metadata": {
        "id": "AUXAngPKTdx3",
        "outputId": "af421389-1131-4d6f-ac00-1ec9715439a2"
      },
      "source": [
        "df = pd.DataFrame(dtm_tf.toarray(), columns=tf_vectorizer.get_feature_names())\n",
        "df.head()"
      ],
      "execution_count": null,
      "outputs": [
        {
          "output_type": "execute_result",
          "data": {
            "text/html": [
              "<div>\n",
              "<style scoped>\n",
              "    .dataframe tbody tr th:only-of-type {\n",
              "        vertical-align: middle;\n",
              "    }\n",
              "\n",
              "    .dataframe tbody tr th {\n",
              "        vertical-align: top;\n",
              "    }\n",
              "\n",
              "    .dataframe thead th {\n",
              "        text-align: right;\n",
              "    }\n",
              "</style>\n",
              "<table border=\"1\" class=\"dataframe\">\n",
              "  <thead>\n",
              "    <tr style=\"text-align: right;\">\n",
              "      <th></th>\n",
              "      <th>able</th>\n",
              "      <th>access</th>\n",
              "      <th>access business</th>\n",
              "      <th>access business training</th>\n",
              "      <th>active</th>\n",
              "      <th>active member</th>\n",
              "      <th>activity</th>\n",
              "      <th>add</th>\n",
              "      <th>additional</th>\n",
              "      <th>age</th>\n",
              "      <th>...</th>\n",
              "      <th>working</th>\n",
              "      <th>would</th>\n",
              "      <th>would like</th>\n",
              "      <th>wwwmifexorg</th>\n",
              "      <th>year ago</th>\n",
              "      <th>year experience</th>\n",
              "      <th>year old</th>\n",
              "      <th>year old married</th>\n",
              "      <th>yearold</th>\n",
              "      <th>young</th>\n",
              "    </tr>\n",
              "  </thead>\n",
              "  <tbody>\n",
              "    <tr>\n",
              "      <th>0</th>\n",
              "      <td>1</td>\n",
              "      <td>0</td>\n",
              "      <td>0</td>\n",
              "      <td>0</td>\n",
              "      <td>0</td>\n",
              "      <td>0</td>\n",
              "      <td>0</td>\n",
              "      <td>0</td>\n",
              "      <td>0</td>\n",
              "      <td>0</td>\n",
              "      <td>...</td>\n",
              "      <td>0</td>\n",
              "      <td>0</td>\n",
              "      <td>0</td>\n",
              "      <td>0</td>\n",
              "      <td>0</td>\n",
              "      <td>0</td>\n",
              "      <td>1</td>\n",
              "      <td>0</td>\n",
              "      <td>0</td>\n",
              "      <td>0</td>\n",
              "    </tr>\n",
              "    <tr>\n",
              "      <th>1</th>\n",
              "      <td>1</td>\n",
              "      <td>0</td>\n",
              "      <td>0</td>\n",
              "      <td>0</td>\n",
              "      <td>0</td>\n",
              "      <td>0</td>\n",
              "      <td>0</td>\n",
              "      <td>1</td>\n",
              "      <td>1</td>\n",
              "      <td>0</td>\n",
              "      <td>...</td>\n",
              "      <td>0</td>\n",
              "      <td>1</td>\n",
              "      <td>0</td>\n",
              "      <td>0</td>\n",
              "      <td>0</td>\n",
              "      <td>0</td>\n",
              "      <td>1</td>\n",
              "      <td>1</td>\n",
              "      <td>0</td>\n",
              "      <td>0</td>\n",
              "    </tr>\n",
              "    <tr>\n",
              "      <th>2</th>\n",
              "      <td>2</td>\n",
              "      <td>0</td>\n",
              "      <td>0</td>\n",
              "      <td>0</td>\n",
              "      <td>0</td>\n",
              "      <td>0</td>\n",
              "      <td>0</td>\n",
              "      <td>1</td>\n",
              "      <td>1</td>\n",
              "      <td>0</td>\n",
              "      <td>...</td>\n",
              "      <td>1</td>\n",
              "      <td>0</td>\n",
              "      <td>0</td>\n",
              "      <td>0</td>\n",
              "      <td>1</td>\n",
              "      <td>0</td>\n",
              "      <td>0</td>\n",
              "      <td>0</td>\n",
              "      <td>0</td>\n",
              "      <td>0</td>\n",
              "    </tr>\n",
              "    <tr>\n",
              "      <th>3</th>\n",
              "      <td>1</td>\n",
              "      <td>0</td>\n",
              "      <td>0</td>\n",
              "      <td>0</td>\n",
              "      <td>0</td>\n",
              "      <td>0</td>\n",
              "      <td>0</td>\n",
              "      <td>1</td>\n",
              "      <td>0</td>\n",
              "      <td>0</td>\n",
              "      <td>...</td>\n",
              "      <td>1</td>\n",
              "      <td>0</td>\n",
              "      <td>0</td>\n",
              "      <td>0</td>\n",
              "      <td>0</td>\n",
              "      <td>0</td>\n",
              "      <td>1</td>\n",
              "      <td>1</td>\n",
              "      <td>0</td>\n",
              "      <td>1</td>\n",
              "    </tr>\n",
              "    <tr>\n",
              "      <th>4</th>\n",
              "      <td>0</td>\n",
              "      <td>0</td>\n",
              "      <td>0</td>\n",
              "      <td>0</td>\n",
              "      <td>0</td>\n",
              "      <td>0</td>\n",
              "      <td>0</td>\n",
              "      <td>0</td>\n",
              "      <td>0</td>\n",
              "      <td>0</td>\n",
              "      <td>...</td>\n",
              "      <td>0</td>\n",
              "      <td>0</td>\n",
              "      <td>0</td>\n",
              "      <td>0</td>\n",
              "      <td>1</td>\n",
              "      <td>0</td>\n",
              "      <td>0</td>\n",
              "      <td>0</td>\n",
              "      <td>0</td>\n",
              "      <td>0</td>\n",
              "    </tr>\n",
              "  </tbody>\n",
              "</table>\n",
              "<p>5 rows × 343 columns</p>\n",
              "</div>"
            ],
            "text/plain": [
              "   able  access  access business  access business training  active  \\\n",
              "0     1       0                0                         0       0   \n",
              "1     1       0                0                         0       0   \n",
              "2     2       0                0                         0       0   \n",
              "3     1       0                0                         0       0   \n",
              "4     0       0                0                         0       0   \n",
              "\n",
              "   active member  activity  add  additional  age  ...  working  would  \\\n",
              "0              0         0    0           0    0  ...        0      0   \n",
              "1              0         0    1           1    0  ...        0      1   \n",
              "2              0         0    1           1    0  ...        1      0   \n",
              "3              0         0    1           0    0  ...        1      0   \n",
              "4              0         0    0           0    0  ...        0      0   \n",
              "\n",
              "   would like  wwwmifexorg  year ago  year experience  year old  \\\n",
              "0           0            0         0                0         1   \n",
              "1           0            0         0                0         1   \n",
              "2           0            0         1                0         0   \n",
              "3           0            0         0                0         1   \n",
              "4           0            0         1                0         0   \n",
              "\n",
              "   year old married  yearold  young  \n",
              "0                 0        0      0  \n",
              "1                 1        0      0  \n",
              "2                 0        0      0  \n",
              "3                 1        0      1  \n",
              "4                 0        0      0  \n",
              "\n",
              "[5 rows x 343 columns]"
            ]
          },
          "metadata": {
            "tags": []
          },
          "execution_count": 41
        }
      ]
    },
    {
      "cell_type": "code",
      "metadata": {
        "id": "TidSd5leTdx3",
        "outputId": "8133b4a6-73d5-4dd6-8167-1f71f8747e0d"
      },
      "source": [
        "# Calculate column sums from DTM\n",
        "sum_words = dtm_tf.sum(axis=0) \n",
        "words_freq = [(word, sum_words[0, idx]) for word, idx in tf_vectorizer.vocabulary_.items()]\n",
        "\n",
        "# Now, sort them\n",
        "words_freq =sorted(words_freq, key = lambda x: x[1], reverse=True)\n",
        "\n",
        "# Display top few\n",
        "words_freq[:20]"
      ],
      "execution_count": null,
      "outputs": [
        {
          "output_type": "execute_result",
          "data": {
            "text/plain": [
              "[('buy', 2650),\n",
              " ('school', 2619),\n",
              " ('group', 2517),\n",
              " ('also', 2490),\n",
              " ('family', 2342),\n",
              " ('able', 2258),\n",
              " ('old', 1990),\n",
              " ('work', 1921),\n",
              " ('one', 1883),\n",
              " ('two', 1858),\n",
              " ('year old', 1855),\n",
              " ('small', 1844),\n",
              " ('product', 1803),\n",
              " ('help', 1736),\n",
              " ('husband', 1725),\n",
              " ('member', 1638),\n",
              " ('woman', 1610),\n",
              " ('married', 1583),\n",
              " ('income', 1575),\n",
              " ('life', 1570)]"
            ]
          },
          "metadata": {
            "tags": []
          },
          "execution_count": 42
        }
      ]
    },
    {
      "cell_type": "code",
      "metadata": {
        "id": "GxghKVyUTdx3",
        "outputId": "59b8594b-d3e2-4bf7-b532-2347c0c2239e"
      },
      "source": [
        "from yellowbrick.text import FreqDistVisualizer\n",
        "\n",
        "plt.figure(figsize=(5,8))\n",
        "visualizer = FreqDistVisualizer(features=tf_vectorizer.get_feature_names(), n=25)\n",
        "visualizer.fit(dtm_tf)\n",
        "visualizer.poof()"
      ],
      "execution_count": null,
      "outputs": [
        {
          "output_type": "execute_result",
          "data": {
            "text/plain": [
              "<Figure size 360x576 with 0 Axes>"
            ]
          },
          "metadata": {
            "tags": []
          },
          "execution_count": 43
        },
        {
          "output_type": "stream",
          "text": [
            "/Users/maryamasghari/opt/anaconda3/lib/python3.7/site-packages/sklearn/base.py:197: FutureWarning: From version 0.24, get_params will raise an AttributeError if a parameter cannot be retrieved as an instance attribute. Previously it would return None.\n",
            "  FutureWarning)\n"
          ],
          "name": "stderr"
        },
        {
          "output_type": "execute_result",
          "data": {
            "text/plain": [
              "FrequencyVisualizer(ax=<matplotlib.axes._subplots.AxesSubplot object at 0x7fe6dbb6d150>,\n",
              "                    color=None,\n",
              "                    features=['able', 'access', 'access business',\n",
              "                              'access business training', 'active',\n",
              "                              'active member', 'activity', 'add', 'additional',\n",
              "                              'age', 'ago', 'allow', 'already', 'also',\n",
              "                              'always', 'amount', 'another', 'applied', 'area',\n",
              "                              'attend', 'back', 'bank', 'basic', 'bean',\n",
              "                              'began', 'belief', 'better', 'born', 'bought',\n",
              "                              'bulk', ...],\n",
              "                    n=None, orient='h')"
            ]
          },
          "metadata": {
            "tags": []
          },
          "execution_count": 43
        },
        {
          "output_type": "display_data",
          "data": {
            "image/png": "[encoded data removed]",
            "text/plain": [
              "<Figure size 360x576 with 1 Axes>"
            ]
          },
          "metadata": {
            "tags": []
          }
        },
        {
          "output_type": "execute_result",
          "data": {
            "text/plain": [
              "<matplotlib.axes._subplots.AxesSubplot at 0x7fe6dbb6d150>"
            ]
          },
          "metadata": {
            "tags": []
          },
          "execution_count": 43
        }
      ]
    },
    {
      "cell_type": "code",
      "metadata": {
        "id": "rOHjoU4vTdx4"
      },
      "source": [
        "#/Users/maryamasghari/opt/anaconda3/bin/python -m pip install --upgrade pip"
      ],
      "execution_count": null,
      "outputs": []
    },
    {
      "cell_type": "code",
      "metadata": {
        "id": "p-MnE0ITTdx4",
        "outputId": "87531cc8-8c67-4b1c-fb90-c3c8caac9cd1"
      },
      "source": [
        "from yellowbrick.text import TSNEVisualizer\n",
        "\n",
        "tsne = TSNEVisualizer(random_state=123)\n",
        "tsne.fit(dtm_tf, kiva_df['status'])\n",
        "tsne.poof()"
      ],
      "execution_count": null,
      "outputs": [
        {
          "output_type": "stream",
          "text": [
            "'c' argument looks like a single numeric RGB or RGBA sequence, which should be avoided as value-mapping will have precedence in case its length matches with 'x' & 'y'.  Please use a 2-D array with a single row if you really want to specify the same RGB or RGBA value for all points.\n",
            "'c' argument looks like a single numeric RGB or RGBA sequence, which should be avoided as value-mapping will have precedence in case its length matches with 'x' & 'y'.  Please use a 2-D array with a single row if you really want to specify the same RGB or RGBA value for all points.\n",
            "/Users/maryamasghari/opt/anaconda3/lib/python3.7/site-packages/sklearn/base.py:197: FutureWarning: From version 0.24, get_params will raise an AttributeError if a parameter cannot be retrieved as an instance attribute. Previously it would return None.\n",
            "  FutureWarning)\n"
          ],
          "name": "stderr"
        },
        {
          "output_type": "execute_result",
          "data": {
            "text/plain": [
              "TSNEVisualizer(alpha=0.7,\n",
              "               ax=<matplotlib.axes._subplots.AxesSubplot object at 0x7fe6dcbc23d0>,\n",
              "               classes=None, colormap=None, colors=None, decompose=None,\n",
              "               decompose_by=None, labels=None, random_state=123)"
            ]
          },
          "metadata": {
            "tags": []
          },
          "execution_count": 47
        },
        {
          "output_type": "display_data",
          "data": {
            "image/png": "[encoded data removed]",
            "text/plain": [
              "<Figure size 576x396 with 1 Axes>"
            ]
          },
          "metadata": {
            "tags": []
          }
        },
        {
          "output_type": "execute_result",
          "data": {
            "text/plain": [
              "<matplotlib.axes._subplots.AxesSubplot at 0x7fe6dcbc23d0>"
            ]
          },
          "metadata": {
            "tags": []
          },
          "execution_count": 47
        }
      ]
    },
    {
      "cell_type": "markdown",
      "metadata": {
        "id": "fXQAWNPVTdx4"
      },
      "source": [
        "\n",
        "Vectorization\n",
        "Using the cleaned Kiva data from above, we'll try a few different methods:\n",
        "BOW (with raw TF, and TF-IDF)\n",
        "Feature hashing\n",
        "Topics\n",
        "GloVe\n"
      ]
    },
    {
      "cell_type": "code",
      "metadata": {
        "id": "GtmMl5zpTdx4"
      },
      "source": [
        "BOW - TF"
      ],
      "execution_count": null,
      "outputs": []
    },
    {
      "cell_type": "code",
      "metadata": {
        "id": "pyWq1GqdTdx5",
        "outputId": "19cd50ba-38e5-4900-deb0-0e254232904d"
      },
      "source": [
        "from sklearn.feature_extraction.text import CountVectorizer\n",
        "\n",
        "tf_vectorizer = CountVectorizer(min_df=.05, max_df=.5, ngram_range=[1,3])\n",
        "%time dtm_tf = tf_vectorizer.fit_transform(kiva_df['en_clean'])\n",
        "\n",
        "bow_df = pd.DataFrame(dtm_tf.toarray(), columns=tf_vectorizer.get_feature_names(), index=kiva_df.index)\n",
        "bow_df.shape\n",
        "\n",
        "kiva_df_bow = pd.concat([kiva_df, bow_df], axis=1)\n",
        "kiva_df_bow.drop(columns=['en', 'en_clean'], inplace=True)\n",
        "kiva_df_bow.shape\n",
        "kiva_df_bow.head()\n",
        "kiva_df_bow.tail()"
      ],
      "execution_count": null,
      "outputs": [
        {
          "output_type": "stream",
          "text": [
            "CPU times: user 1.69 s, sys: 64.8 ms, total: 1.75 s\n",
            "Wall time: 1.75 s\n"
          ],
          "name": "stdout"
        },
        {
          "output_type": "execute_result",
          "data": {
            "text/plain": [
              "(3935, 343)"
            ]
          },
          "metadata": {
            "tags": []
          },
          "execution_count": 48
        },
        {
          "output_type": "execute_result",
          "data": {
            "text/plain": [
              "(3935, 349)"
            ]
          },
          "metadata": {
            "tags": []
          },
          "execution_count": 48
        },
        {
          "output_type": "execute_result",
          "data": {
            "text/html": [
              "<div>\n",
              "<style scoped>\n",
              "    .dataframe tbody tr th:only-of-type {\n",
              "        vertical-align: middle;\n",
              "    }\n",
              "\n",
              "    .dataframe tbody tr th {\n",
              "        vertical-align: top;\n",
              "    }\n",
              "\n",
              "    .dataframe thead th {\n",
              "        text-align: right;\n",
              "    }\n",
              "</style>\n",
              "<table border=\"1\" class=\"dataframe\">\n",
              "  <thead>\n",
              "    <tr style=\"text-align: right;\">\n",
              "      <th></th>\n",
              "      <th>status</th>\n",
              "      <th>sector</th>\n",
              "      <th>country</th>\n",
              "      <th>gender</th>\n",
              "      <th>loan_amount</th>\n",
              "      <th>nonpayment</th>\n",
              "      <th>able</th>\n",
              "      <th>access</th>\n",
              "      <th>access business</th>\n",
              "      <th>access business training</th>\n",
              "      <th>...</th>\n",
              "      <th>working</th>\n",
              "      <th>would</th>\n",
              "      <th>would like</th>\n",
              "      <th>wwwmifexorg</th>\n",
              "      <th>year ago</th>\n",
              "      <th>year experience</th>\n",
              "      <th>year old</th>\n",
              "      <th>year old married</th>\n",
              "      <th>yearold</th>\n",
              "      <th>young</th>\n",
              "    </tr>\n",
              "  </thead>\n",
              "  <tbody>\n",
              "    <tr>\n",
              "      <th>0</th>\n",
              "      <td>paid</td>\n",
              "      <td>Agriculture</td>\n",
              "      <td>Kenya</td>\n",
              "      <td>F</td>\n",
              "      <td>600.0</td>\n",
              "      <td>partner</td>\n",
              "      <td>1</td>\n",
              "      <td>0</td>\n",
              "      <td>0</td>\n",
              "      <td>0</td>\n",
              "      <td>...</td>\n",
              "      <td>0</td>\n",
              "      <td>0</td>\n",
              "      <td>0</td>\n",
              "      <td>0</td>\n",
              "      <td>0</td>\n",
              "      <td>0</td>\n",
              "      <td>1</td>\n",
              "      <td>0</td>\n",
              "      <td>0</td>\n",
              "      <td>0</td>\n",
              "    </tr>\n",
              "    <tr>\n",
              "      <th>1</th>\n",
              "      <td>paid</td>\n",
              "      <td>Retail</td>\n",
              "      <td>Kenya</td>\n",
              "      <td>F</td>\n",
              "      <td>800.0</td>\n",
              "      <td>partner</td>\n",
              "      <td>1</td>\n",
              "      <td>0</td>\n",
              "      <td>0</td>\n",
              "      <td>0</td>\n",
              "      <td>...</td>\n",
              "      <td>0</td>\n",
              "      <td>1</td>\n",
              "      <td>0</td>\n",
              "      <td>0</td>\n",
              "      <td>0</td>\n",
              "      <td>0</td>\n",
              "      <td>1</td>\n",
              "      <td>1</td>\n",
              "      <td>0</td>\n",
              "      <td>0</td>\n",
              "    </tr>\n",
              "    <tr>\n",
              "      <th>2</th>\n",
              "      <td>paid</td>\n",
              "      <td>Retail</td>\n",
              "      <td>Kenya</td>\n",
              "      <td>M</td>\n",
              "      <td>1275.0</td>\n",
              "      <td>lender</td>\n",
              "      <td>2</td>\n",
              "      <td>0</td>\n",
              "      <td>0</td>\n",
              "      <td>0</td>\n",
              "      <td>...</td>\n",
              "      <td>1</td>\n",
              "      <td>0</td>\n",
              "      <td>0</td>\n",
              "      <td>0</td>\n",
              "      <td>1</td>\n",
              "      <td>0</td>\n",
              "      <td>0</td>\n",
              "      <td>0</td>\n",
              "      <td>0</td>\n",
              "      <td>0</td>\n",
              "    </tr>\n",
              "    <tr>\n",
              "      <th>3</th>\n",
              "      <td>defaulted</td>\n",
              "      <td>Food</td>\n",
              "      <td>Kenya</td>\n",
              "      <td>F</td>\n",
              "      <td>600.0</td>\n",
              "      <td>lender</td>\n",
              "      <td>1</td>\n",
              "      <td>0</td>\n",
              "      <td>0</td>\n",
              "      <td>0</td>\n",
              "      <td>...</td>\n",
              "      <td>1</td>\n",
              "      <td>0</td>\n",
              "      <td>0</td>\n",
              "      <td>0</td>\n",
              "      <td>0</td>\n",
              "      <td>0</td>\n",
              "      <td>1</td>\n",
              "      <td>1</td>\n",
              "      <td>0</td>\n",
              "      <td>1</td>\n",
              "    </tr>\n",
              "    <tr>\n",
              "      <th>4</th>\n",
              "      <td>paid</td>\n",
              "      <td>Clothing</td>\n",
              "      <td>Dominican Republic</td>\n",
              "      <td>F</td>\n",
              "      <td>375.0</td>\n",
              "      <td>partner</td>\n",
              "      <td>0</td>\n",
              "      <td>0</td>\n",
              "      <td>0</td>\n",
              "      <td>0</td>\n",
              "      <td>...</td>\n",
              "      <td>0</td>\n",
              "      <td>0</td>\n",
              "      <td>0</td>\n",
              "      <td>0</td>\n",
              "      <td>1</td>\n",
              "      <td>0</td>\n",
              "      <td>0</td>\n",
              "      <td>0</td>\n",
              "      <td>0</td>\n",
              "      <td>0</td>\n",
              "    </tr>\n",
              "  </tbody>\n",
              "</table>\n",
              "<p>5 rows × 349 columns</p>\n",
              "</div>"
            ],
            "text/plain": [
              "      status       sector             country gender  loan_amount nonpayment  \\\n",
              "0       paid  Agriculture               Kenya      F        600.0    partner   \n",
              "1       paid       Retail               Kenya      F        800.0    partner   \n",
              "2       paid       Retail               Kenya      M       1275.0     lender   \n",
              "3  defaulted         Food               Kenya      F        600.0     lender   \n",
              "4       paid     Clothing  Dominican Republic      F        375.0    partner   \n",
              "\n",
              "   able  access  access business  access business training  ...  working  \\\n",
              "0     1       0                0                         0  ...        0   \n",
              "1     1       0                0                         0  ...        0   \n",
              "2     2       0                0                         0  ...        1   \n",
              "3     1       0                0                         0  ...        1   \n",
              "4     0       0                0                         0  ...        0   \n",
              "\n",
              "   would  would like  wwwmifexorg  year ago  year experience  year old  \\\n",
              "0      0           0            0         0                0         1   \n",
              "1      1           0            0         0                0         1   \n",
              "2      0           0            0         1                0         0   \n",
              "3      0           0            0         0                0         1   \n",
              "4      0           0            0         1                0         0   \n",
              "\n",
              "   year old married  yearold  young  \n",
              "0                 0        0      0  \n",
              "1                 1        0      0  \n",
              "2                 0        0      0  \n",
              "3                 1        0      1  \n",
              "4                 0        0      0  \n",
              "\n",
              "[5 rows x 349 columns]"
            ]
          },
          "metadata": {
            "tags": []
          },
          "execution_count": 48
        },
        {
          "output_type": "execute_result",
          "data": {
            "text/html": [
              "<div>\n",
              "<style scoped>\n",
              "    .dataframe tbody tr th:only-of-type {\n",
              "        vertical-align: middle;\n",
              "    }\n",
              "\n",
              "    .dataframe tbody tr th {\n",
              "        vertical-align: top;\n",
              "    }\n",
              "\n",
              "    .dataframe thead th {\n",
              "        text-align: right;\n",
              "    }\n",
              "</style>\n",
              "<table border=\"1\" class=\"dataframe\">\n",
              "  <thead>\n",
              "    <tr style=\"text-align: right;\">\n",
              "      <th></th>\n",
              "      <th>status</th>\n",
              "      <th>sector</th>\n",
              "      <th>country</th>\n",
              "      <th>gender</th>\n",
              "      <th>loan_amount</th>\n",
              "      <th>nonpayment</th>\n",
              "      <th>able</th>\n",
              "      <th>access</th>\n",
              "      <th>access business</th>\n",
              "      <th>access business training</th>\n",
              "      <th>...</th>\n",
              "      <th>working</th>\n",
              "      <th>would</th>\n",
              "      <th>would like</th>\n",
              "      <th>wwwmifexorg</th>\n",
              "      <th>year ago</th>\n",
              "      <th>year experience</th>\n",
              "      <th>year old</th>\n",
              "      <th>year old married</th>\n",
              "      <th>yearold</th>\n",
              "      <th>young</th>\n",
              "    </tr>\n",
              "  </thead>\n",
              "  <tbody>\n",
              "    <tr>\n",
              "      <th>3989</th>\n",
              "      <td>paid</td>\n",
              "      <td>Food</td>\n",
              "      <td>Dominican Republic</td>\n",
              "      <td>F</td>\n",
              "      <td>950.0</td>\n",
              "      <td>partner</td>\n",
              "      <td>0</td>\n",
              "      <td>0</td>\n",
              "      <td>0</td>\n",
              "      <td>0</td>\n",
              "      <td>...</td>\n",
              "      <td>0</td>\n",
              "      <td>1</td>\n",
              "      <td>1</td>\n",
              "      <td>0</td>\n",
              "      <td>0</td>\n",
              "      <td>0</td>\n",
              "      <td>0</td>\n",
              "      <td>0</td>\n",
              "      <td>0</td>\n",
              "      <td>0</td>\n",
              "    </tr>\n",
              "    <tr>\n",
              "      <th>3990</th>\n",
              "      <td>defaulted</td>\n",
              "      <td>Agriculture</td>\n",
              "      <td>Kenya</td>\n",
              "      <td>F</td>\n",
              "      <td>300.0</td>\n",
              "      <td>lender</td>\n",
              "      <td>0</td>\n",
              "      <td>0</td>\n",
              "      <td>0</td>\n",
              "      <td>0</td>\n",
              "      <td>...</td>\n",
              "      <td>0</td>\n",
              "      <td>0</td>\n",
              "      <td>0</td>\n",
              "      <td>0</td>\n",
              "      <td>0</td>\n",
              "      <td>0</td>\n",
              "      <td>1</td>\n",
              "      <td>1</td>\n",
              "      <td>0</td>\n",
              "      <td>0</td>\n",
              "    </tr>\n",
              "    <tr>\n",
              "      <th>3991</th>\n",
              "      <td>defaulted</td>\n",
              "      <td>Food</td>\n",
              "      <td>Kenya</td>\n",
              "      <td>F</td>\n",
              "      <td>1200.0</td>\n",
              "      <td>lender</td>\n",
              "      <td>0</td>\n",
              "      <td>0</td>\n",
              "      <td>0</td>\n",
              "      <td>0</td>\n",
              "      <td>...</td>\n",
              "      <td>0</td>\n",
              "      <td>0</td>\n",
              "      <td>0</td>\n",
              "      <td>0</td>\n",
              "      <td>1</td>\n",
              "      <td>0</td>\n",
              "      <td>0</td>\n",
              "      <td>0</td>\n",
              "      <td>0</td>\n",
              "      <td>0</td>\n",
              "    </tr>\n",
              "    <tr>\n",
              "      <th>3992</th>\n",
              "      <td>paid</td>\n",
              "      <td>Food</td>\n",
              "      <td>Ecuador</td>\n",
              "      <td>F</td>\n",
              "      <td>1175.0</td>\n",
              "      <td>partner</td>\n",
              "      <td>2</td>\n",
              "      <td>1</td>\n",
              "      <td>1</td>\n",
              "      <td>1</td>\n",
              "      <td>...</td>\n",
              "      <td>0</td>\n",
              "      <td>1</td>\n",
              "      <td>0</td>\n",
              "      <td>1</td>\n",
              "      <td>0</td>\n",
              "      <td>0</td>\n",
              "      <td>0</td>\n",
              "      <td>0</td>\n",
              "      <td>0</td>\n",
              "      <td>0</td>\n",
              "    </tr>\n",
              "    <tr>\n",
              "      <th>3993</th>\n",
              "      <td>paid</td>\n",
              "      <td>Food</td>\n",
              "      <td>Dominican Republic</td>\n",
              "      <td>F</td>\n",
              "      <td>450.0</td>\n",
              "      <td>partner</td>\n",
              "      <td>0</td>\n",
              "      <td>0</td>\n",
              "      <td>0</td>\n",
              "      <td>0</td>\n",
              "      <td>...</td>\n",
              "      <td>1</td>\n",
              "      <td>0</td>\n",
              "      <td>0</td>\n",
              "      <td>0</td>\n",
              "      <td>0</td>\n",
              "      <td>0</td>\n",
              "      <td>0</td>\n",
              "      <td>0</td>\n",
              "      <td>1</td>\n",
              "      <td>0</td>\n",
              "    </tr>\n",
              "  </tbody>\n",
              "</table>\n",
              "<p>5 rows × 349 columns</p>\n",
              "</div>"
            ],
            "text/plain": [
              "         status       sector             country gender  loan_amount  \\\n",
              "3989       paid         Food  Dominican Republic      F        950.0   \n",
              "3990  defaulted  Agriculture               Kenya      F        300.0   \n",
              "3991  defaulted         Food               Kenya      F       1200.0   \n",
              "3992       paid         Food             Ecuador      F       1175.0   \n",
              "3993       paid         Food  Dominican Republic      F        450.0   \n",
              "\n",
              "     nonpayment  able  access  access business  access business training  ...  \\\n",
              "3989    partner     0       0                0                         0  ...   \n",
              "3990     lender     0       0                0                         0  ...   \n",
              "3991     lender     0       0                0                         0  ...   \n",
              "3992    partner     2       1                1                         1  ...   \n",
              "3993    partner     0       0                0                         0  ...   \n",
              "\n",
              "      working  would  would like  wwwmifexorg  year ago  year experience  \\\n",
              "3989        0      1           1            0         0                0   \n",
              "3990        0      0           0            0         0                0   \n",
              "3991        0      0           0            0         1                0   \n",
              "3992        0      1           0            1         0                0   \n",
              "3993        1      0           0            0         0                0   \n",
              "\n",
              "      year old  year old married  yearold  young  \n",
              "3989         0                 0        0      0  \n",
              "3990         1                 1        0      0  \n",
              "3991         0                 0        0      0  \n",
              "3992         0                 0        0      0  \n",
              "3993         0                 0        1      0  \n",
              "\n",
              "[5 rows x 349 columns]"
            ]
          },
          "metadata": {
            "tags": []
          },
          "execution_count": 48
        }
      ]
    },
    {
      "cell_type": "markdown",
      "metadata": {
        "id": "LnVCUahQTdx5"
      },
      "source": [
        "BOW - TF-IDF"
      ]
    },
    {
      "cell_type": "code",
      "metadata": {
        "id": "mF9c1bvmTdx6",
        "outputId": "c44ff3c3-22b9-4d02-c056-71e060230ce5"
      },
      "source": [
        "from sklearn.feature_extraction.text import TfidfVectorizer\n",
        "\n",
        "tfidf_vectorizer = TfidfVectorizer(min_df=.05, max_df=.5, ngram_range=[1,3])\n",
        "%time dtm_tfidf = tfidf_vectorizer.fit_transform(kiva_df['en_clean'])\n",
        "\n",
        "bow_df_tfidf = pd.DataFrame(dtm_tfidf.toarray(), columns=tfidf_vectorizer.get_feature_names(), index=kiva_df.index)\n",
        "bow_df_tfidf.shape\n",
        "\n",
        "kiva_df_bow_tfidf = pd.concat([kiva_df, bow_df_tfidf], axis=1)\n",
        "kiva_df_bow_tfidf.drop(columns=['en', 'en_clean'], inplace=True)\n",
        "kiva_df_bow_tfidf.shape\n",
        "kiva_df_bow_tfidf.head()"
      ],
      "execution_count": null,
      "outputs": [
        {
          "output_type": "stream",
          "text": [
            "CPU times: user 1.69 s, sys: 66.9 ms, total: 1.76 s\n",
            "Wall time: 1.76 s\n"
          ],
          "name": "stdout"
        },
        {
          "output_type": "execute_result",
          "data": {
            "text/plain": [
              "(3935, 343)"
            ]
          },
          "metadata": {
            "tags": []
          },
          "execution_count": 49
        },
        {
          "output_type": "execute_result",
          "data": {
            "text/plain": [
              "(3935, 349)"
            ]
          },
          "metadata": {
            "tags": []
          },
          "execution_count": 49
        },
        {
          "output_type": "execute_result",
          "data": {
            "text/html": [
              "<div>\n",
              "<style scoped>\n",
              "    .dataframe tbody tr th:only-of-type {\n",
              "        vertical-align: middle;\n",
              "    }\n",
              "\n",
              "    .dataframe tbody tr th {\n",
              "        vertical-align: top;\n",
              "    }\n",
              "\n",
              "    .dataframe thead th {\n",
              "        text-align: right;\n",
              "    }\n",
              "</style>\n",
              "<table border=\"1\" class=\"dataframe\">\n",
              "  <thead>\n",
              "    <tr style=\"text-align: right;\">\n",
              "      <th></th>\n",
              "      <th>status</th>\n",
              "      <th>sector</th>\n",
              "      <th>country</th>\n",
              "      <th>gender</th>\n",
              "      <th>loan_amount</th>\n",
              "      <th>nonpayment</th>\n",
              "      <th>able</th>\n",
              "      <th>access</th>\n",
              "      <th>access business</th>\n",
              "      <th>access business training</th>\n",
              "      <th>...</th>\n",
              "      <th>working</th>\n",
              "      <th>would</th>\n",
              "      <th>would like</th>\n",
              "      <th>wwwmifexorg</th>\n",
              "      <th>year ago</th>\n",
              "      <th>year experience</th>\n",
              "      <th>year old</th>\n",
              "      <th>year old married</th>\n",
              "      <th>yearold</th>\n",
              "      <th>young</th>\n",
              "    </tr>\n",
              "  </thead>\n",
              "  <tbody>\n",
              "    <tr>\n",
              "      <th>0</th>\n",
              "      <td>paid</td>\n",
              "      <td>Agriculture</td>\n",
              "      <td>Kenya</td>\n",
              "      <td>F</td>\n",
              "      <td>600.0</td>\n",
              "      <td>partner</td>\n",
              "      <td>0.138710</td>\n",
              "      <td>0.0</td>\n",
              "      <td>0.0</td>\n",
              "      <td>0.0</td>\n",
              "      <td>...</td>\n",
              "      <td>0.000000</td>\n",
              "      <td>0.000000</td>\n",
              "      <td>0.0</td>\n",
              "      <td>0.0</td>\n",
              "      <td>0.000000</td>\n",
              "      <td>0.0</td>\n",
              "      <td>0.132831</td>\n",
              "      <td>0.000000</td>\n",
              "      <td>0.0</td>\n",
              "      <td>0.000000</td>\n",
              "    </tr>\n",
              "    <tr>\n",
              "      <th>1</th>\n",
              "      <td>paid</td>\n",
              "      <td>Retail</td>\n",
              "      <td>Kenya</td>\n",
              "      <td>F</td>\n",
              "      <td>800.0</td>\n",
              "      <td>partner</td>\n",
              "      <td>0.072572</td>\n",
              "      <td>0.0</td>\n",
              "      <td>0.0</td>\n",
              "      <td>0.0</td>\n",
              "      <td>...</td>\n",
              "      <td>0.000000</td>\n",
              "      <td>0.100787</td>\n",
              "      <td>0.0</td>\n",
              "      <td>0.0</td>\n",
              "      <td>0.000000</td>\n",
              "      <td>0.0</td>\n",
              "      <td>0.069496</td>\n",
              "      <td>0.111673</td>\n",
              "      <td>0.0</td>\n",
              "      <td>0.000000</td>\n",
              "    </tr>\n",
              "    <tr>\n",
              "      <th>2</th>\n",
              "      <td>paid</td>\n",
              "      <td>Retail</td>\n",
              "      <td>Kenya</td>\n",
              "      <td>M</td>\n",
              "      <td>1275.0</td>\n",
              "      <td>lender</td>\n",
              "      <td>0.153667</td>\n",
              "      <td>0.0</td>\n",
              "      <td>0.0</td>\n",
              "      <td>0.0</td>\n",
              "      <td>...</td>\n",
              "      <td>0.121463</td>\n",
              "      <td>0.000000</td>\n",
              "      <td>0.0</td>\n",
              "      <td>0.0</td>\n",
              "      <td>0.113950</td>\n",
              "      <td>0.0</td>\n",
              "      <td>0.000000</td>\n",
              "      <td>0.000000</td>\n",
              "      <td>0.0</td>\n",
              "      <td>0.000000</td>\n",
              "    </tr>\n",
              "    <tr>\n",
              "      <th>3</th>\n",
              "      <td>defaulted</td>\n",
              "      <td>Food</td>\n",
              "      <td>Kenya</td>\n",
              "      <td>F</td>\n",
              "      <td>600.0</td>\n",
              "      <td>lender</td>\n",
              "      <td>0.067666</td>\n",
              "      <td>0.0</td>\n",
              "      <td>0.0</td>\n",
              "      <td>0.0</td>\n",
              "      <td>...</td>\n",
              "      <td>0.106970</td>\n",
              "      <td>0.000000</td>\n",
              "      <td>0.0</td>\n",
              "      <td>0.0</td>\n",
              "      <td>0.000000</td>\n",
              "      <td>0.0</td>\n",
              "      <td>0.064798</td>\n",
              "      <td>0.104124</td>\n",
              "      <td>0.0</td>\n",
              "      <td>0.112026</td>\n",
              "    </tr>\n",
              "    <tr>\n",
              "      <th>4</th>\n",
              "      <td>paid</td>\n",
              "      <td>Clothing</td>\n",
              "      <td>Dominican Republic</td>\n",
              "      <td>F</td>\n",
              "      <td>375.0</td>\n",
              "      <td>partner</td>\n",
              "      <td>0.000000</td>\n",
              "      <td>0.0</td>\n",
              "      <td>0.0</td>\n",
              "      <td>0.0</td>\n",
              "      <td>...</td>\n",
              "      <td>0.000000</td>\n",
              "      <td>0.000000</td>\n",
              "      <td>0.0</td>\n",
              "      <td>0.0</td>\n",
              "      <td>0.174692</td>\n",
              "      <td>0.0</td>\n",
              "      <td>0.000000</td>\n",
              "      <td>0.000000</td>\n",
              "      <td>0.0</td>\n",
              "      <td>0.000000</td>\n",
              "    </tr>\n",
              "  </tbody>\n",
              "</table>\n",
              "<p>5 rows × 349 columns</p>\n",
              "</div>"
            ],
            "text/plain": [
              "      status       sector             country gender  loan_amount nonpayment  \\\n",
              "0       paid  Agriculture               Kenya      F        600.0    partner   \n",
              "1       paid       Retail               Kenya      F        800.0    partner   \n",
              "2       paid       Retail               Kenya      M       1275.0     lender   \n",
              "3  defaulted         Food               Kenya      F        600.0     lender   \n",
              "4       paid     Clothing  Dominican Republic      F        375.0    partner   \n",
              "\n",
              "       able  access  access business  access business training  ...   working  \\\n",
              "0  0.138710     0.0              0.0                       0.0  ...  0.000000   \n",
              "1  0.072572     0.0              0.0                       0.0  ...  0.000000   \n",
              "2  0.153667     0.0              0.0                       0.0  ...  0.121463   \n",
              "3  0.067666     0.0              0.0                       0.0  ...  0.106970   \n",
              "4  0.000000     0.0              0.0                       0.0  ...  0.000000   \n",
              "\n",
              "      would  would like  wwwmifexorg  year ago  year experience  year old  \\\n",
              "0  0.000000         0.0          0.0  0.000000              0.0  0.132831   \n",
              "1  0.100787         0.0          0.0  0.000000              0.0  0.069496   \n",
              "2  0.000000         0.0          0.0  0.113950              0.0  0.000000   \n",
              "3  0.000000         0.0          0.0  0.000000              0.0  0.064798   \n",
              "4  0.000000         0.0          0.0  0.174692              0.0  0.000000   \n",
              "\n",
              "   year old married  yearold     young  \n",
              "0          0.000000      0.0  0.000000  \n",
              "1          0.111673      0.0  0.000000  \n",
              "2          0.000000      0.0  0.000000  \n",
              "3          0.104124      0.0  0.112026  \n",
              "4          0.000000      0.0  0.000000  \n",
              "\n",
              "[5 rows x 349 columns]"
            ]
          },
          "metadata": {
            "tags": []
          },
          "execution_count": 49
        }
      ]
    },
    {
      "cell_type": "markdown",
      "metadata": {
        "id": "a8WKNkqDTdx6"
      },
      "source": [
        "Feature Hashing\n",
        "Simple Example"
      ]
    },
    {
      "cell_type": "code",
      "metadata": {
        "id": "6_07P4Z6Tdx6",
        "outputId": "607ac58e-b271-4e22-f8d1-17e5e6a3d339"
      },
      "source": [
        "from sklearn.feature_extraction.text import HashingVectorizer\n",
        "\n",
        "docs = [\"my dog loves your dog\",\n",
        "        \"your dog loves the park\",\n",
        "        \"my dog and your dog love fleas\"]\n",
        "\n",
        "h_vectorizer = HashingVectorizer(n_features=2**3, ngram_range=[1,1], norm=None, alternate_sign=False)\n",
        "dtm_h = h_vectorizer.fit_transform(docs)\n",
        "dtm_h.toarray()\n",
        "bow_df_h = pd.DataFrame(dtm_h.toarray())\n",
        "bow_df_h.shape\n",
        "bow_df_h.head()"
      ],
      "execution_count": null,
      "outputs": [
        {
          "output_type": "execute_result",
          "data": {
            "text/plain": [
              "array([[0., 0., 1., 0., 1., 2., 0., 1.],\n",
              "       [0., 0., 0., 1., 1., 1., 1., 1.],\n",
              "       [0., 1., 2., 0., 1., 3., 0., 0.]])"
            ]
          },
          "metadata": {
            "tags": []
          },
          "execution_count": 52
        },
        {
          "output_type": "execute_result",
          "data": {
            "text/plain": [
              "(3, 8)"
            ]
          },
          "metadata": {
            "tags": []
          },
          "execution_count": 52
        },
        {
          "output_type": "execute_result",
          "data": {
            "text/html": [
              "<div>\n",
              "<style scoped>\n",
              "    .dataframe tbody tr th:only-of-type {\n",
              "        vertical-align: middle;\n",
              "    }\n",
              "\n",
              "    .dataframe tbody tr th {\n",
              "        vertical-align: top;\n",
              "    }\n",
              "\n",
              "    .dataframe thead th {\n",
              "        text-align: right;\n",
              "    }\n",
              "</style>\n",
              "<table border=\"1\" class=\"dataframe\">\n",
              "  <thead>\n",
              "    <tr style=\"text-align: right;\">\n",
              "      <th></th>\n",
              "      <th>0</th>\n",
              "      <th>1</th>\n",
              "      <th>2</th>\n",
              "      <th>3</th>\n",
              "      <th>4</th>\n",
              "      <th>5</th>\n",
              "      <th>6</th>\n",
              "      <th>7</th>\n",
              "    </tr>\n",
              "  </thead>\n",
              "  <tbody>\n",
              "    <tr>\n",
              "      <th>0</th>\n",
              "      <td>0.0</td>\n",
              "      <td>0.0</td>\n",
              "      <td>1.0</td>\n",
              "      <td>0.0</td>\n",
              "      <td>1.0</td>\n",
              "      <td>2.0</td>\n",
              "      <td>0.0</td>\n",
              "      <td>1.0</td>\n",
              "    </tr>\n",
              "    <tr>\n",
              "      <th>1</th>\n",
              "      <td>0.0</td>\n",
              "      <td>0.0</td>\n",
              "      <td>0.0</td>\n",
              "      <td>1.0</td>\n",
              "      <td>1.0</td>\n",
              "      <td>1.0</td>\n",
              "      <td>1.0</td>\n",
              "      <td>1.0</td>\n",
              "    </tr>\n",
              "    <tr>\n",
              "      <th>2</th>\n",
              "      <td>0.0</td>\n",
              "      <td>1.0</td>\n",
              "      <td>2.0</td>\n",
              "      <td>0.0</td>\n",
              "      <td>1.0</td>\n",
              "      <td>3.0</td>\n",
              "      <td>0.0</td>\n",
              "      <td>0.0</td>\n",
              "    </tr>\n",
              "  </tbody>\n",
              "</table>\n",
              "</div>"
            ],
            "text/plain": [
              "     0    1    2    3    4    5    6    7\n",
              "0  0.0  0.0  1.0  0.0  1.0  2.0  0.0  1.0\n",
              "1  0.0  0.0  0.0  1.0  1.0  1.0  1.0  1.0\n",
              "2  0.0  1.0  2.0  0.0  1.0  3.0  0.0  0.0"
            ]
          },
          "metadata": {
            "tags": []
          },
          "execution_count": 52
        }
      ]
    },
    {
      "cell_type": "code",
      "metadata": {
        "id": "ydIXFk4fTdx6",
        "outputId": "ca4e114c-007f-4bf7-cb2c-2b37e1f19211"
      },
      "source": [
        "from sklearn.feature_extraction.text import HashingVectorizer\n",
        "\n",
        "h_vectorizer = HashingVectorizer(n_features=2**9, ngram_range=[1,3])\n",
        "%time dtm_h = h_vectorizer.fit_transform(kiva_df['en_clean'])\n",
        "bow_df_h = pd.DataFrame(dtm_h.toarray(), index=kiva_df.index)\n",
        "bow_df_h.shape\n",
        "\n",
        "kiva_df_h = pd.concat([kiva_df, bow_df_h], axis=1)\n",
        "kiva_df_h.drop(columns=['en', 'en_clean'], inplace=True)\n",
        "kiva_df_h.shape\n",
        "kiva_df_h.head()"
      ],
      "execution_count": null,
      "outputs": [
        {
          "output_type": "stream",
          "text": [
            "CPU times: user 488 ms, sys: 4.94 ms, total: 493 ms\n",
            "Wall time: 492 ms\n"
          ],
          "name": "stdout"
        },
        {
          "output_type": "execute_result",
          "data": {
            "text/plain": [
              "(3935, 512)"
            ]
          },
          "metadata": {
            "tags": []
          },
          "execution_count": 53
        },
        {
          "output_type": "execute_result",
          "data": {
            "text/plain": [
              "(3935, 518)"
            ]
          },
          "metadata": {
            "tags": []
          },
          "execution_count": 53
        },
        {
          "output_type": "execute_result",
          "data": {
            "text/html": [
              "<div>\n",
              "<style scoped>\n",
              "    .dataframe tbody tr th:only-of-type {\n",
              "        vertical-align: middle;\n",
              "    }\n",
              "\n",
              "    .dataframe tbody tr th {\n",
              "        vertical-align: top;\n",
              "    }\n",
              "\n",
              "    .dataframe thead th {\n",
              "        text-align: right;\n",
              "    }\n",
              "</style>\n",
              "<table border=\"1\" class=\"dataframe\">\n",
              "  <thead>\n",
              "    <tr style=\"text-align: right;\">\n",
              "      <th></th>\n",
              "      <th>status</th>\n",
              "      <th>sector</th>\n",
              "      <th>country</th>\n",
              "      <th>gender</th>\n",
              "      <th>loan_amount</th>\n",
              "      <th>nonpayment</th>\n",
              "      <th>0</th>\n",
              "      <th>1</th>\n",
              "      <th>2</th>\n",
              "      <th>3</th>\n",
              "      <th>...</th>\n",
              "      <th>502</th>\n",
              "      <th>503</th>\n",
              "      <th>504</th>\n",
              "      <th>505</th>\n",
              "      <th>506</th>\n",
              "      <th>507</th>\n",
              "      <th>508</th>\n",
              "      <th>509</th>\n",
              "      <th>510</th>\n",
              "      <th>511</th>\n",
              "    </tr>\n",
              "  </thead>\n",
              "  <tbody>\n",
              "    <tr>\n",
              "      <th>0</th>\n",
              "      <td>paid</td>\n",
              "      <td>Agriculture</td>\n",
              "      <td>Kenya</td>\n",
              "      <td>F</td>\n",
              "      <td>600.0</td>\n",
              "      <td>partner</td>\n",
              "      <td>0.0</td>\n",
              "      <td>0.000000</td>\n",
              "      <td>0.000000</td>\n",
              "      <td>0.000000</td>\n",
              "      <td>...</td>\n",
              "      <td>-0.101535</td>\n",
              "      <td>0.000000</td>\n",
              "      <td>0.000000</td>\n",
              "      <td>0.000000</td>\n",
              "      <td>0.000000</td>\n",
              "      <td>0.000000</td>\n",
              "      <td>0.000000</td>\n",
              "      <td>0.101535</td>\n",
              "      <td>0.0</td>\n",
              "      <td>0.000000</td>\n",
              "    </tr>\n",
              "    <tr>\n",
              "      <th>1</th>\n",
              "      <td>paid</td>\n",
              "      <td>Retail</td>\n",
              "      <td>Kenya</td>\n",
              "      <td>F</td>\n",
              "      <td>800.0</td>\n",
              "      <td>partner</td>\n",
              "      <td>0.0</td>\n",
              "      <td>0.000000</td>\n",
              "      <td>0.000000</td>\n",
              "      <td>0.000000</td>\n",
              "      <td>...</td>\n",
              "      <td>0.048679</td>\n",
              "      <td>0.000000</td>\n",
              "      <td>0.000000</td>\n",
              "      <td>0.000000</td>\n",
              "      <td>0.000000</td>\n",
              "      <td>0.000000</td>\n",
              "      <td>0.000000</td>\n",
              "      <td>0.048679</td>\n",
              "      <td>0.0</td>\n",
              "      <td>0.000000</td>\n",
              "    </tr>\n",
              "    <tr>\n",
              "      <th>2</th>\n",
              "      <td>paid</td>\n",
              "      <td>Retail</td>\n",
              "      <td>Kenya</td>\n",
              "      <td>M</td>\n",
              "      <td>1275.0</td>\n",
              "      <td>lender</td>\n",
              "      <td>0.0</td>\n",
              "      <td>0.000000</td>\n",
              "      <td>0.000000</td>\n",
              "      <td>0.054233</td>\n",
              "      <td>...</td>\n",
              "      <td>0.054233</td>\n",
              "      <td>-0.054233</td>\n",
              "      <td>0.000000</td>\n",
              "      <td>0.000000</td>\n",
              "      <td>-0.108465</td>\n",
              "      <td>0.000000</td>\n",
              "      <td>0.054233</td>\n",
              "      <td>0.054233</td>\n",
              "      <td>0.0</td>\n",
              "      <td>0.000000</td>\n",
              "    </tr>\n",
              "    <tr>\n",
              "      <th>3</th>\n",
              "      <td>defaulted</td>\n",
              "      <td>Food</td>\n",
              "      <td>Kenya</td>\n",
              "      <td>F</td>\n",
              "      <td>600.0</td>\n",
              "      <td>lender</td>\n",
              "      <td>0.0</td>\n",
              "      <td>-0.056523</td>\n",
              "      <td>-0.056523</td>\n",
              "      <td>0.000000</td>\n",
              "      <td>...</td>\n",
              "      <td>-0.056523</td>\n",
              "      <td>0.000000</td>\n",
              "      <td>0.056523</td>\n",
              "      <td>-0.056523</td>\n",
              "      <td>0.000000</td>\n",
              "      <td>0.056523</td>\n",
              "      <td>-0.056523</td>\n",
              "      <td>0.056523</td>\n",
              "      <td>0.0</td>\n",
              "      <td>0.000000</td>\n",
              "    </tr>\n",
              "    <tr>\n",
              "      <th>4</th>\n",
              "      <td>paid</td>\n",
              "      <td>Clothing</td>\n",
              "      <td>Dominican Republic</td>\n",
              "      <td>F</td>\n",
              "      <td>375.0</td>\n",
              "      <td>partner</td>\n",
              "      <td>0.0</td>\n",
              "      <td>0.000000</td>\n",
              "      <td>0.000000</td>\n",
              "      <td>0.000000</td>\n",
              "      <td>...</td>\n",
              "      <td>0.000000</td>\n",
              "      <td>0.000000</td>\n",
              "      <td>0.078811</td>\n",
              "      <td>0.000000</td>\n",
              "      <td>0.000000</td>\n",
              "      <td>0.000000</td>\n",
              "      <td>0.000000</td>\n",
              "      <td>0.000000</td>\n",
              "      <td>0.0</td>\n",
              "      <td>0.078811</td>\n",
              "    </tr>\n",
              "  </tbody>\n",
              "</table>\n",
              "<p>5 rows × 518 columns</p>\n",
              "</div>"
            ],
            "text/plain": [
              "      status       sector             country gender  loan_amount nonpayment  \\\n",
              "0       paid  Agriculture               Kenya      F        600.0    partner   \n",
              "1       paid       Retail               Kenya      F        800.0    partner   \n",
              "2       paid       Retail               Kenya      M       1275.0     lender   \n",
              "3  defaulted         Food               Kenya      F        600.0     lender   \n",
              "4       paid     Clothing  Dominican Republic      F        375.0    partner   \n",
              "\n",
              "     0         1         2         3  ...       502       503       504  \\\n",
              "0  0.0  0.000000  0.000000  0.000000  ... -0.101535  0.000000  0.000000   \n",
              "1  0.0  0.000000  0.000000  0.000000  ...  0.048679  0.000000  0.000000   \n",
              "2  0.0  0.000000  0.000000  0.054233  ...  0.054233 -0.054233  0.000000   \n",
              "3  0.0 -0.056523 -0.056523  0.000000  ... -0.056523  0.000000  0.056523   \n",
              "4  0.0  0.000000  0.000000  0.000000  ...  0.000000  0.000000  0.078811   \n",
              "\n",
              "        505       506       507       508       509  510       511  \n",
              "0  0.000000  0.000000  0.000000  0.000000  0.101535  0.0  0.000000  \n",
              "1  0.000000  0.000000  0.000000  0.000000  0.048679  0.0  0.000000  \n",
              "2  0.000000 -0.108465  0.000000  0.054233  0.054233  0.0  0.000000  \n",
              "3 -0.056523  0.000000  0.056523 -0.056523  0.056523  0.0  0.000000  \n",
              "4  0.000000  0.000000  0.000000  0.000000  0.000000  0.0  0.078811  \n",
              "\n",
              "[5 rows x 518 columns]"
            ]
          },
          "metadata": {
            "tags": []
          },
          "execution_count": 53
        }
      ]
    },
    {
      "cell_type": "markdown",
      "metadata": {
        "id": "F4obtbOOTdx6"
      },
      "source": [
        "Embeddings with Doc2Vec"
      ]
    },
    {
      "cell_type": "code",
      "metadata": {
        "id": "A1uuq3jxTdx7"
      },
      "source": [
        "from gensim.models.doc2vec import Doc2Vec, TaggedDocument\n",
        "\n",
        "docs = [\"the dog is really smart\",\n",
        "        \"the cat is really smart\",\n",
        "        \"the rat is really smart\",\n",
        "        \"the mouse is really smart\",\n",
        "        \"the dog ran to the store\",\n",
        "        \"the cat ran to the store\",\n",
        "        \"the rat ran to the store\",\n",
        "        \"the mouse rand to the store\",\n",
        "        \"the dog is really dumb\",\n",
        "        \"the cat is really dumb\",\n",
        "        \"the dog is brown\",\n",
        "        \"the cat is brown\",\n",
        "        \"this document has nothing to do with any of the others\"]\n",
        "\n",
        "documents = [TaggedDocument(doc.split(), [i]) for i, doc in enumerate(docs)]"
      ],
      "execution_count": null,
      "outputs": []
    },
    {
      "cell_type": "code",
      "metadata": {
        "id": "hVSqfyiiTdx7",
        "outputId": "f790eb4b-f750-4740-9d38-3119a4539643"
      },
      "source": [
        "%time model = Doc2Vec(documents, vector_size=5, window=2, min_count=1, workers=4, epochs=10000, alpha=0.065, seed=123)\n",
        "print(model)\n",
        "for i in range(0, len(docs)):\n",
        "    print(model.docvecs[i])"
      ],
      "execution_count": null,
      "outputs": [
        {
          "output_type": "stream",
          "text": [
            "CPU times: user 10.3 s, sys: 1.93 s, total: 12.2 s\n",
            "Wall time: 11.1 s\n",
            "Doc2Vec(dm/m,d5,n5,w2,s0.001,t4)\n",
            "[-2.8394666  1.2721726  0.8247136  4.4835277  1.0062304]\n",
            "[ 2.0298193  3.8121765 -3.3517458  1.4087039  0.5847156]\n",
            "[-4.5295525   2.0476255  -1.4747251   3.4440732  -0.62427866]\n",
            "[-1.9080667  3.7369885 -4.2546077  1.5607325 -1.0486381]\n",
            "[ 0.4341319 -1.7918597  4.5057464  2.3934832 -2.5311117]\n",
            "[ 5.141115    0.28704742  1.2761344  -0.09533043 -3.060541  ]\n",
            "[-1.7268094 -1.0792062  2.7031982  1.5662109 -4.8730993]\n",
            "[ 1.1269426   0.09567966 -3.3770447   0.8135536  -6.8629017 ]\n",
            "[ 0.7850433 -1.4424503  1.1858076  6.487254  -0.6181977]\n",
            "[ 4.9299207   0.47492206 -2.2743547   3.8884404  -1.0998372 ]\n",
            "[1.2142382 1.0311534 4.133209  3.6746006 2.3641808]\n",
            "[4.664526  2.8519137 0.8968088 1.5530673 1.9071232]\n",
            "[-1.2391381   6.649173    2.2278004  -0.7878372  -0.93601495]\n"
          ],
          "name": "stdout"
        }
      ]
    },
    {
      "cell_type": "code",
      "metadata": {
        "collapsed": true,
        "jupyter": {
          "outputs_hidden": true
        },
        "id": "JD9jwdSGTdx7",
        "outputId": "b8b9605f-ecc2-4bc7-d8b4-0e5baab341f3"
      },
      "source": [
        "for idx in range(0, len(docs)):\n",
        "    print(\"\\n\\nDoc {}\".format(idx))\n",
        "    print(docs[idx])\n",
        "    print(model.docvecs[idx])\n",
        "    sim = model.docvecs.most_similar(idx, topn=5)\n",
        "    print(\"\\n\")\n",
        "    \n",
        "    for i in range(0, 3):\n",
        "        print(\"Closest doc {} {} ({})\".format(i, sim[i][0], sim[i][1]))\n",
        "        closest_idx = sim[i][0]\n",
        "        print(docs[closest_idx])\n",
        "        print(model.docvecs[closest_idx])"
      ],
      "execution_count": null,
      "outputs": [
        {
          "output_type": "stream",
          "text": [
            "\n",
            "\n",
            "Doc 0\n",
            "the dog is really smart\n",
            "[-2.8394666  1.2721726  0.8247136  4.4835277  1.0062304]\n",
            "\n",
            "\n",
            "Closest doc 0 2 (0.8280863165855408)\n",
            "the rat is really smart\n",
            "[-4.5295525   2.0476255  -1.4747251   3.4440732  -0.62427866]\n",
            "Closest doc 1 8 (0.6628422141075134)\n",
            "the dog is really dumb\n",
            "[ 0.7850433 -1.4424503  1.1858076  6.487254  -0.6181977]\n",
            "Closest doc 2 10 (0.576578676700592)\n",
            "the dog is brown\n",
            "[1.2142382 1.0311534 4.133209  3.6746006 2.3641808]\n",
            "\n",
            "\n",
            "Doc 1\n",
            "the cat is really smart\n",
            "[ 2.0298193  3.8121765 -3.3517458  1.4087039  0.5847156]\n",
            "\n",
            "\n",
            "Closest doc 0 3 (0.7374186515808105)\n",
            "the mouse is really smart\n",
            "[-1.9080667  3.7369885 -4.2546077  1.5607325 -1.0486381]\n",
            "Closest doc 1 9 (0.6303918361663818)\n",
            "the cat is really dumb\n",
            "[ 4.9299207   0.47492206 -2.2743547   3.8884404  -1.0998372 ]\n",
            "Closest doc 2 11 (0.5998404622077942)\n",
            "the cat is brown\n",
            "[4.664526  2.8519137 0.8968088 1.5530673 1.9071232]\n",
            "\n",
            "\n",
            "Doc 2\n",
            "the rat is really smart\n",
            "[-4.5295525   2.0476255  -1.4747251   3.4440732  -0.62427866]\n",
            "\n",
            "\n",
            "Closest doc 0 0 (0.8280863761901855)\n",
            "the dog is really smart\n",
            "[-2.8394666  1.2721726  0.8247136  4.4835277  1.0062304]\n",
            "Closest doc 1 3 (0.729762613773346)\n",
            "the mouse is really smart\n",
            "[-1.9080667  3.7369885 -4.2546077  1.5607325 -1.0486381]\n",
            "Closest doc 2 8 (0.3389516770839691)\n",
            "the dog is really dumb\n",
            "[ 0.7850433 -1.4424503  1.1858076  6.487254  -0.6181977]\n",
            "\n",
            "\n",
            "Doc 3\n",
            "the mouse is really smart\n",
            "[-1.9080667  3.7369885 -4.2546077  1.5607325 -1.0486381]\n",
            "\n",
            "\n",
            "Closest doc 0 1 (0.7374187707901001)\n",
            "the cat is really smart\n",
            "[ 2.0298193  3.8121765 -3.3517458  1.4087039  0.5847156]\n",
            "Closest doc 1 2 (0.7297626733779907)\n",
            "the rat is really smart\n",
            "[-4.5295525   2.0476255  -1.4747251   3.4440732  -0.62427866]\n",
            "Closest doc 2 7 (0.43203625082969666)\n",
            "the mouse rand to the store\n",
            "[ 1.1269426   0.09567966 -3.3770447   0.8135536  -6.8629017 ]\n",
            "\n",
            "\n",
            "Doc 4\n",
            "the dog ran to the store\n",
            "[ 0.4341319 -1.7918597  4.5057464  2.3934832 -2.5311117]\n",
            "\n",
            "\n",
            "Closest doc 0 6 (0.8016337156295776)\n",
            "the rat ran to the store\n",
            "[-1.7268094 -1.0792062  2.7031982  1.5662109 -4.8730993]\n",
            "Closest doc 1 8 (0.6207846999168396)\n",
            "the dog is really dumb\n",
            "[ 0.7850433 -1.4424503  1.1858076  6.487254  -0.6181977]\n",
            "Closest doc 2 10 (0.5400108098983765)\n",
            "the dog is brown\n",
            "[1.2142382 1.0311534 4.133209  3.6746006 2.3641808]\n",
            "\n",
            "\n",
            "Doc 5\n",
            "the cat ran to the store\n",
            "[ 5.141115    0.28704742  1.2761344  -0.09533043 -3.060541  ]\n",
            "\n",
            "\n",
            "Closest doc 0 9 (0.6154037714004517)\n",
            "the cat is really dumb\n",
            "[ 4.9299207   0.47492206 -2.2743547   3.8884404  -1.0998372 ]\n",
            "Closest doc 1 11 (0.5375559329986572)\n",
            "the cat is brown\n",
            "[4.664526  2.8519137 0.8968088 1.5530673 1.9071232]\n",
            "Closest doc 2 7 (0.47118353843688965)\n",
            "the mouse rand to the store\n",
            "[ 1.1269426   0.09567966 -3.3770447   0.8135536  -6.8629017 ]\n",
            "\n",
            "\n",
            "Doc 6\n",
            "the rat ran to the store\n",
            "[-1.7268094 -1.0792062  2.7031982  1.5662109 -4.8730993]\n",
            "\n",
            "\n",
            "Closest doc 0 4 (0.8016337156295776)\n",
            "the dog ran to the store\n",
            "[ 0.4341319 -1.7918597  4.5057464  2.3934832 -2.5311117]\n",
            "Closest doc 1 7 (0.49341917037963867)\n",
            "the mouse rand to the store\n",
            "[ 1.1269426   0.09567966 -3.3770447   0.8135536  -6.8629017 ]\n",
            "Closest doc 2 8 (0.395926296710968)\n",
            "the dog is really dumb\n",
            "[ 0.7850433 -1.4424503  1.1858076  6.487254  -0.6181977]\n",
            "\n",
            "\n",
            "Doc 7\n",
            "the mouse rand to the store\n",
            "[ 1.1269426   0.09567966 -3.3770447   0.8135536  -6.8629017 ]\n",
            "\n",
            "\n",
            "Closest doc 0 6 (0.49341917037963867)\n",
            "the rat ran to the store\n",
            "[-1.7268094 -1.0792062  2.7031982  1.5662109 -4.8730993]\n",
            "Closest doc 1 5 (0.47118353843688965)\n",
            "the cat ran to the store\n",
            "[ 5.141115    0.28704742  1.2761344  -0.09533043 -3.060541  ]\n",
            "Closest doc 2 9 (0.45486295223236084)\n",
            "the cat is really dumb\n",
            "[ 4.9299207   0.47492206 -2.2743547   3.8884404  -1.0998372 ]\n",
            "\n",
            "\n",
            "Doc 8\n",
            "the dog is really dumb\n",
            "[ 0.7850433 -1.4424503  1.1858076  6.487254  -0.6181977]\n",
            "\n",
            "\n",
            "Closest doc 0 0 (0.6628422141075134)\n",
            "the dog is really smart\n",
            "[-2.8394666  1.2721726  0.8247136  4.4835277  1.0062304]\n",
            "Closest doc 1 10 (0.6298519372940063)\n",
            "the dog is brown\n",
            "[1.2142382 1.0311534 4.133209  3.6746006 2.3641808]\n",
            "Closest doc 2 4 (0.6207846403121948)\n",
            "the dog ran to the store\n",
            "[ 0.4341319 -1.7918597  4.5057464  2.3934832 -2.5311117]\n",
            "\n",
            "\n",
            "Doc 9\n",
            "the cat is really dumb\n",
            "[ 4.9299207   0.47492206 -2.2743547   3.8884404  -1.0998372 ]\n",
            "\n",
            "\n",
            "Closest doc 0 11 (0.6383160948753357)\n",
            "the cat is brown\n",
            "[4.664526  2.8519137 0.8968088 1.5530673 1.9071232]\n",
            "Closest doc 1 1 (0.6303918361663818)\n",
            "the cat is really smart\n",
            "[ 2.0298193  3.8121765 -3.3517458  1.4087039  0.5847156]\n",
            "Closest doc 2 5 (0.6154037117958069)\n",
            "the cat ran to the store\n",
            "[ 5.141115    0.28704742  1.2761344  -0.09533043 -3.060541  ]\n",
            "\n",
            "\n",
            "Doc 10\n",
            "the dog is brown\n",
            "[1.2142382 1.0311534 4.133209  3.6746006 2.3641808]\n",
            "\n",
            "\n",
            "Closest doc 0 8 (0.6298519372940063)\n",
            "the dog is really dumb\n",
            "[ 0.7850433 -1.4424503  1.1858076  6.487254  -0.6181977]\n",
            "Closest doc 1 11 (0.5972790718078613)\n",
            "the cat is brown\n",
            "[4.664526  2.8519137 0.8968088 1.5530673 1.9071232]\n",
            "Closest doc 2 0 (0.5765786170959473)\n",
            "the dog is really smart\n",
            "[-2.8394666  1.2721726  0.8247136  4.4835277  1.0062304]\n",
            "\n",
            "\n",
            "Doc 11\n",
            "the cat is brown\n",
            "[4.664526  2.8519137 0.8968088 1.5530673 1.9071232]\n",
            "\n",
            "\n",
            "Closest doc 0 9 (0.6383161544799805)\n",
            "the cat is really dumb\n",
            "[ 4.9299207   0.47492206 -2.2743547   3.8884404  -1.0998372 ]\n",
            "Closest doc 1 1 (0.5998404622077942)\n",
            "the cat is really smart\n",
            "[ 2.0298193  3.8121765 -3.3517458  1.4087039  0.5847156]\n",
            "Closest doc 2 10 (0.5972791314125061)\n",
            "the dog is brown\n",
            "[1.2142382 1.0311534 4.133209  3.6746006 2.3641808]\n",
            "\n",
            "\n",
            "Doc 12\n",
            "this document has nothing to do with any of the others\n",
            "[-1.2391381   6.649173    2.2278004  -0.7878372  -0.93601495]\n",
            "\n",
            "\n",
            "Closest doc 0 3 (0.38631314039230347)\n",
            "the mouse is really smart\n",
            "[-1.9080667  3.7369885 -4.2546077  1.5607325 -1.0486381]\n",
            "Closest doc 1 1 (0.33427661657333374)\n",
            "the cat is really smart\n",
            "[ 2.0298193  3.8121765 -3.3517458  1.4087039  0.5847156]\n",
            "Closest doc 2 2 (0.30559587478637695)\n",
            "the rat is really smart\n",
            "[-4.5295525   2.0476255  -1.4747251   3.4440732  -0.62427866]\n"
          ],
          "name": "stdout"
        }
      ]
    },
    {
      "cell_type": "code",
      "metadata": {
        "id": "IEW8YGjKTdx7"
      },
      "source": [
        "from gensim.models.doc2vec import Doc2Vec, TaggedDocument\n",
        "\n",
        "docs = kiva_df['en_clean']\n",
        "\n",
        "documents = [TaggedDocument(doc.split(), [i]) for i, doc in enumerate(docs)]"
      ],
      "execution_count": null,
      "outputs": []
    },
    {
      "cell_type": "code",
      "metadata": {
        "id": "OYRX0kljTdx7",
        "outputId": "c114c3f5-bac9-4103-f9ee-f50530aff76e"
      },
      "source": [
        "%time model = Doc2Vec(documents, vector_size=8, window=2, min_count=5, workers=4, epochs=200, seed=123)\n",
        "print(model)"
      ],
      "execution_count": null,
      "outputs": [
        {
          "output_type": "stream",
          "text": [
            "CPU times: user 1min 49s, sys: 11.8 s, total: 2min 1s\n",
            "Wall time: 1min 13s\n",
            "Doc2Vec(dm/m,d8,n5,w2,mc5,s0.001,t4)\n"
          ],
          "name": "stdout"
        }
      ]
    },
    {
      "cell_type": "code",
      "metadata": {
        "id": "p5PkRrkITdx8",
        "outputId": "fa7e8aab-4c4c-49d2-8b61-ef42f424ac59"
      },
      "source": [
        "%%time\n",
        "\n",
        "import collections\n",
        "\n",
        "ranks = []\n",
        "second_ranks = []\n",
        "for doc_id in range(len(documents)):\n",
        "    inferred_vector = model.infer_vector(documents[doc_id].words)\n",
        "    sims = model.docvecs.most_similar([inferred_vector], topn=len(model.docvecs))\n",
        "    rank = [docid for docid, sim in sims].index(doc_id)\n",
        "    ranks.append(rank)\n",
        "    second_ranks.append(sims[1])"
      ],
      "execution_count": null,
      "outputs": [
        {
          "output_type": "stream",
          "text": [
            "CPU times: user 1min 34s, sys: 115 ms, total: 1min 34s\n",
            "Wall time: 1min 34s\n"
          ],
          "name": "stdout"
        }
      ]
    },
    {
      "cell_type": "code",
      "metadata": {
        "id": "oEdKgQ2PTdx8",
        "outputId": "412e1976-3e87-41f2-fb9e-1d80594958f2"
      },
      "source": [
        "collections.Counter(ranks).most_common(10) \n",
        "collections.Counter(ranks)[0]\n",
        "collections.Counter(ranks)[1]\n",
        "collections.Counter(ranks)[43]"
      ],
      "execution_count": null,
      "outputs": [
        {
          "output_type": "execute_result",
          "data": {
            "text/plain": [
              "[(0, 3578),\n",
              " (1, 277),\n",
              " (2, 34),\n",
              " (3, 16),\n",
              " (4, 8),\n",
              " (5, 7),\n",
              " (8, 6),\n",
              " (6, 4),\n",
              " (13, 2),\n",
              " (14, 1)]"
            ]
          },
          "metadata": {
            "tags": []
          },
          "execution_count": 62
        },
        {
          "output_type": "execute_result",
          "data": {
            "text/plain": [
              "3578"
            ]
          },
          "metadata": {
            "tags": []
          },
          "execution_count": 62
        },
        {
          "output_type": "execute_result",
          "data": {
            "text/plain": [
              "277"
            ]
          },
          "metadata": {
            "tags": []
          },
          "execution_count": 62
        },
        {
          "output_type": "execute_result",
          "data": {
            "text/plain": [
              "0"
            ]
          },
          "metadata": {
            "tags": []
          },
          "execution_count": 62
        }
      ]
    },
    {
      "cell_type": "code",
      "metadata": {
        "id": "9SW3TxmKTdx9",
        "outputId": "95a874ec-944f-4c7d-c17c-a82c324fabc9"
      },
      "source": [
        "doc_id = 455\n",
        "print('Document ({}): «{}»\\n'.format(doc_id, ' '.join(documents[doc_id].words)))\n",
        "print(u'SIMILAR/DISSIMILAR DOCS PER MODEL %s:\\n' % model)\n",
        "for label, index in [('MOST', 0), ('MEDIAN', len(sims)//2), ('LEAST', len(sims) - 1)]:\n",
        "    print(u'%s %s: «%s»\\n' % (label, sims[index], ' '.join(documents[sims[index][0]].words)))"
      ],
      "execution_count": null,
      "outputs": [
        {
          "output_type": "stream",
          "text": [
            "Document (455): «santa benita thirtyyearold woman mother five child life ro arriba community ban supplement family income sell collection shirt pant underwear woman community santa benita explains family needy work hard make money help husband support childrens education loan santa benita buy clothing say shell get product new supplier offering good low price santa benita hope business growth help improve family standard living»\n",
            "\n",
            "SIMILAR/DISSIMILAR DOCS PER MODEL Doc2Vec(dm/m,d8,n5,w2,mc5,s0.001,t4):\n",
            "\n",
            "MOST (3934, 0.9992876052856445): «alejandrina sell empanadas pt sandwich juice public square community yearold single mother five child two girl attend school business activity principal source income entrepreneur say learned meaning working hard make living care large family alejandrina doesnt plan locale yet say cant afford keep selling public square attracting new customer offering new varied type empanadas loan alejandrina buy raw material keep running business activity aim reaching comfortable lifestyle family»\n",
            "\n",
            "MEDIAN (3268, 0.29258301854133606): «beatrice married child primary school started cereal selling business remained small due lack funding travel one market another buying selling able support family business loan u pemci intends increase stock turn improve margin also active member local church community»\n",
            "\n",
            "LEAST (1017, -0.5155267715454102): «margaret year old married child margarets family life farm roimen area joined queen esther woman group year active group beneficiary small loan training group put impact group information skill attained training realize power information rear dairy cow laying bird sell litre milk per day supply egg weekly area resident bird feed green grain reducing cost buying feed stated project bird hatched incubates traditional way well plan use hatching trained poultry rearing management got information required determined add bird also want buy incubator hatching many chick time waiting day approximating incubator holding chick ago requires usd buy hen small incubator local feed willing repay loan monthly due milk accumulates»\n",
            "\n"
          ],
          "name": "stdout"
        }
      ]
    },
    {
      "cell_type": "code",
      "metadata": {
        "id": "K8dkCw81Tdx9",
        "outputId": "72a5c907-e318-4cc5-8e55-b032a9a61405"
      },
      "source": [
        "doc_id = 543\n",
        "print('Train Document ({}): «{}»\\n'.format(doc_id, ' '.join(documents[doc_id].words)))\n",
        "sim_id = second_ranks[doc_id]\n",
        "print('Similar Document {}: «{}»\\n'.format(sim_id, ' '.join(documents[sim_id[0]].words)))"
      ],
      "execution_count": null,
      "outputs": [
        {
          "output_type": "stream",
          "text": [
            "Train Document (543): «jane married blessed five child school active group take group meeting seriously strong member group made impact many woman jane full time farmer grows cereal vegetable also rear dairy cow bought small loan group although challenging able pay school fee child would like diversify venture share business hoping get loan promise repay monthly basis»\n",
            "\n",
            "Similar Document (1517, 0.9948933720588684): «mary born kiambu kenya married four child school devoted christian restoration church choir member mary joined weec year group chairlady last year reliable member group particularly matter relating problem solving together husband started green grocer business year ago raised educated child income earned business credit success training given weec loan finance management besides grocery business mary also keep dairy goat substitute income generation would like introduce dairy cow farm loan hoping get»\n",
            "\n"
          ],
          "name": "stdout"
        }
      ]
    },
    {
      "cell_type": "code",
      "metadata": {
        "id": "dCMLIMwATdx-",
        "outputId": "59f6b98b-3f2a-44f8-8af9-106e282bac37"
      },
      "source": [
        "idx = 0\n",
        "sim = model.docvecs.most_similar(idx, topn=10)\n",
        "sim\n",
        "\n",
        "idx\n",
        "docs.iloc[idx]\n",
        "model.docvecs[idx]\n",
        "\n",
        "for i in range(0, 3):\n",
        "    print(\"Closest doc {} {} ({})\".format(i, sim[i][0], sim[i][1]))\n",
        "    closest_idx = sim[i][0]\n",
        "    docs.iloc[closest_idx]\n",
        "    model.docvecs[closest_idx]"
      ],
      "execution_count": null,
      "outputs": [
        {
          "output_type": "execute_result",
          "data": {
            "text/plain": [
              "[(1461, 0.9879581928253174),\n",
              " (2214, 0.9875738620758057),\n",
              " (3612, 0.9856451749801636),\n",
              " (1898, 0.9847065210342407),\n",
              " (1330, 0.980867862701416),\n",
              " (2989, 0.9793796539306641),\n",
              " (1318, 0.9785562753677368),\n",
              " (2410, 0.9783182144165039),\n",
              " (1750, 0.9783154726028442),\n",
              " (2803, 0.9781647324562073)]"
            ]
          },
          "metadata": {
            "tags": []
          },
          "execution_count": 66
        },
        {
          "output_type": "execute_result",
          "data": {
            "text/plain": [
              "0"
            ]
          },
          "metadata": {
            "tags": []
          },
          "execution_count": 66
        },
        {
          "output_type": "execute_result",
          "data": {
            "text/plain": [
              "'jane year old widow child two local technical college one high schooljane farming year farming able educate child tree coffee threehectare piece land dairy cow aggregate brings net income usd per month'"
            ]
          },
          "metadata": {
            "tags": []
          },
          "execution_count": 66
        },
        {
          "output_type": "execute_result",
          "data": {
            "text/plain": [
              "array([ 1.6376327 ,  3.4668767 ,  0.11941594,  0.5221568 ,  4.4831448 ,\n",
              "        3.3649313 , -0.19381338, -3.0654404 ], dtype=float32)"
            ]
          },
          "metadata": {
            "tags": []
          },
          "execution_count": 66
        },
        {
          "output_type": "stream",
          "text": [
            "Closest doc 0 1461 (0.9879581928253174)\n"
          ],
          "name": "stdout"
        },
        {
          "output_type": "execute_result",
          "data": {
            "text/plain": [
              "'alice year old married grownup child member nkoroi pcea church member mother guild parttime preacher prays people jail frequently visit tumaini childrens home street child encourage alice love farming keep cow sheep farm grows maize bean pea potato alice get income selling milk neighbor nearby hotel drought period alice selling litre milk cow managed change farming loan got repaid happy achieved first dream getting cow due high demand milk area opted concentrate dairy project willing repay loan monthly basis'"
            ]
          },
          "metadata": {
            "tags": []
          },
          "execution_count": 66
        },
        {
          "output_type": "execute_result",
          "data": {
            "text/plain": [
              "array([ 0.6888394 ,  2.3744197 , -0.33858663,  0.3840785 ,  2.5473242 ,\n",
              "        2.1983776 , -0.34503698, -2.220866  ], dtype=float32)"
            ]
          },
          "metadata": {
            "tags": []
          },
          "execution_count": 66
        },
        {
          "output_type": "stream",
          "text": [
            "Closest doc 1 2214 (0.9875738620758057)\n"
          ],
          "name": "stdout"
        },
        {
          "output_type": "execute_result",
          "data": {
            "text/plain": [
              "'lillian year old married schoolgoing child born christian member ack st phillips church maragwa love activity involving community happy work supplement salary nursery school teacher lillian also engaged farming hire farm help farm work school farm grows french bean banana maize bean also rear cow give enough milk family use sell french bean banana time sell green maize farm lillian member karaba umoja woman group actively involved group activity benefited saving usd group taking credit develop farm applied loan usd enable buy water tank tank assist harvest enough rainwater family dairy cow also reduce time used fetch water river dry period group approved loan repayment period scheduled month'"
            ]
          },
          "metadata": {
            "tags": []
          },
          "execution_count": 66
        },
        {
          "output_type": "execute_result",
          "data": {
            "text/plain": [
              "array([ 1.9642142 ,  3.4173608 , -0.34666523,  0.51661605,  4.5756617 ,\n",
              "        3.2364063 , -1.176125  , -2.7813993 ], dtype=float32)"
            ]
          },
          "metadata": {
            "tags": []
          },
          "execution_count": 66
        },
        {
          "output_type": "stream",
          "text": [
            "Closest doc 2 3612 (0.9856451749801636)\n"
          ],
          "name": "stdout"
        },
        {
          "output_type": "execute_result",
          "data": {
            "text/plain": [
              "'mary year old grandmother child grown take care grandchild ensures food every school day belief important child enough food maintain good health mary farmer owns plot land maragwa primary income source dairy farming also grows banana maize bean food grows mainly used family consumption generate enough income mary rear dairy cow generates liter milk per day sell liter remaining liter used home mary one cow wasnt much work get water cow cow become difficult draw water cow plan buy water tank enable store water homestead also enable relieve grandchild tedious work load give enough time complete school homework margaret applied loan usd application among approved woman group secretariat wgs ushuhuda woman group repayment equal installment'"
            ]
          },
          "metadata": {
            "tags": []
          },
          "execution_count": 66
        },
        {
          "output_type": "execute_result",
          "data": {
            "text/plain": [
              "array([ 1.165861  ,  3.278398  ,  0.6015875 ,  0.28253588,  3.1745458 ,\n",
              "        2.7201264 , -0.5911912 , -2.9328146 ], dtype=float32)"
            ]
          },
          "metadata": {
            "tags": []
          },
          "execution_count": 66
        }
      ]
    },
    {
      "cell_type": "code",
      "metadata": {
        "id": "7J_beKj0Tdx-",
        "outputId": "5b29bee4-ac1d-46b4-d6fd-39b36bd55909"
      },
      "source": [
        "docs.iloc[25]"
      ],
      "execution_count": null,
      "outputs": [
        {
          "output_type": "execute_result",
          "data": {
            "text/plain": [
              "'tirso rancher farmer salitre owned land year lived rural area whole life although limited education able successful farming seeking loan order invest rice rainy season making land apt cultivation five child able educate two child making way college tirso want keep supporting tirso part first communal bank new mifex rural finance program member resistencia communal bank part association rice farmer salitre named resistencia use microloans prepare land cultivate rice farm form part communal bank others guarantor loan mean reason one person group cannot fully repay loan borrower resistencia association responsible amount default member bank also participate program designed teach encourage saving among group promoting saving often forgotten many microfinance program imperative community mifex work capital reserved future investment unexpected difficulty loan use repayment loan sector used create water deposit prevent flooding case heavy rain store water case drought also used treat land prior farming plant seed purchase fertilizer loan repayment schedule also different typical microentrepreneur farmer see profit investment month making initial expenditure mifex asks pay capital first month loan rest debt must paid seventh final month information salitre compiled staff mifex evaluating potential sector rural finance program economy salitre salitre rural area province guayas known capital montuvios montuvio cowboy approximately inhabitant main economic activity herding agriculture make economy infrastructure basic service poor especially road water service salitre highly dedicated rice farming cattle ranching rice crop yield every four month order farm rice environment must humid must high volume water lack structured water system make difficult small farmer highly productive best month cultivating rice early year rainy season coast ecuador salitre national tourist attraction many ecuadorian visit fresh water salitre river cottage small restaurant water attraction people come enjoy access credit single financial institution provides service productive sector local economy access credit come loan shark charge extremely high interest rate averaging around month local also exploited intermediary buy product order commercialize city export abroad intermediary buy crop advance low price finance soil extremely high price often provide emergency loan even higher interest rate loan shark risk salitre dangerous area despite rural location high incidence robbery cattle result fact many ranch owner owning weapon protect property police present area farmer rancher must apply law provide security instance formed cooperative association community crime prevention force salitre lowland ecuador vulnerable flooding rainy season event heavy rainy season often worst nio occurs rice farmer lose many crop due lack infrastructure area'"
            ]
          },
          "metadata": {
            "tags": []
          },
          "execution_count": 67
        }
      ]
    },
    {
      "cell_type": "code",
      "metadata": {
        "id": "i5YSkRZRTdx-"
      },
      "source": [
        "import warnings\n",
        "warnings.filterwarnings('ignore')"
      ],
      "execution_count": null,
      "outputs": []
    },
    {
      "cell_type": "code",
      "metadata": {
        "id": "uDi5KYSuTdx_"
      },
      "source": [
        "from gensim.models import KeyedVectors\n",
        "filename = 'GoogleNews-vectors-negative300.bin'\n",
        "model = KeyedVectors.load_word2vec_format(filename, binary=True)"
      ],
      "execution_count": null,
      "outputs": []
    },
    {
      "cell_type": "code",
      "metadata": {
        "id": "oYWhO6l6TdyA",
        "outputId": "9ac01eef-8005-468c-f914-db937c4968b9"
      },
      "source": [
        "len(model.wv.vocab)"
      ],
      "execution_count": null,
      "outputs": [
        {
          "output_type": "execute_result",
          "data": {
            "text/plain": [
              "3000000"
            ]
          },
          "metadata": {
            "tags": []
          },
          "execution_count": 88
        }
      ]
    },
    {
      "cell_type": "code",
      "metadata": {
        "id": "9UfTXtqwTdyA",
        "outputId": "e55769d8-a682-4bd6-b5e2-71d9809750f8"
      },
      "source": [
        "model.most_similar(positive=[\"king\",\"woman\"],negative=[\"man\"])"
      ],
      "execution_count": null,
      "outputs": [
        {
          "output_type": "execute_result",
          "data": {
            "text/plain": [
              "[('queen', 0.7118192911148071),\n",
              " ('monarch', 0.6189674139022827),\n",
              " ('princess', 0.5902431607246399),\n",
              " ('crown_prince', 0.5499460697174072),\n",
              " ('prince', 0.5377321243286133),\n",
              " ('kings', 0.5236844420433044),\n",
              " ('Queen_Consort', 0.5235945582389832),\n",
              " ('queens', 0.5181134343147278),\n",
              " ('sultan', 0.5098593235015869),\n",
              " ('monarchy', 0.5087411999702454)]"
            ]
          },
          "metadata": {
            "tags": []
          },
          "execution_count": 70
        }
      ]
    },
    {
      "cell_type": "code",
      "metadata": {
        "id": "tBv9B6VfTdyA",
        "outputId": "002aa86f-7231-4279-a712-9cce6147d5e1"
      },
      "source": [
        "model.most_similar(positive=[\"Iran\",\"Rome\"],negative=[\"Italy\"])"
      ],
      "execution_count": null,
      "outputs": [
        {
          "output_type": "execute_result",
          "data": {
            "text/plain": [
              "[('Teheran', 0.7186870574951172),\n",
              " ('Tehran', 0.7139363288879395),\n",
              " ('Damascus', 0.6014978885650635),\n",
              " ('Iranians', 0.5888612270355225),\n",
              " ('Iranian', 0.582443356513977),\n",
              " ('Islamic_republic', 0.5772508382797241),\n",
              " ('Ahmadinejad', 0.5659558176994324),\n",
              " ('Islamic_Republic', 0.5556014180183411),\n",
              " ('Larijani', 0.5456182360649109),\n",
              " ('Ayatollah_Khamenei', 0.540685772895813)]"
            ]
          },
          "metadata": {
            "tags": []
          },
          "execution_count": 72
        }
      ]
    },
    {
      "cell_type": "code",
      "metadata": {
        "id": "0_9GCyCxTdyA",
        "outputId": "50ad5897-8b4c-4e2f-f2c9-4aa7a59eed05"
      },
      "source": [
        "model.most_similar(positive=[\"father\",\"daughter\"],negative=[\"son\"])"
      ],
      "execution_count": null,
      "outputs": [
        {
          "output_type": "execute_result",
          "data": {
            "text/plain": [
              "[('mother', 0.8948174715042114),\n",
              " ('niece', 0.8004238605499268),\n",
              " ('eldest_daughter', 0.7821366190910339),\n",
              " ('grandmother', 0.7806483507156372),\n",
              " ('aunt', 0.7747992873191833),\n",
              " ('granddaughter', 0.771183967590332),\n",
              " ('sister', 0.7706006169319153),\n",
              " ('husband', 0.7571515440940857),\n",
              " ('wife', 0.7549543380737305),\n",
              " ('daughters', 0.7524170875549316)]"
            ]
          },
          "metadata": {
            "tags": []
          },
          "execution_count": 84
        }
      ]
    },
    {
      "cell_type": "code",
      "metadata": {
        "id": "CL4oMcurTdyA",
        "outputId": "243aabc9-de42-4654-f3d1-a816cf994ea5"
      },
      "source": [
        "model.wv.doesnt_match(\"chicken lamb salmon hour\".split())"
      ],
      "execution_count": null,
      "outputs": [
        {
          "output_type": "execute_result",
          "data": {
            "text/plain": [
              "'hour'"
            ]
          },
          "metadata": {
            "tags": []
          },
          "execution_count": 89
        }
      ]
    },
    {
      "cell_type": "code",
      "metadata": {
        "id": "NrArzJQzTdyB",
        "outputId": "5c2f541d-a0bf-4861-fe26-64fb6950f968"
      },
      "source": [
        "model.most_similar('google')"
      ],
      "execution_count": null,
      "outputs": [
        {
          "output_type": "execute_result",
          "data": {
            "text/plain": [
              "[('google.com', 0.6711486577987671),\n",
              " ('google_yahoo', 0.6488178968429565),\n",
              " ('wikipedia', 0.6436079740524292),\n",
              " ('www.google.com', 0.6258559226989746),\n",
              " ('googled', 0.6166063547134399),\n",
              " ('googling', 0.6086059212684631),\n",
              " ('slashdot', 0.5964587926864624),\n",
              " ('lifehacker', 0.5948860049247742),\n",
              " ('gizmodo', 0.5884420871734619),\n",
              " ('inurl', 0.5882638692855835)]"
            ]
          },
          "metadata": {
            "tags": []
          },
          "execution_count": 91
        }
      ]
    },
    {
      "cell_type": "code",
      "metadata": {
        "id": "j-fhuqnDTdyB",
        "outputId": "27371f70-f5f1-4663-a84a-1fb1c3043d1c"
      },
      "source": [
        "model.most_similar('New_York')"
      ],
      "execution_count": null,
      "outputs": [
        {
          "output_type": "execute_result",
          "data": {
            "text/plain": [
              "[('NewYork', 0.7444177269935608),\n",
              " ('Manhattan', 0.6598774790763855),\n",
              " ('theNew_York', 0.6500561237335205),\n",
              " ('NY', 0.6273694038391113),\n",
              " ('Brooklyn', 0.6272951364517212),\n",
              " ('Long_Island', 0.6261755228042603),\n",
              " ('NYC', 0.6110411286354065),\n",
              " ('inNew_York', 0.6082415580749512),\n",
              " ('upstate', 0.604249119758606),\n",
              " ('RBI_ARodriguez', 0.6038434505462646)]"
            ]
          },
          "metadata": {
            "tags": []
          },
          "execution_count": 92
        }
      ]
    },
    {
      "cell_type": "code",
      "metadata": {
        "id": "OOmz5JTqTdyB"
      },
      "source": [
        ""
      ],
      "execution_count": null,
      "outputs": []
    }
  ]
}