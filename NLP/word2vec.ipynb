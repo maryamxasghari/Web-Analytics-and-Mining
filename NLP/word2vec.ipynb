{
 "cells": [
  {
   "cell_type": "code",
   "execution_count": 74,
   "metadata": {},
   "outputs": [],
   "source": [
    "import warnings\n",
    "warnings.filterwarnings('ignore')"
   ]
  },
  {
   "cell_type": "code",
   "execution_count": 5,
   "metadata": {},
   "outputs": [],
   "source": [
    "import nltk\n",
    "from nltk import word_tokenize, sent_tokenize\n",
    "import gensim\n",
    "from gensim.test.utils import common_texts\n",
    "from gensim.models import Word2Vec\n",
    "from sklearn.manifold import TSNE\n",
    "import pandas as pd \n"
   ]
  },
  {
   "cell_type": "code",
   "execution_count": 10,
   "metadata": {},
   "outputs": [],
   "source": [
    "from bokeh.io import output_notebook\n",
    "from bokeh.plotting import show, figure\n",
    "%matplotlib inline"
   ]
  },
  {
   "cell_type": "code",
   "execution_count": 11,
   "metadata": {},
   "outputs": [
    {
     "name": "stderr",
     "output_type": "stream",
     "text": [
      "[nltk_data] Downloading package punkt to\n",
      "[nltk_data]     /Users/maryamasghari/nltk_data...\n",
      "[nltk_data]   Package punkt is already up-to-date!\n"
     ]
    },
    {
     "data": {
      "text/plain": [
       "True"
      ]
     },
     "execution_count": 11,
     "metadata": {},
     "output_type": "execute_result"
    }
   ],
   "source": [
    "nltk.download('punkt')"
   ]
  },
  {
   "cell_type": "code",
   "execution_count": 12,
   "metadata": {},
   "outputs": [
    {
     "name": "stderr",
     "output_type": "stream",
     "text": [
      "[nltk_data] Downloading package gutenberg to\n",
      "[nltk_data]     /Users/maryamasghari/nltk_data...\n",
      "[nltk_data]   Unzipping corpora/gutenberg.zip.\n"
     ]
    },
    {
     "data": {
      "text/plain": [
       "True"
      ]
     },
     "execution_count": 12,
     "metadata": {},
     "output_type": "execute_result"
    }
   ],
   "source": [
    "#download data\n",
    "nltk.download('gutenberg')"
   ]
  },
  {
   "cell_type": "code",
   "execution_count": 13,
   "metadata": {},
   "outputs": [],
   "source": [
    "#load the data set \n",
    "from nltk.corpus import gutenberg"
   ]
  },
  {
   "cell_type": "code",
   "execution_count": 14,
   "metadata": {},
   "outputs": [
    {
     "data": {
      "text/plain": [
       "['austen-emma.txt',\n",
       " 'austen-persuasion.txt',\n",
       " 'austen-sense.txt',\n",
       " 'bible-kjv.txt',\n",
       " 'blake-poems.txt',\n",
       " 'bryant-stories.txt',\n",
       " 'burgess-busterbrown.txt',\n",
       " 'carroll-alice.txt',\n",
       " 'chesterton-ball.txt',\n",
       " 'chesterton-brown.txt',\n",
       " 'chesterton-thursday.txt',\n",
       " 'edgeworth-parents.txt',\n",
       " 'melville-moby_dick.txt',\n",
       " 'milton-paradise.txt',\n",
       " 'shakespeare-caesar.txt',\n",
       " 'shakespeare-hamlet.txt',\n",
       " 'shakespeare-macbeth.txt',\n",
       " 'whitman-leaves.txt']"
      ]
     },
     "execution_count": 14,
     "metadata": {},
     "output_type": "execute_result"
    }
   ],
   "source": [
    "gutenberg.fileids()"
   ]
  },
  {
   "cell_type": "code",
   "execution_count": 15,
   "metadata": {},
   "outputs": [
    {
     "data": {
      "text/plain": [
       "18"
      ]
     },
     "execution_count": 15,
     "metadata": {},
     "output_type": "execute_result"
    }
   ],
   "source": [
    "#number of corpus in this dataset\n",
    "len(gutenberg.fileids())"
   ]
  },
  {
   "cell_type": "code",
   "execution_count": 17,
   "metadata": {},
   "outputs": [],
   "source": [
    "sent1 = sent_tokenize(gutenberg.raw())[1]"
   ]
  },
  {
   "cell_type": "code",
   "execution_count": 18,
   "metadata": {},
   "outputs": [
    {
     "data": {
      "text/plain": [
       "['She',\n",
       " 'was',\n",
       " 'the',\n",
       " 'youngest',\n",
       " 'of',\n",
       " 'the',\n",
       " 'two',\n",
       " 'daughters',\n",
       " 'of',\n",
       " 'a',\n",
       " 'most',\n",
       " 'affectionate',\n",
       " ',',\n",
       " 'indulgent',\n",
       " 'father',\n",
       " ';',\n",
       " 'and',\n",
       " 'had',\n",
       " ',',\n",
       " 'in',\n",
       " 'consequence',\n",
       " 'of',\n",
       " 'her',\n",
       " 'sister',\n",
       " \"'s\",\n",
       " 'marriage',\n",
       " ',',\n",
       " 'been',\n",
       " 'mistress',\n",
       " 'of',\n",
       " 'his',\n",
       " 'house',\n",
       " 'from',\n",
       " 'a',\n",
       " 'very',\n",
       " 'early',\n",
       " 'period',\n",
       " '.']"
      ]
     },
     "execution_count": 18,
     "metadata": {},
     "output_type": "execute_result"
    }
   ],
   "source": [
    "word_tokenize(sent1)"
   ]
  },
  {
   "cell_type": "code",
   "execution_count": null,
   "metadata": {},
   "outputs": [],
   "source": [
    "#load the data set \n",
    "from nltk.corpus import gutenberg"
   ]
  },
  {
   "cell_type": "code",
   "execution_count": 20,
   "metadata": {},
   "outputs": [],
   "source": [
    "input_data = gutenberg.sents()"
   ]
  },
  {
   "cell_type": "code",
   "execution_count": 65,
   "metadata": {},
   "outputs": [
    {
     "name": "stdout",
     "output_type": "stream",
     "text": [
      "CPU times: user 1min 30s, sys: 1.86 s, total: 1min 32s\n",
      "Wall time: 38.3 s\n"
     ]
    }
   ],
   "source": [
    "%time model = Word2Vec(sentences = input_data , size= 64 , sg=1, window=10 , min_count=5, seed= 123, )"
   ]
  },
  {
   "cell_type": "code",
   "execution_count": 49,
   "metadata": {},
   "outputs": [
    {
     "data": {
      "text/plain": [
       "17011"
      ]
     },
     "execution_count": 49,
     "metadata": {},
     "output_type": "execute_result"
    }
   ],
   "source": [
    "len(model.wv.vocab)"
   ]
  },
  {
   "cell_type": "code",
   "execution_count": 75,
   "metadata": {},
   "outputs": [
    {
     "data": {
      "text/plain": [
       "[('mother', 0.8845524191856384),\n",
       " ('sister', 0.8123290538787842),\n",
       " ('husband', 0.730630099773407),\n",
       " ('nurse', 0.7102228999137878),\n",
       " ('wife', 0.7005802989006042),\n",
       " ('brother', 0.6997630596160889),\n",
       " ('Amnon', 0.6719084978103638),\n",
       " ('Mary', 0.6717664003372192),\n",
       " ('sisters', 0.6645084023475647),\n",
       " ('whoredoms', 0.6630162000656128)]"
      ]
     },
     "execution_count": 75,
     "metadata": {},
     "output_type": "execute_result"
    }
   ],
   "source": [
    "model.most_similar(positive=[\"father\",\"daughter\"],negative=[\"son\"])"
   ]
  },
  {
   "cell_type": "code",
   "execution_count": 76,
   "metadata": {},
   "outputs": [
    {
     "data": {
      "text/plain": [
       "[('Sarah', 0.7050522565841675),\n",
       " ('Abram', 0.6830512285232544),\n",
       " ('Solomon', 0.6827528476715088),\n",
       " ('Hagar', 0.673485279083252),\n",
       " ('Rebekah', 0.6662349700927734),\n",
       " ('Padanaram', 0.6648869514465332),\n",
       " ('Leah', 0.663180947303772),\n",
       " ('queen', 0.6623537540435791),\n",
       " ('Pharaoh', 0.6585120558738708),\n",
       " ('David', 0.6583828330039978)]"
      ]
     },
     "execution_count": 76,
     "metadata": {},
     "output_type": "execute_result"
    }
   ],
   "source": [
    "model.most_similar(positive=[\"king\",\"woman\"],negative=[\"man\"])"
   ]
  },
  {
   "cell_type": "code",
   "execution_count": 77,
   "metadata": {},
   "outputs": [
    {
     "data": {
      "text/plain": [
       "array([ 0.0274361 , -0.04574783,  0.02436251, -0.29693282,  0.541402  ,\n",
       "       -0.51855475, -0.2183831 ,  0.53570896,  0.20238285,  0.31115744,\n",
       "        0.29281464, -0.16484424, -0.27454597,  0.32525703, -0.14009513,\n",
       "        0.5028896 , -0.31179714, -0.23748268, -0.20119588, -0.06476347,\n",
       "       -0.4663776 , -0.26993603, -0.14039227,  0.10934956, -0.12816848,\n",
       "        0.29637808, -0.4066456 ,  0.3266887 , -0.2902396 ,  0.18864824,\n",
       "        0.22531614, -0.67806655,  0.315342  ,  0.75395036,  0.02399079,\n",
       "       -0.5621214 , -0.10248119,  0.0673741 , -0.07281481, -0.06530232,\n",
       "       -0.30522504,  0.08134214, -0.32293132, -0.14271316,  0.4385669 ,\n",
       "        0.12567015,  0.19276506, -0.12290926, -0.01055742, -0.32183725,\n",
       "       -0.08112286, -0.26283315, -0.06609612,  0.20845886,  0.01188603,\n",
       "       -0.29420498,  0.08451399, -1.0355475 ,  0.0561983 ,  0.24955732,\n",
       "       -0.00888655,  0.17061561, -0.31206033, -0.05409726], dtype=float32)"
      ]
     },
     "execution_count": 77,
     "metadata": {},
     "output_type": "execute_result"
    }
   ],
   "source": [
    "model.wv['man']"
   ]
  },
  {
   "cell_type": "code",
   "execution_count": 78,
   "metadata": {},
   "outputs": [
    {
     "data": {
      "text/plain": [
       "64"
      ]
     },
     "execution_count": 78,
     "metadata": {},
     "output_type": "execute_result"
    }
   ],
   "source": [
    "len(model.wv['man'])"
   ]
  },
  {
   "cell_type": "code",
   "execution_count": 79,
   "metadata": {},
   "outputs": [
    {
     "data": {
      "text/plain": [
       "0.73707014"
      ]
     },
     "execution_count": 79,
     "metadata": {},
     "output_type": "execute_result"
    }
   ],
   "source": [
    "model.wv.similarity(\"good\",\"bad\")"
   ]
  },
  {
   "cell_type": "code",
   "execution_count": 80,
   "metadata": {},
   "outputs": [
    {
     "data": {
      "text/plain": [
       "[('invention', 0.8140642642974854),\n",
       " ('syllable', 0.8140291571617126),\n",
       " ('suspicion', 0.801071047782898),\n",
       " ('blunder', 0.7932155728340149),\n",
       " ('absurd', 0.7883951663970947),\n",
       " ('spell', 0.7875004410743713),\n",
       " ('relative', 0.7866086959838867),\n",
       " ('reality', 0.7855430841445923),\n",
       " ('situation', 0.7820289134979248),\n",
       " ('misfortune', 0.7811897397041321)]"
      ]
     },
     "execution_count": 80,
     "metadata": {},
     "output_type": "execute_result"
    }
   ],
   "source": [
    "model.wv.most_similar('idea')"
   ]
  },
  {
   "cell_type": "code",
   "execution_count": 81,
   "metadata": {},
   "outputs": [
    {
     "data": {
      "text/plain": [
       "[('night', 0.803787350654602),\n",
       " ('morning', 0.7823374271392822),\n",
       " ('time', 0.7260106801986694),\n",
       " ('month', 0.706618070602417),\n",
       " ('week', 0.7015435099601746),\n",
       " ('evening', 0.6939975023269653),\n",
       " ('sabbath', 0.6819549202919006),\n",
       " ('Saturday', 0.6641039848327637),\n",
       " ('morrow', 0.6530959606170654),\n",
       " ('feasting', 0.6526343822479248)]"
      ]
     },
     "execution_count": 81,
     "metadata": {},
     "output_type": "execute_result"
    }
   ],
   "source": [
    "model.wv.most_similar('day')"
   ]
  },
  {
   "cell_type": "code",
   "execution_count": 82,
   "metadata": {},
   "outputs": [
    {
     "data": {
      "text/plain": [
       "'day'"
      ]
     },
     "execution_count": 82,
     "metadata": {},
     "output_type": "execute_result"
    }
   ],
   "source": [
    "model.wv.doesnt_match(\"dog cat day\".split())"
   ]
  },
  {
   "cell_type": "code",
   "execution_count": 83,
   "metadata": {},
   "outputs": [
    {
     "data": {
      "text/plain": [
       "0.8714175"
      ]
     },
     "execution_count": 83,
     "metadata": {},
     "output_type": "execute_result"
    }
   ],
   "source": [
    "model.wv.similarity(\"father\",\"mother\")"
   ]
  },
  {
   "cell_type": "code",
   "execution_count": 84,
   "metadata": {},
   "outputs": [
    {
     "data": {
      "text/plain": [
       "0.49961588"
      ]
     },
     "execution_count": 84,
     "metadata": {},
     "output_type": "execute_result"
    }
   ],
   "source": [
    "model.wv.similarity(\"man\",\"woman\")"
   ]
  },
  {
   "cell_type": "code",
   "execution_count": 86,
   "metadata": {},
   "outputs": [
    {
     "data": {
      "text/plain": [
       "[('mother', 0.8845524191856384),\n",
       " ('sister', 0.8123290538787842),\n",
       " ('husband', 0.730630099773407),\n",
       " ('nurse', 0.7102228999137878),\n",
       " ('wife', 0.7005802989006042),\n",
       " ('brother', 0.6997630596160889),\n",
       " ('Amnon', 0.6719084978103638),\n",
       " ('Mary', 0.6717664003372192),\n",
       " ('sisters', 0.6645084023475647),\n",
       " ('whoredoms', 0.6630162000656128)]"
      ]
     },
     "execution_count": 86,
     "metadata": {},
     "output_type": "execute_result"
    }
   ],
   "source": [
    "model.wv.most_similar(positive=['father','daughter'],negative=['son'])"
   ]
  },
  {
   "cell_type": "code",
   "execution_count": 87,
   "metadata": {},
   "outputs": [
    {
     "data": {
      "text/plain": [
       "0.7120075"
      ]
     },
     "execution_count": 87,
     "metadata": {},
     "output_type": "execute_result"
    }
   ],
   "source": [
    "model.wv.similarity(\"daughter\",\"son\")"
   ]
  },
  {
   "cell_type": "code",
   "execution_count": 33,
   "metadata": {},
   "outputs": [
    {
     "name": "stdout",
     "output_type": "stream",
     "text": [
      "CPU times: user 8.46 ms, sys: 3.54 ms, total: 12 ms\n",
      "Wall time: 10.9 ms\n"
     ]
    }
   ],
   "source": [
    "#save the model you can continue training it later\n",
    "\n",
    "%time model = Word2Vec(sentences=common_texts, size=100, window=5, min_count=1, workers=4)\n",
    "model.save(\"word2vec.model\")"
   ]
  },
  {
   "cell_type": "code",
   "execution_count": 34,
   "metadata": {},
   "outputs": [
    {
     "data": {
      "text/plain": [
       "(0, 2)"
      ]
     },
     "execution_count": 34,
     "metadata": {},
     "output_type": "execute_result"
    }
   ],
   "source": [
    "model = Word2Vec.load(\"word2vec.model\")\n",
    "model.train([[\"hello\", \"world\"]], total_examples=1, epochs=1)"
   ]
  },
  {
   "cell_type": "code",
   "execution_count": 38,
   "metadata": {},
   "outputs": [],
   "source": [
    "from gensim.models import KeyedVectors\n",
    "\n",
    "# Store just the words + their trained embeddings.\n",
    "word_vectors = model.wv\n",
    "word_vectors.save(\"word2vec.wordvectors\")\n",
    "\n",
    "# Load back with memory-mapping = read-only, shared across processes.\n",
    "wv = KeyedVectors.load(\"word2vec.wordvectors\", mmap='r')\n",
    "\n",
    "vector = wv['computer']  # Get numpy vector of a word"
   ]
  },
  {
   "cell_type": "code",
   "execution_count": 39,
   "metadata": {},
   "outputs": [
    {
     "data": {
      "text/plain": [
       "array([ 2.1135228e-04,  3.4071116e-03,  3.1136973e-03,  4.7238586e-03,\n",
       "       -4.6214769e-03, -6.0558546e-04, -2.4903899e-03, -2.2245266e-03,\n",
       "       -1.5631334e-03, -6.6952163e-04,  1.2786501e-03, -2.1475751e-03,\n",
       "       -4.2066793e-03, -2.5279021e-03,  4.0735127e-03, -1.1488143e-03,\n",
       "        2.4354309e-03,  1.5119050e-03, -1.3737538e-03, -6.6109333e-04,\n",
       "        4.2646620e-03, -1.1024964e-03, -4.8230798e-03, -1.3292324e-03,\n",
       "       -1.0041082e-03, -2.6194046e-03,  3.2009222e-03,  2.3624161e-04,\n",
       "       -2.6949944e-03, -4.7034488e-04, -3.2019368e-04,  1.5406819e-03,\n",
       "       -9.3156251e-04, -3.4773699e-03,  1.0754210e-03,  2.1957359e-03,\n",
       "        3.2040151e-03,  4.5571630e-03, -2.7689338e-03, -4.5629214e-03,\n",
       "        3.5853363e-03,  1.3106880e-03, -2.9889198e-03, -4.4078073e-03,\n",
       "        2.9101125e-03, -4.2053447e-03, -1.3857180e-03,  4.9967156e-03,\n",
       "       -7.0619321e-04, -2.6414481e-03,  6.5895432e-04, -4.3613892e-03,\n",
       "        3.8705787e-04, -3.1371883e-03, -3.6650216e-03,  2.4110393e-03,\n",
       "       -1.4975861e-03,  4.6917694e-03,  4.7566593e-03,  2.0660353e-03,\n",
       "       -1.4870241e-03,  1.6618142e-03,  4.3113471e-04,  1.3721080e-03,\n",
       "       -1.0250321e-03,  3.2829859e-03,  3.6757747e-03, -4.3952293e-03,\n",
       "        1.5640445e-03,  6.3904159e-04, -4.7626467e-03,  1.7138409e-03,\n",
       "        7.4523792e-05,  2.7469017e-03, -1.7758078e-04, -2.6225545e-03,\n",
       "        3.2331434e-03,  1.0569153e-05,  5.0739659e-04,  2.0671517e-03,\n",
       "       -3.5799621e-03,  4.3679951e-04,  1.5122690e-03, -3.4552775e-03,\n",
       "       -2.4285153e-03, -2.1255566e-03,  3.0843823e-03,  2.1430131e-03,\n",
       "        3.4674691e-04,  9.2909715e-05,  2.0317582e-03,  4.3269200e-03,\n",
       "        3.3704038e-03, -3.0381531e-03,  7.6672126e-04,  2.3344357e-03,\n",
       "       -2.5626237e-03, -4.4877720e-03, -3.3175764e-03, -4.9983277e-03],\n",
       "      dtype=float32)"
      ]
     },
     "execution_count": 39,
     "metadata": {},
     "output_type": "execute_result"
    }
   ],
   "source": [
    "vector"
   ]
  },
  {
   "cell_type": "code",
   "execution_count": 40,
   "metadata": {},
   "outputs": [],
   "source": [
    "from gensim.models import Phrases\n",
    "# Train a bigram detector.\n",
    "bigram_transformer = Phrases(common_texts)\n",
    "    # Apply the trained MWE detector to a corpus, using the result to train a Word2vec model.\n",
    "model = Word2Vec(bigram_transformer[common_texts], min_count=1)"
   ]
  },
  {
   "cell_type": "code",
   "execution_count": 41,
   "metadata": {},
   "outputs": [
    {
     "data": {
      "text/plain": [
       "12"
      ]
     },
     "execution_count": 41,
     "metadata": {},
     "output_type": "execute_result"
    }
   ],
   "source": [
    "len(model.wv.vocab)"
   ]
  },
  {
   "cell_type": "code",
   "execution_count": 42,
   "metadata": {},
   "outputs": [
    {
     "data": {
      "text/plain": [
       "{'human': <gensim.models.keyedvectors.Vocab at 0x7fc814e37850>,\n",
       " 'interface': <gensim.models.keyedvectors.Vocab at 0x7fc81e49ab10>,\n",
       " 'computer': <gensim.models.keyedvectors.Vocab at 0x7fc81e49acd0>,\n",
       " 'survey': <gensim.models.keyedvectors.Vocab at 0x7fc81e49ad10>,\n",
       " 'user': <gensim.models.keyedvectors.Vocab at 0x7fc81e49a310>,\n",
       " 'system': <gensim.models.keyedvectors.Vocab at 0x7fc81e49aa50>,\n",
       " 'response': <gensim.models.keyedvectors.Vocab at 0x7fc81e49add0>,\n",
       " 'time': <gensim.models.keyedvectors.Vocab at 0x7fc81e49a690>,\n",
       " 'eps': <gensim.models.keyedvectors.Vocab at 0x7fc81e49abd0>,\n",
       " 'trees': <gensim.models.keyedvectors.Vocab at 0x7fc81e49af50>,\n",
       " 'graph': <gensim.models.keyedvectors.Vocab at 0x7fc81e49aad0>,\n",
       " 'minors': <gensim.models.keyedvectors.Vocab at 0x7fc81e49aa10>}"
      ]
     },
     "execution_count": 42,
     "metadata": {},
     "output_type": "execute_result"
    }
   ],
   "source": [
    "model.wv.vocab"
   ]
  },
  {
   "cell_type": "code",
   "execution_count": null,
   "metadata": {},
   "outputs": [],
   "source": [
    "#Gensim comes with several already pre-trained models, in the Gensim-data repository"
   ]
  },
  {
   "cell_type": "code",
   "execution_count": 43,
   "metadata": {},
   "outputs": [
    {
     "name": "stdout",
     "output_type": "stream",
     "text": [
      "['fasttext-wiki-news-subwords-300', 'conceptnet-numberbatch-17-06-300', 'word2vec-ruscorpora-300', 'word2vec-google-news-300', 'glove-wiki-gigaword-50', 'glove-wiki-gigaword-100', 'glove-wiki-gigaword-200', 'glove-wiki-gigaword-300', 'glove-twitter-25', 'glove-twitter-50', 'glove-twitter-100', 'glove-twitter-200', '__testing_word2vec-matrix-synopsis']\n"
     ]
    }
   ],
   "source": [
    "import gensim.downloader\n",
    "# Show all available models in gensim-data\n",
    "print(list(gensim.downloader.info()['models'].keys()))"
   ]
  },
  {
   "cell_type": "code",
   "execution_count": 45,
   "metadata": {
    "collapsed": true,
    "jupyter": {
     "outputs_hidden": true
    }
   },
   "outputs": [
    {
     "name": "stdout",
     "output_type": "stream",
     "text": [
      "[=============-------------------------------------] 27.2% 28.5/104.8MB downloaded"
     ]
    },
    {
     "name": "stderr",
     "output_type": "stream",
     "text": [
      "IOPub message rate exceeded.\n",
      "The notebook server will temporarily stop sending output\n",
      "to the client in order to avoid crashing it.\n",
      "To change this limit, set the config variable\n",
      "`--NotebookApp.iopub_msg_rate_limit`.\n",
      "\n",
      "Current values:\n",
      "NotebookApp.iopub_msg_rate_limit=1000.0 (msgs/sec)\n",
      "NotebookApp.rate_limit_window=3.0 (secs)\n",
      "\n"
     ]
    },
    {
     "name": "stdout",
     "output_type": "stream",
     "text": [
      "[============================----------------------] 57.1% 59.8/104.8MB downloaded"
     ]
    },
    {
     "name": "stderr",
     "output_type": "stream",
     "text": [
      "IOPub message rate exceeded.\n",
      "The notebook server will temporarily stop sending output\n",
      "to the client in order to avoid crashing it.\n",
      "To change this limit, set the config variable\n",
      "`--NotebookApp.iopub_msg_rate_limit`.\n",
      "\n",
      "Current values:\n",
      "NotebookApp.iopub_msg_rate_limit=1000.0 (msgs/sec)\n",
      "NotebookApp.rate_limit_window=3.0 (secs)\n",
      "\n"
     ]
    },
    {
     "name": "stdout",
     "output_type": "stream",
     "text": [
      "[===========================================-------] 87.7% 91.9/104.8MB downloaded"
     ]
    },
    {
     "name": "stderr",
     "output_type": "stream",
     "text": [
      "IOPub message rate exceeded.\n",
      "The notebook server will temporarily stop sending output\n",
      "to the client in order to avoid crashing it.\n",
      "To change this limit, set the config variable\n",
      "`--NotebookApp.iopub_msg_rate_limit`.\n",
      "\n",
      "Current values:\n",
      "NotebookApp.iopub_msg_rate_limit=1000.0 (msgs/sec)\n",
      "NotebookApp.rate_limit_window=3.0 (secs)\n",
      "\n"
     ]
    },
    {
     "name": "stdout",
     "output_type": "stream",
     "text": [
      "[==================================================] 100.0% 104.8/104.8MB downloaded\n"
     ]
    }
   ],
   "source": [
    "# Download the \"glove-twitter-25\" embeddings\n",
    "glove_vectors = gensim.downloader.load('glove-twitter-25')"
   ]
  },
  {
   "cell_type": "code",
   "execution_count": 88,
   "metadata": {},
   "outputs": [
    {
     "data": {
      "text/plain": [
       "1193514"
      ]
     },
     "execution_count": 88,
     "metadata": {},
     "output_type": "execute_result"
    }
   ],
   "source": [
    "len(glove_vectors.wv.vocab)"
   ]
  },
  {
   "cell_type": "code",
   "execution_count": 72,
   "metadata": {},
   "outputs": [
    {
     "data": {
      "text/plain": [
       "[('facebook', 0.948005199432373),\n",
       " ('tweet', 0.9403422474861145),\n",
       " ('fb', 0.9342359304428101),\n",
       " ('instagram', 0.9104823470115662),\n",
       " ('chat', 0.8964965343475342),\n",
       " ('hashtag', 0.8885936737060547),\n",
       " ('tweets', 0.8878158926963806),\n",
       " ('tl', 0.8778461813926697),\n",
       " ('link', 0.8778210878372192),\n",
       " ('internet', 0.8753897547721863)]"
      ]
     },
     "execution_count": 72,
     "metadata": {},
     "output_type": "execute_result"
    }
   ],
   "source": [
    "glove_vectors.most_similar('twitter')"
   ]
  },
  {
   "cell_type": "code",
   "execution_count": 73,
   "metadata": {},
   "outputs": [
    {
     "data": {
      "text/plain": [
       "[('facebook', 0.9231430292129517),\n",
       " ('web', 0.9163658618927002),\n",
       " ('app', 0.9057581424713135),\n",
       " ('youtube', 0.8911036252975464),\n",
       " ('microsoft', 0.8854137659072876),\n",
       " ('online', 0.8836113214492798),\n",
       " ('yahoo', 0.8831738233566284),\n",
       " ('apple', 0.8823865652084351),\n",
       " ('internet', 0.8815464377403259),\n",
       " ('ios', 0.8784741163253784)]"
      ]
     },
     "execution_count": 73,
     "metadata": {},
     "output_type": "execute_result"
    }
   ],
   "source": [
    "glove_vectors.most_similar('google')"
   ]
  },
  {
   "cell_type": "code",
   "execution_count": 91,
   "metadata": {},
   "outputs": [
    {
     "data": {
      "text/plain": [
       "[('videos', 0.8904035687446594),\n",
       " ('hashtags', 0.8837083578109741),\n",
       " ('posts', 0.8716655969619751),\n",
       " ('tumblr', 0.8697806596755981),\n",
       " ('links', 0.8471584916114807),\n",
       " ('snapchat', 0.8462085723876953),\n",
       " ('hashtag', 0.8434150815010071),\n",
       " ('instagram', 0.825442910194397),\n",
       " ('youtube', 0.8128287196159363),\n",
       " ('gifs', 0.8099989295005798)]"
      ]
     },
     "execution_count": 91,
     "metadata": {},
     "output_type": "execute_result"
    }
   ],
   "source": [
    "glove_vectors.wv.most_similar(positive=['facebook','tweets'],negative=['twitter'])"
   ]
  },
  {
   "cell_type": "code",
   "execution_count": null,
   "metadata": {},
   "outputs": [],
   "source": []
  },
  {
   "cell_type": "code",
   "execution_count": null,
   "metadata": {},
   "outputs": [],
   "source": []
  },
  {
   "cell_type": "code",
   "execution_count": null,
   "metadata": {},
   "outputs": [],
   "source": []
  }
 ],
 "metadata": {
  "kernelspec": {
   "display_name": "Python 3",
   "language": "python",
   "name": "python3"
  },
  "language_info": {
   "codemirror_mode": {
    "name": "ipython",
    "version": 3
   },
   "file_extension": ".py",
   "mimetype": "text/x-python",
   "name": "python",
   "nbconvert_exporter": "python",
   "pygments_lexer": "ipython3",
   "version": "3.7.6"
  }
 },
 "nbformat": 4,
 "nbformat_minor": 4
}
