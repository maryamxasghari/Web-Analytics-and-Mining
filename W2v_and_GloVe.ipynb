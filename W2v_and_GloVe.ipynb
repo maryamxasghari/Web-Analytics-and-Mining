{
  "nbformat": 4,
  "nbformat_minor": 0,
  "metadata": {
    "colab": {
      "name": "W2v and GloVe.ipynb",
      "provenance": [],
      "authorship_tag": "ABX9TyNF3HZC/YuB6TeJUdoa7B8t"
    },
    "kernelspec": {
      "name": "python3",
      "display_name": "Python 3"
    },
    "language_info": {
      "name": "python"
    }
  },
  "cells": [
    {
      "cell_type": "markdown",
      "metadata": {
        "id": "_DF_N2n94iKb"
      },
      "source": [
        "## word2vec pretrained model "
      ]
    },
    {
      "cell_type": "code",
      "metadata": {
        "id": "7Q-X_wEW-v4S"
      },
      "source": [
        "import gensim.downloader as api\n",
        "api.info()"
      ],
      "execution_count": null,
      "outputs": []
    },
    {
      "cell_type": "code",
      "metadata": {
        "colab": {
          "base_uri": "https://localhost:8080/"
        },
        "id": "u7O-XxF03j4u",
        "outputId": "56545606-893c-4bc2-8d64-41c6d5e75779"
      },
      "source": [
        "from gensim.models import Word2Vec \n",
        "import gensim.downloader as api\n",
        "w2v_model = api.load('word2vec-google-news-300')\n"
      ],
      "execution_count": 3,
      "outputs": [
        {
          "output_type": "stream",
          "text": [
            "[==================================================] 100.0% 1662.8/1662.8MB downloaded\n"
          ],
          "name": "stdout"
        }
      ]
    },
    {
      "cell_type": "code",
      "metadata": {
        "colab": {
          "base_uri": "https://localhost:8080/"
        },
        "id": "0rFRdYiP6tmu",
        "outputId": "3c66fccf-8941-4d28-815b-2ea081117f53"
      },
      "source": [
        "len(w2v_model.vocab)"
      ],
      "execution_count": 24,
      "outputs": [
        {
          "output_type": "execute_result",
          "data": {
            "text/plain": [
              "3000000"
            ]
          },
          "metadata": {
            "tags": []
          },
          "execution_count": 24
        }
      ]
    },
    {
      "cell_type": "code",
      "metadata": {
        "colab": {
          "base_uri": "https://localhost:8080/"
        },
        "id": "rCpBo9z36xxC",
        "outputId": "56e5cee6-594c-4cc9-c77f-be9ac404258d"
      },
      "source": [
        "# sample_word2vec_embedding\n",
        "w2v_model['computer'].size"
      ],
      "execution_count": 5,
      "outputs": [
        {
          "output_type": "execute_result",
          "data": {
            "text/plain": [
              "300"
            ]
          },
          "metadata": {
            "tags": []
          },
          "execution_count": 5
        }
      ]
    },
    {
      "cell_type": "code",
      "metadata": {
        "id": "QL-K3YzG5IpQ"
      },
      "source": [
        "w2v_model['computer'] #array size 300"
      ],
      "execution_count": null,
      "outputs": []
    },
    {
      "cell_type": "code",
      "metadata": {
        "colab": {
          "base_uri": "https://localhost:8080/"
        },
        "id": "kcV03G0o7UmL",
        "outputId": "ab6f04dc-34ce-42ce-a159-59a35848f905"
      },
      "source": [
        "w2v_model.most_similar('computer')"
      ],
      "execution_count": 7,
      "outputs": [
        {
          "output_type": "execute_result",
          "data": {
            "text/plain": [
              "[('computers', 0.7979379892349243),\n",
              " ('laptop', 0.6640493273735046),\n",
              " ('laptop_computer', 0.6548868417739868),\n",
              " ('Computer', 0.6473334431648254),\n",
              " ('com_puter', 0.6082079410552979),\n",
              " ('technician_Leonard_Luchko', 0.5662748217582703),\n",
              " ('mainframes_minicomputers', 0.5617721080780029),\n",
              " ('laptop_computers', 0.5585449934005737),\n",
              " ('PC', 0.5539618134498596),\n",
              " ('maker_Dell_DELL.O', 0.5519254207611084)]"
            ]
          },
          "metadata": {
            "tags": []
          },
          "execution_count": 7
        }
      ]
    },
    {
      "cell_type": "markdown",
      "metadata": {
        "id": "aENVwlOd_5wa"
      },
      "source": [
        "## load a corpus and use it to train a Word2Vec model"
      ]
    },
    {
      "cell_type": "code",
      "metadata": {
        "colab": {
          "base_uri": "https://localhost:8080/"
        },
        "id": "398jN6Xt_dRf",
        "outputId": "f2ce7358-4b25-46cc-ce4b-c9b707180811"
      },
      "source": [
        "corpus = api.load('text8')\n",
        "model = Word2Vec(corpus)  # train a model from the corpus\n",
        "len(model.wv.vocab), model['computer'].size"
      ],
      "execution_count": 30,
      "outputs": [
        {
          "output_type": "stream",
          "text": [
            "/usr/local/lib/python3.7/dist-packages/ipykernel_launcher.py:3: DeprecationWarning: Call to deprecated `__getitem__` (Method will be removed in 4.0.0, use self.wv.__getitem__() instead).\n",
            "  This is separate from the ipykernel package so we can avoid doing imports until\n"
          ],
          "name": "stderr"
        },
        {
          "output_type": "execute_result",
          "data": {
            "text/plain": [
              "(71290, 100)"
            ]
          },
          "metadata": {
            "tags": []
          },
          "execution_count": 30
        }
      ]
    },
    {
      "cell_type": "code",
      "metadata": {
        "colab": {
          "base_uri": "https://localhost:8080/"
        },
        "id": "h30SKA-NXVrz",
        "outputId": "56dd8c13-5f31-44b4-9132-087ff2075eb1"
      },
      "source": [
        "len(model.wv.vocab)"
      ],
      "execution_count": 31,
      "outputs": [
        {
          "output_type": "execute_result",
          "data": {
            "text/plain": [
              "71290"
            ]
          },
          "metadata": {
            "tags": []
          },
          "execution_count": 31
        }
      ]
    },
    {
      "cell_type": "code",
      "metadata": {
        "colab": {
          "base_uri": "https://localhost:8080/"
        },
        "id": "RX_1ccjYXYbG",
        "outputId": "01d09b82-51b9-4f87-8b50-85c850b1224c"
      },
      "source": [
        "print(model['computer'].size)"
      ],
      "execution_count": 33,
      "outputs": [
        {
          "output_type": "stream",
          "text": [
            "100\n"
          ],
          "name": "stdout"
        },
        {
          "output_type": "stream",
          "text": [
            "/usr/local/lib/python3.7/dist-packages/ipykernel_launcher.py:1: DeprecationWarning: Call to deprecated `__getitem__` (Method will be removed in 4.0.0, use self.wv.__getitem__() instead).\n",
            "  \"\"\"Entry point for launching an IPython kernel.\n"
          ],
          "name": "stderr"
        }
      ]
    },
    {
      "cell_type": "code",
      "metadata": {
        "colab": {
          "base_uri": "https://localhost:8080/"
        },
        "id": "69LuSyJuCbLC",
        "outputId": "b6ae9a8d-93eb-46b1-9011-bb004fd3b5e5"
      },
      "source": [
        "model.most_similar('computer')"
      ],
      "execution_count": 28,
      "outputs": [
        {
          "output_type": "stream",
          "text": [
            "/usr/local/lib/python3.7/dist-packages/ipykernel_launcher.py:1: DeprecationWarning: Call to deprecated `most_similar` (Method will be removed in 4.0.0, use self.wv.most_similar() instead).\n",
            "  \"\"\"Entry point for launching an IPython kernel.\n"
          ],
          "name": "stderr"
        },
        {
          "output_type": "execute_result",
          "data": {
            "text/plain": [
              "[('computing', 0.7104264497756958),\n",
              " ('computers', 0.7098677158355713),\n",
              " ('digital', 0.6829723715782166),\n",
              " ('programmer', 0.6421271562576294),\n",
              " ('hardware', 0.6412582397460938),\n",
              " ('console', 0.6410561800003052),\n",
              " ('graphical', 0.6329975724220276),\n",
              " ('simulation', 0.6283072233200073),\n",
              " ('handheld', 0.61688232421875),\n",
              " ('software', 0.6148202419281006)]"
            ]
          },
          "metadata": {
            "tags": []
          },
          "execution_count": 28
        }
      ]
    },
    {
      "cell_type": "code",
      "metadata": {
        "colab": {
          "base_uri": "https://localhost:8080/"
        },
        "id": "xYPrlTqEYK3X",
        "outputId": "bed92a33-35f5-48a8-b091-fd2eff96abc1"
      },
      "source": [
        "#model['flow'] , model['tensor']\n",
        "model.wv.__getitem__('flow') ,model.wv.__getitem__('tensor') "
      ],
      "execution_count": 38,
      "outputs": [
        {
          "output_type": "execute_result",
          "data": {
            "text/plain": [
              "(array([-0.8263409 , -2.7194889 ,  0.74562794, -0.30409655,  0.8435986 ,\n",
              "        -1.19195   ,  0.77676004,  0.25631022,  0.07560363, -0.30844462,\n",
              "        -0.3414454 ,  0.45569417,  1.9974518 , -0.81656873, -1.9540895 ,\n",
              "         1.869476  ,  0.32431912, -2.7079198 , -2.3917863 ,  1.1975931 ,\n",
              "        -0.23260845,  1.5878158 ,  0.09261911,  2.105399  , -1.7493708 ,\n",
              "         3.6529796 , -1.4322442 , -1.4743737 , -2.0685136 ,  1.4772209 ,\n",
              "         1.93881   , -0.39935556,  0.7585441 , -1.2275556 , -0.83198315,\n",
              "        -0.8538093 , -1.4849112 , -0.30939403,  0.14602557, -2.7296216 ,\n",
              "        -0.14308457,  1.2110387 , -1.0222305 ,  1.4852867 ,  0.82739586,\n",
              "        -1.073576  ,  1.7520001 , -0.43768632,  0.45581943, -0.35390812,\n",
              "        -1.3380151 , -0.8311494 ,  0.19729252, -0.4956679 ,  0.53167975,\n",
              "        -0.19774611, -1.5497911 ,  0.13610807,  1.0859314 ,  0.38119787,\n",
              "         1.3263352 , -0.8979501 , -1.5920448 , -1.6778995 ,  0.61268675,\n",
              "         0.50053114, -0.27681306, -0.6716262 ,  1.3354963 ,  0.09893414,\n",
              "        -0.36360314, -0.5647342 , -1.5108622 , -1.1514684 ,  0.7196064 ,\n",
              "        -0.9653041 , -1.9639887 ,  0.47378364, -1.3030504 ,  0.58798015,\n",
              "         0.68287075,  0.8634524 , -1.7206665 ,  1.8002843 , -0.36418194,\n",
              "         2.23787   ,  0.8228327 ,  1.7687892 ,  0.66967744,  0.5607018 ,\n",
              "         1.6174878 , -0.6680319 , -0.60614324, -0.02373218,  0.14222413,\n",
              "        -0.0443133 ,  0.9078727 , -0.29867426,  0.1403794 ,  0.67392206],\n",
              "       dtype=float32),\n",
              " array([-0.5376172 ,  0.19696897, -0.18300189,  0.24645707,  0.3034194 ,\n",
              "        -0.02396804, -0.21705729, -0.24344876, -0.04549507,  0.24371783,\n",
              "         0.11329465, -0.5423657 ,  0.274561  , -0.38206303, -0.40503794,\n",
              "         0.25552395,  0.09372783,  0.22020705, -0.5729982 ,  0.68770486,\n",
              "         0.4342872 ,  0.23632652, -0.10889272, -0.13791744, -0.43970823,\n",
              "         0.57231987, -0.05871286,  0.0595316 , -0.63605946, -0.5396523 ,\n",
              "         0.35586506,  0.10030729, -0.12462465, -1.0018809 ,  0.89454275,\n",
              "        -0.19468722, -0.5484091 ,  1.0525277 ,  0.9074046 , -0.48582476,\n",
              "         0.18487342,  0.00896354,  0.0591791 ,  0.5244119 ,  0.959961  ,\n",
              "         0.22947489,  0.18520662,  0.17586502,  0.6445848 ,  0.57819   ,\n",
              "        -0.31568465, -0.0936581 , -0.33284932,  0.4168277 , -0.09891422,\n",
              "        -0.12773007, -0.3956637 ,  0.48528272,  0.25012776,  0.37649187,\n",
              "        -0.15927106,  0.48956817, -0.29653156, -0.38578886, -0.3348413 ,\n",
              "         0.07178299, -0.6435336 ,  0.23656665,  0.5466459 ,  0.736443  ,\n",
              "         0.28069898, -0.05184789,  0.50787014,  0.21356997,  0.00921006,\n",
              "         0.30579087, -0.1667227 ,  0.47326213, -0.16162   , -0.07339453,\n",
              "         0.5620731 , -0.00783136, -0.28778535,  1.6070228 , -0.2609926 ,\n",
              "         0.05760243,  0.44987983,  0.5061659 ,  0.42007852,  0.11154434,\n",
              "         0.11753581, -1.2567692 , -0.744558  ,  0.04916205,  0.45422268,\n",
              "        -0.48056927,  1.2413355 ,  0.06866675, -0.08643352,  0.3532829 ],\n",
              "       dtype=float32))"
            ]
          },
          "metadata": {
            "tags": []
          },
          "execution_count": 38
        }
      ]
    },
    {
      "cell_type": "code",
      "metadata": {
        "colab": {
          "base_uri": "https://localhost:8080/",
          "height": 307
        },
        "id": "s_Q3AARKZCat",
        "outputId": "2ea11773-d336-48f1-cc61-2c09e3276a26"
      },
      "source": [
        "model.wv.__getitem__('tensorflow') "
      ],
      "execution_count": 39,
      "outputs": [
        {
          "output_type": "error",
          "ename": "KeyError",
          "evalue": "ignored",
          "traceback": [
            "\u001b[0;31m---------------------------------------------------------------------------\u001b[0m",
            "\u001b[0;31mKeyError\u001b[0m                                  Traceback (most recent call last)",
            "\u001b[0;32m<ipython-input-39-e3d92f26f090>\u001b[0m in \u001b[0;36m<module>\u001b[0;34m()\u001b[0m\n\u001b[0;32m----> 1\u001b[0;31m \u001b[0mmodel\u001b[0m\u001b[0;34m.\u001b[0m\u001b[0mwv\u001b[0m\u001b[0;34m.\u001b[0m\u001b[0m__getitem__\u001b[0m\u001b[0;34m(\u001b[0m\u001b[0;34m'tensorflow'\u001b[0m\u001b[0;34m)\u001b[0m\u001b[0;34m\u001b[0m\u001b[0;34m\u001b[0m\u001b[0m\n\u001b[0m",
            "\u001b[0;32m/usr/local/lib/python3.7/dist-packages/gensim/models/keyedvectors.py\u001b[0m in \u001b[0;36m__getitem__\u001b[0;34m(self, entities)\u001b[0m\n\u001b[1;32m    335\u001b[0m         \u001b[0;32mif\u001b[0m \u001b[0misinstance\u001b[0m\u001b[0;34m(\u001b[0m\u001b[0mentities\u001b[0m\u001b[0;34m,\u001b[0m \u001b[0mstring_types\u001b[0m\u001b[0;34m)\u001b[0m\u001b[0;34m:\u001b[0m\u001b[0;34m\u001b[0m\u001b[0;34m\u001b[0m\u001b[0m\n\u001b[1;32m    336\u001b[0m             \u001b[0;31m# allow calls like trained_model['office'], as a shorthand for trained_model[['office']]\u001b[0m\u001b[0;34m\u001b[0m\u001b[0;34m\u001b[0m\u001b[0;34m\u001b[0m\u001b[0m\n\u001b[0;32m--> 337\u001b[0;31m             \u001b[0;32mreturn\u001b[0m \u001b[0mself\u001b[0m\u001b[0;34m.\u001b[0m\u001b[0mget_vector\u001b[0m\u001b[0;34m(\u001b[0m\u001b[0mentities\u001b[0m\u001b[0;34m)\u001b[0m\u001b[0;34m\u001b[0m\u001b[0;34m\u001b[0m\u001b[0m\n\u001b[0m\u001b[1;32m    338\u001b[0m \u001b[0;34m\u001b[0m\u001b[0m\n\u001b[1;32m    339\u001b[0m         \u001b[0;32mreturn\u001b[0m \u001b[0mvstack\u001b[0m\u001b[0;34m(\u001b[0m\u001b[0;34m[\u001b[0m\u001b[0mself\u001b[0m\u001b[0;34m.\u001b[0m\u001b[0mget_vector\u001b[0m\u001b[0;34m(\u001b[0m\u001b[0mentity\u001b[0m\u001b[0;34m)\u001b[0m \u001b[0;32mfor\u001b[0m \u001b[0mentity\u001b[0m \u001b[0;32min\u001b[0m \u001b[0mentities\u001b[0m\u001b[0;34m]\u001b[0m\u001b[0;34m)\u001b[0m\u001b[0;34m\u001b[0m\u001b[0;34m\u001b[0m\u001b[0m\n",
            "\u001b[0;32m/usr/local/lib/python3.7/dist-packages/gensim/models/keyedvectors.py\u001b[0m in \u001b[0;36mget_vector\u001b[0;34m(self, word)\u001b[0m\n\u001b[1;32m    453\u001b[0m \u001b[0;34m\u001b[0m\u001b[0m\n\u001b[1;32m    454\u001b[0m     \u001b[0;32mdef\u001b[0m \u001b[0mget_vector\u001b[0m\u001b[0;34m(\u001b[0m\u001b[0mself\u001b[0m\u001b[0;34m,\u001b[0m \u001b[0mword\u001b[0m\u001b[0;34m)\u001b[0m\u001b[0;34m:\u001b[0m\u001b[0;34m\u001b[0m\u001b[0;34m\u001b[0m\u001b[0m\n\u001b[0;32m--> 455\u001b[0;31m         \u001b[0;32mreturn\u001b[0m \u001b[0mself\u001b[0m\u001b[0;34m.\u001b[0m\u001b[0mword_vec\u001b[0m\u001b[0;34m(\u001b[0m\u001b[0mword\u001b[0m\u001b[0;34m)\u001b[0m\u001b[0;34m\u001b[0m\u001b[0;34m\u001b[0m\u001b[0m\n\u001b[0m\u001b[1;32m    456\u001b[0m \u001b[0;34m\u001b[0m\u001b[0m\n\u001b[1;32m    457\u001b[0m     \u001b[0;32mdef\u001b[0m \u001b[0mwords_closer_than\u001b[0m\u001b[0;34m(\u001b[0m\u001b[0mself\u001b[0m\u001b[0;34m,\u001b[0m \u001b[0mw1\u001b[0m\u001b[0;34m,\u001b[0m \u001b[0mw2\u001b[0m\u001b[0;34m)\u001b[0m\u001b[0;34m:\u001b[0m\u001b[0;34m\u001b[0m\u001b[0;34m\u001b[0m\u001b[0m\n",
            "\u001b[0;32m/usr/local/lib/python3.7/dist-packages/gensim/models/keyedvectors.py\u001b[0m in \u001b[0;36mword_vec\u001b[0;34m(self, word, use_norm)\u001b[0m\n\u001b[1;32m    450\u001b[0m             \u001b[0;32mreturn\u001b[0m \u001b[0mresult\u001b[0m\u001b[0;34m\u001b[0m\u001b[0;34m\u001b[0m\u001b[0m\n\u001b[1;32m    451\u001b[0m         \u001b[0;32melse\u001b[0m\u001b[0;34m:\u001b[0m\u001b[0;34m\u001b[0m\u001b[0;34m\u001b[0m\u001b[0m\n\u001b[0;32m--> 452\u001b[0;31m             \u001b[0;32mraise\u001b[0m \u001b[0mKeyError\u001b[0m\u001b[0;34m(\u001b[0m\u001b[0;34m\"word '%s' not in vocabulary\"\u001b[0m \u001b[0;34m%\u001b[0m \u001b[0mword\u001b[0m\u001b[0;34m)\u001b[0m\u001b[0;34m\u001b[0m\u001b[0;34m\u001b[0m\u001b[0m\n\u001b[0m\u001b[1;32m    453\u001b[0m \u001b[0;34m\u001b[0m\u001b[0m\n\u001b[1;32m    454\u001b[0m     \u001b[0;32mdef\u001b[0m \u001b[0mget_vector\u001b[0m\u001b[0;34m(\u001b[0m\u001b[0mself\u001b[0m\u001b[0;34m,\u001b[0m \u001b[0mword\u001b[0m\u001b[0;34m)\u001b[0m\u001b[0;34m:\u001b[0m\u001b[0;34m\u001b[0m\u001b[0;34m\u001b[0m\u001b[0m\n",
            "\u001b[0;31mKeyError\u001b[0m: \"word 'tensorflow' not in vocabulary\""
          ]
        }
      ]
    },
    {
      "cell_type": "markdown",
      "metadata": {
        "id": "k6WYlI4Y4nEp"
      },
      "source": [
        "## Glove pretrained model"
      ]
    },
    {
      "cell_type": "code",
      "metadata": {
        "colab": {
          "base_uri": "https://localhost:8080/"
        },
        "id": "iTI1boZ_3hhM",
        "outputId": "0d4e90ef-feec-4593-ef98-d53da451ea4c"
      },
      "source": [
        "#import gensim.downloader as api\n",
        "\n",
        "glove_model = api.load('glove-twitter-25')"
      ],
      "execution_count": 9,
      "outputs": [
        {
          "output_type": "stream",
          "text": [
            "[==================================================] 100.0% 104.8/104.8MB downloaded\n"
          ],
          "name": "stdout"
        }
      ]
    },
    {
      "cell_type": "code",
      "metadata": {
        "colab": {
          "base_uri": "https://localhost:8080/"
        },
        "id": "EPwy2lTT6umL",
        "outputId": "f0bcfb83-b02e-45a3-be0c-ab0c659a0f9e"
      },
      "source": [
        "len(glove_model.vocab)"
      ],
      "execution_count": 25,
      "outputs": [
        {
          "output_type": "execute_result",
          "data": {
            "text/plain": [
              "1193514"
            ]
          },
          "metadata": {
            "tags": []
          },
          "execution_count": 25
        }
      ]
    },
    {
      "cell_type": "code",
      "metadata": {
        "colab": {
          "base_uri": "https://localhost:8080/"
        },
        "id": "x7N0uSwm6yui",
        "outputId": "7f60597a-a5f0-4f31-9d67-1a4d863f64d7"
      },
      "source": [
        "#sample_glove_embedding\n",
        "glove_model['computer'].size"
      ],
      "execution_count": 11,
      "outputs": [
        {
          "output_type": "execute_result",
          "data": {
            "text/plain": [
              "25"
            ]
          },
          "metadata": {
            "tags": []
          },
          "execution_count": 11
        }
      ]
    },
    {
      "cell_type": "code",
      "metadata": {
        "colab": {
          "base_uri": "https://localhost:8080/"
        },
        "id": "8H4oqntW3twh",
        "outputId": "a8879b69-1364-485b-a422-f4d10544e1fe"
      },
      "source": [
        "glove_model['computer']"
      ],
      "execution_count": 13,
      "outputs": [
        {
          "output_type": "execute_result",
          "data": {
            "text/plain": [
              "array([ 0.64005 , -0.019514,  0.70148 , -0.66123 ,  1.1723  , -0.58859 ,\n",
              "        0.25917 , -0.81541 ,  1.1708  ,  1.1413  , -0.15405 , -0.11369 ,\n",
              "       -3.8414  , -0.87233 ,  0.47489 ,  1.1541  ,  0.97678 ,  1.1107  ,\n",
              "       -0.14572 , -0.52013 , -0.52234 , -0.92349 ,  0.34651 ,  0.061939,\n",
              "       -0.57375 ], dtype=float32)"
            ]
          },
          "metadata": {
            "tags": []
          },
          "execution_count": 13
        }
      ]
    },
    {
      "cell_type": "code",
      "metadata": {
        "colab": {
          "base_uri": "https://localhost:8080/"
        },
        "id": "md8QDzjS7fGA",
        "outputId": "64267698-2f0a-4c09-b74e-fda49b547c52"
      },
      "source": [
        "glove_model.most_similar('computer')"
      ],
      "execution_count": 14,
      "outputs": [
        {
          "output_type": "execute_result",
          "data": {
            "text/plain": [
              "[('camera', 0.907833456993103),\n",
              " ('cell', 0.891890287399292),\n",
              " ('server', 0.8744666576385498),\n",
              " ('device', 0.869352400302887),\n",
              " ('wifi', 0.8631256818771362),\n",
              " ('screen', 0.8621907234191895),\n",
              " ('app', 0.8615544438362122),\n",
              " ('case', 0.8587921857833862),\n",
              " ('remote', 0.8583616018295288),\n",
              " ('file', 0.8575270771980286)]"
            ]
          },
          "metadata": {
            "tags": []
          },
          "execution_count": 14
        }
      ]
    },
    {
      "cell_type": "code",
      "metadata": {
        "id": "WqWXiCWz8yRC"
      },
      "source": [
        ""
      ],
      "execution_count": null,
      "outputs": []
    }
  ]
}