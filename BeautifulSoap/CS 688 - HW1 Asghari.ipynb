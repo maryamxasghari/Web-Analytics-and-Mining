{
 "cells": [
  {
   "cell_type": "markdown",
   "metadata": {},
   "source": [
    "# CS 688 Homework 1 - Maryam Asghari"
   ]
  },
  {
   "cell_type": "markdown",
   "metadata": {},
   "source": [
    "## Scrape Bing.com & Get 50 Covid-19 Related News"
   ]
  },
  {
   "cell_type": "markdown",
   "metadata": {},
   "source": [
    "### (1) Use a BeautifulSoap,search for the Covid-19 and download 50 articles title or abstract, from the search result, via web scrapping."
   ]
  },
  {
   "cell_type": "markdown",
   "metadata": {},
   "source": [
    "Instal Splinter \n",
    "Splinter is an open source tool for testing web applications using Python. It lets you automate browser actions, such as visiting URLs and interacting with their items."
   ]
  },
  {
   "cell_type": "code",
   "execution_count": 1,
   "metadata": {},
   "outputs": [],
   "source": [
    "# ! pip install splinter"
   ]
  },
  {
   "cell_type": "markdown",
   "metadata": {},
   "source": [
    "Setting up Chrome WebDriver on macOS"
   ]
  },
  {
   "cell_type": "code",
   "execution_count": 2,
   "metadata": {},
   "outputs": [],
   "source": [
    "# ! brew cask install chromedriver"
   ]
  },
  {
   "cell_type": "markdown",
   "metadata": {},
   "source": [
    "Beautiful Soup has to be installed before Python can use it.\n",
    "To do this : run pip install bs4 within the terminal."
   ]
  },
  {
   "cell_type": "code",
   "execution_count": 3,
   "metadata": {},
   "outputs": [],
   "source": [
    "# Dependencies\n",
    "\n",
    "import requests  \n",
    "#The requests module allows us to send HTTP requests using Python\n",
    "\n",
    "from bs4 import BeautifulSoup  \n",
    "#This line is used to import the Beautiful Soup library into the application.\n",
    "\n",
    "# import Pandas Library\n",
    "import pandas as pd  \n",
    "\n",
    "# import RE Library\n",
    "import re \n",
    "#Regular expression operations Library the functions in this module let us check \n",
    "#if a particular string matches a given regular expression\n",
    "\n",
    "# import matplotlib Library\n",
    "import matplotlib.pyplot as plt \n",
    "\n",
    "#Using Splinter to automate browser actions\n",
    "from splinter import Browser  "
   ]
  },
  {
   "cell_type": "code",
   "execution_count": 4,
   "metadata": {},
   "outputs": [
    {
     "name": "stdout",
     "output_type": "stream",
     "text": [
      "/usr/local/bin/chromedriver\n"
     ]
    }
   ],
   "source": [
    "#choosing chrom driver \n",
    "!which chromedriver"
   ]
  },
  {
   "cell_type": "markdown",
   "metadata": {},
   "source": [
    "Useing Chrome from a custom path: \n",
    "pass the executable path as a dictionary to the **kwargs argument. \n",
    "Set up the dictionry with executable_path as the key and the value set to the path to the executable file."
   ]
  },
  {
   "cell_type": "code",
   "execution_count": 5,
   "metadata": {},
   "outputs": [],
   "source": [
    "executable_path = {'executable_path': '/usr/local/bin/chromedriver'}\n",
    "browser = Browser('chrome', **executable_path, headless=False)"
   ]
  },
  {
   "cell_type": "markdown",
   "metadata": {},
   "source": [
    "Specify the link of the web page we want to scrape\n",
    "We need to search for COVID-19"
   ]
  },
  {
   "cell_type": "code",
   "execution_count": 7,
   "metadata": {},
   "outputs": [],
   "source": [
    "query = 'COVID-19'.lower()  \n",
    "url = f'https://www.bing.com/news/search?q={query}&form=QBNH'"
   ]
  },
  {
   "cell_type": "code",
   "execution_count": 8,
   "metadata": {},
   "outputs": [],
   "source": [
    "# visiting the Url in the our browser \n",
    "browser.visit(url)"
   ]
  },
  {
   "cell_type": "markdown",
   "metadata": {},
   "source": [
    "Note :we need to give it some time, scroll down to the bottom of the page to read all 50 news"
   ]
  },
  {
   "cell_type": "code",
   "execution_count": 9,
   "metadata": {},
   "outputs": [],
   "source": [
    "html = browser.html"
   ]
  },
  {
   "cell_type": "code",
   "execution_count": 10,
   "metadata": {},
   "outputs": [],
   "source": [
    "#Creat a Beautiful Soup object and the object returned is assigned to the soup variable.\n",
    "soup = BeautifulSoup(html, 'html.parser')   \n"
   ]
  },
  {
   "cell_type": "code",
   "execution_count": 11,
   "metadata": {},
   "outputs": [
    {
     "data": {
      "text/plain": [
       "bs4.BeautifulSoup"
      ]
     },
     "execution_count": 11,
     "metadata": {},
     "output_type": "execute_result"
    }
   ],
   "source": [
    "#The type(soup) method being used confirms that \n",
    "#the soup object created is indeed a BeautifulSoup object.\n",
    "\n",
    "type(soup)"
   ]
  },
  {
   "cell_type": "code",
   "execution_count": 12,
   "metadata": {},
   "outputs": [],
   "source": [
    "#Print formatted version of the soup that is easier to read.\n",
    "#print(soup. prettify())\n"
   ]
  },
  {
   "cell_type": "markdown",
   "metadata": {},
   "source": [
    "Check the formatted version of the soup  or use the website's html to find the id and class"
   ]
  },
  {
   "cell_type": "code",
   "execution_count": 13,
   "metadata": {},
   "outputs": [
    {
     "name": "stdout",
     "output_type": "stream",
     "text": [
      "Number of scraped news: 50\n"
     ]
    }
   ],
   "source": [
    "news = soup.find_all('div', class_='t_s', limit = 50)\n",
    "print(f'Number of scraped news: {len(news)}') #check out if we have 50 \n"
   ]
  },
  {
   "cell_type": "markdown",
   "metadata": {},
   "source": [
    "Only get the title and abstract using the id and class"
   ]
  },
  {
   "cell_type": "code",
   "execution_count": 14,
   "metadata": {},
   "outputs": [],
   "source": [
    "titles = [n.find('a',class_ = 'title').text for  n  in news]   #.text :Extract the text of the tittle\n",
    "abstracts = [n.find('div', class_='snippet').text for  n  in news]\n"
   ]
  },
  {
   "cell_type": "markdown",
   "metadata": {},
   "source": [
    "### (2) Stores the downloaded articles’ title and abstract on your local drive in a standard file format, CSV\n"
   ]
  },
  {
   "cell_type": "code",
   "execution_count": 15,
   "metadata": {},
   "outputs": [
    {
     "data": {
      "text/html": [
       "<div>\n",
       "<style scoped>\n",
       "    .dataframe tbody tr th:only-of-type {\n",
       "        vertical-align: middle;\n",
       "    }\n",
       "\n",
       "    .dataframe tbody tr th {\n",
       "        vertical-align: top;\n",
       "    }\n",
       "\n",
       "    .dataframe thead th {\n",
       "        text-align: right;\n",
       "    }\n",
       "</style>\n",
       "<table border=\"1\" class=\"dataframe\">\n",
       "  <thead>\n",
       "    <tr style=\"text-align: right;\">\n",
       "      <th></th>\n",
       "      <th>title</th>\n",
       "      <th>abstract</th>\n",
       "    </tr>\n",
       "  </thead>\n",
       "  <tbody>\n",
       "    <tr>\n",
       "      <th>0</th>\n",
       "      <td>US to roll out 8.5M at-home tests a month; Fau...</td>\n",
       "      <td>Federal health officials announced Monday a $2...</td>\n",
       "    </tr>\n",
       "    <tr>\n",
       "      <th>1</th>\n",
       "      <td>U.S. Cuts $231 Million Deal To Provide 15-Minu...</td>\n",
       "      <td>The Food and Drug Administration gave emergenc...</td>\n",
       "    </tr>\n",
       "    <tr>\n",
       "      <th>2</th>\n",
       "      <td>U.S. military comes to the aid of hospitals hi...</td>\n",
       "      <td>Medical personnel sent by the Department of De...</td>\n",
       "    </tr>\n",
       "    <tr>\n",
       "      <th>3</th>\n",
       "      <td>New diabetes cases linked to covid-19</td>\n",
       "      <td>Researchers don’t understand exactly how the d...</td>\n",
       "    </tr>\n",
       "    <tr>\n",
       "      <th>4</th>\n",
       "      <td>Third stimulus check updates: Biden to meet to...</td>\n",
       "      <td>President Joe Biden is set to meet on Monday w...</td>\n",
       "    </tr>\n",
       "  </tbody>\n",
       "</table>\n",
       "</div>"
      ],
      "text/plain": [
       "                                               title  \\\n",
       "0  US to roll out 8.5M at-home tests a month; Fau...   \n",
       "1  U.S. Cuts $231 Million Deal To Provide 15-Minu...   \n",
       "2  U.S. military comes to the aid of hospitals hi...   \n",
       "3              New diabetes cases linked to covid-19   \n",
       "4  Third stimulus check updates: Biden to meet to...   \n",
       "\n",
       "                                            abstract  \n",
       "0  Federal health officials announced Monday a $2...  \n",
       "1  The Food and Drug Administration gave emergenc...  \n",
       "2  Medical personnel sent by the Department of De...  \n",
       "3  Researchers don’t understand exactly how the d...  \n",
       "4  President Joe Biden is set to meet on Monday w...  "
      ]
     },
     "execution_count": 15,
     "metadata": {},
     "output_type": "execute_result"
    }
   ],
   "source": [
    "news_df = pd.DataFrame({'title': titles , 'abstract': abstracts })\n",
    "news_df.to_csv('Top_50_COVID19_news.csv', index = False)\n",
    "news_df.head()"
   ]
  },
  {
   "cell_type": "markdown",
   "metadata": {},
   "source": [
    "### (3)Write a script to look at the title of each article and count the following words: “Influenza”, “Travel”, “School”, “vaccine” Then, create a word frequency histogram."
   ]
  },
  {
   "cell_type": "code",
   "execution_count": 16,
   "metadata": {},
   "outputs": [],
   "source": [
    "#function to count the words \n",
    "def word_count(text,string):\n",
    "    words = text.split()\n",
    "    count = 0\n",
    "    for word in words:\n",
    "        if word.lower() == string.lower():\n",
    "            count += 1\n",
    "        else:\n",
    "            count += 0\n",
    "    return count"
   ]
  },
  {
   "cell_type": "code",
   "execution_count": 17,
   "metadata": {},
   "outputs": [],
   "source": [
    "#function to find the frequency of the words and plot the histogram \n",
    "def word_freq_inText(text_list, words):\n",
    "    \n",
    "    text_str = ' '.join(text_list)\n",
    "\n",
    "    #remove punctuation from the text\n",
    "    text_str = re.sub(r'[^\\w\\s]','',text_str) #use RE Library\n",
    "    print(text_str)\n",
    "    print('--'*20) \n",
    "\n",
    "    #Create a dictionary \n",
    "    words_freq = {} \n",
    "    for word in words:\n",
    "        words_freq[word] = word_count(text_str, word)\n",
    "        \n",
    "        \n",
    "    #Bar chart\n",
    "    keys = words_freq.keys()\n",
    "    values = words_freq.values()\n",
    "    \n",
    "    \n",
    "    fig = plt.figure(figsize=(16,8))\n",
    "    plt.bar(keys, values, color = 'darkblue')\n",
    "    \n",
    "    plt.ylabel('Count')\n",
    "    plt.title('Words count')\n",
    "    plt.show()\n",
    "\n",
    "    return words_freq"
   ]
  },
  {
   "cell_type": "markdown",
   "metadata": {},
   "source": [
    "#### 1. Title"
   ]
  },
  {
   "cell_type": "code",
   "execution_count": 18,
   "metadata": {},
   "outputs": [
    {
     "name": "stdout",
     "output_type": "stream",
     "text": [
      "US to roll out 85M athome tests a month Fauci urges Americans to get any vaccine when eligible Latest COVID19 updates US Cuts 231 Million Deal To Provide 15Minute COVID19 AtHome Tests US military comes to the aid of hospitals hit hard by COVID19 New diabetes cases linked to covid19 Third stimulus check updates Biden to meet today with Republican senators who want smaller COVID19 relief plan Covid19 Vaccines Leave Pregnant Women in a Quandary Oxford researchers didnt tell COVID19 vaccine trial volunteers of a dosing mistake when it was discovered a letter reveals US Invests 232 Million to Produce More AtHome Covid19 Tests Indiana opens COVID19 vaccine eligibility to those 6569 Shoppers face shortages of cars shirts and smart speakers amid COVID19 shipping delays As pandemic worsens Portugal reports nearly half of all its COVID19 deaths in January Nigerias Commercial Hub Begins Clinical Trial of AntiParasitic Ivermectin For Covid19 CDC says new US COVID19 cases are down but 3 variants cause concern The Black Tax of COVID19 Amid Pandemic Black Doctors Carry Double Load Florida covid vaccine rollout They care for Floridas elderly but home health care workers are struggling to get Covid19 vaccines Watch Live Federal public health officials discuss COVID19 response Captain Tom Moore 100yearold veteran who raised millions for coronavirus relief has COVID19 9 of Cuomos top health officials leave amid COVID19 vaccine rollout disagreements With pandemic worsening Portugal reports nearly half of all COVID19 deaths in January White House COVID19 Response Team Briefing Where are the new COVID19 variants This map will tell you which strains are in your state Vaccine not cause of death in man who had COVID19 shot officials say USWNTs Morgan reports for NWSL preseason after recovering from COVID19 Chicago teachers face work stoppage in COVID19 safety plan dispute Biden to Meet Republicans on COVID19 Plan in Test of Bipartisan Approach Opinion America needs better masks to fight Covid19 South Africa to welcome first delivery of COVID19 vaccines US to roll out 85M athome tests a month Fauci urges Americans to get any vaccine when eligible Latest COVID19 updates Joe Biden faces presidencydefining dilemma over Republican offer on Covid19 rescue plan Ariz reports lower number of new COVID19 cases but remains first nationwide for weekly case rate What Americas Richest Ski Towns Handling of COVID19 Says About the Country US consumers shunning cash during COVID19 pandemic Biden to meet with 10 GOP senators on COVID19 relief proposal How the COVID19 pandemic can be the push forward that the planet needs Amazon earnings preview Record holiday quarter expected but COVID19 expenses may curb profits Immigration detainee with COVID19 dies in Georgia hospital Phase 2 of COVID19 reopening plan begins in Puget Sound area Heres what you can and cant do Republicans press Biden to scale back 19 trillion COVID19 relief plan Bidens 1st 100 days live updates Biden to meet with GOP senators on COVID19 relief Californias outdoor dining ban was controversial Did it help slow the COVID19 surge Freezer failure leads to middleofthenight vaccination rush CDC mandates masks on public transit Latest COVID19 updates Northeast blizzard complicates Covid19 vaccination efforts Britains centenarian fundraiser Captain Tom in hospital with COVID19 Kelly Dodd of RHOC reacts to Positive Beverage letting her go following Covid19 comments NYC seeks refunds for students whose family moved pulled out because of COVID19 WSJ One positive COVID19 case drives 2M Australians into lockdown Northeast snowstorm closes vaccination sites in 7 states CDC transportation mask mandate starts Monday night Latest COVID19 updates Covid19 Live Updates US Vaccinations Gather Speed as Threat of Variants Grows Covid19 Snowstorm Disrupts Vaccinations Across Northeast Covid19 Vaccines Dont Appeal to Some Firefighters Even With Prizes\n",
      "----------------------------------------\n"
     ]
    },
    {
     "data": {
      "image/png": "[encoded data removed]",
      "text/plain": [
       "<Figure size 1152x576 with 1 Axes>"
      ]
     },
     "metadata": {
      "needs_background": "light"
     },
     "output_type": "display_data"
    },
    {
     "data": {
      "text/plain": [
       "{'Influenza': 0, 'Travel': 0, 'School': 0, 'Vaccine': 7}"
      ]
     },
     "execution_count": 18,
     "metadata": {},
     "output_type": "execute_result"
    }
   ],
   "source": [
    "words = [\"Influenza\" , \"Travel\" , \"School\" ,\"Vaccine\" ]\n",
    "\n",
    "word_freq_inText(text_list = titles, words= words)"
   ]
  },
  {
   "cell_type": "markdown",
   "metadata": {},
   "source": [
    "#### 2. Abstract"
   ]
  },
  {
   "cell_type": "code",
   "execution_count": 19,
   "metadata": {},
   "outputs": [
    {
     "name": "stdout",
     "output_type": "stream",
     "text": [
      "Federal health officials announced Monday a 230 million deal to expand the use of a nonprescription athome COVID19 test The Food and Drug Administration gave emergency authorization to Ellumes rapid test in December after it showed 96  Medical personnel sent by the Department of Defense to one Los Angeles hospital are acting as reinforcements to hold the line  Researchers dont understand exactly how the disease might trigger diabetes or whether the cases are temporary or permanent President Joe Biden is set to meet on Monday with 10 Republican senators who have proposed 618 billion in coronavirus relief  Expectant mothers faced with little data and mixed guidance are struggling to decide whether they should get vaccinated Medical ethicists said Oxford researchers may not have been transparent with participants in the trial for AstraZenecas shot  The US government is investing 2318 million to ramp up production from an Australian manufacturer of athome Covid19  Indiana health officials are making the COVID19 vaccine available to those between ages 65 and 69 The state Department of  Americans are facing delays and shortages of cars shirts electronics and more because of COVID19 related shipping tieups A patient is carried to the COVID19 Intensive Care Unit ICU of Cascais Hospital amid the coronavirus disease COVID19  Lagos state which includes Nigerias commercial hub and biggest city approved clinical trial of the drug Ivermectin to  The head of the Centers for Disease Control and Prevention says new COVID19 cases and hospitalizations are down in recent  Battling a disease thats disproportionately harmed their community while dealing with entrenched racism and discrimination  Evelyn Aub is a spunky senior who doesnt reveal her age to anyone But she admits that she qualifies to receive the Covid19  Members of the White House COVID19 response team and federal public health officials are holding a press briefing on the  Captain Sir Tom Moore who became a global symbol of hope after raising millions for Britains National Health Service  Nine of New York Gov Andrew Cuomos top health officials have left their posts or retired in the past several months Portugal reported close to half of all its COVID19 deaths in January highlighting the severe worsening of the pandemic in a  Andy Slavitt senior adviser on the White House COVID19 Response Team urges health care providers to vaccinate as many The  The Centers for Disease Control and Prevention has begun tracking the new SARSCoV2 variants with an interactive map COVID19 vaccine has been ruled out as a contributing factor in the death of a man who passed away several hours after being  USWNT star Alex Morgan has reported to Orlando Prides National Womens Soccer League preseason camp after recovering from  Chicago teachers appeared headed on Monday for a strike or lockout over their latest dispute with the thirdlargest US President Joe Biden will meet 10 moderate Republican senators on Monday to discuss their proposal to shrink his sweeping 19  Abraar Karan Ranu Dhillon and Devabhaktuni Srikrishna write on why they are advocating that N95 masks or their equivalents  South Africa is preparing a heros welcome Monday for the delivery of its first COVID19 vaccines  1 million doses of the  Federal health officials announced Monday a 230 million deal to expand the use of a nonprescription athome COVID19 test President Joe Biden will on Monday meet with 10 Republican senators who have drawn up a smaller counterproposal to his 19  Hospitalizations for COVID19 have continued to decline statewide but Arizona has remained first in the country for its  Tucked in the shadow of the Tetons the town of Jackson Wy and surrounding Teton County is home to less than 25000  Peter Coffey an advertising copywriter has used cash just once since the Covid19 pandemic started  to buy a used car Ten Republican senators have proposed an alternative to the presidents COVID19 economic relief package totaling 19  OUTSIDE THE BOX              In less than a year the COVID19 pandemic has had a catastrophic effect on humankind The  The pandemicdriven ecommerce surge is expected to drive record sales and profit for Amazon as the company reports its  A 57yearold Mexican man who was being held in federal immigration detention in southwest Georgia has died from  King Pierce Snohomish Thurston and three other counties are able to relax some COVID19 restrictions on businesses  Ten moderate Republican US senators urged President Joe Biden on Sunday to significantly downsize his sweeping 19  Ten Republican senators are slated to meet with Biden at Monday at 5 pm after requesting the chance to pitch to the  Experts say the improving COVID19 picture in California now is traceable in part to tough measures taken two months ago Federal law requires masks on airplanes ships ferries trains subways buses and more CDC says Latest COVID19 updates Public health agencies were struggling to get shots into arms on Monday as snow blanketed roads and parking lots British centenarian Captain Tom Moore who raised millions of pounds for the health service by walking laps of his garden in  Kelly Dodds partnership with Positive Beverage has ended following comments she made about Covid19The Real Housewives of  New York City public schools that lost students after families moved or pulled out because of the Covid19 pandemic now must  Regions of Western Australia went into a lockdown on Sunday after one person in the area tested positive for the coronavirus A USA TODAY analysis of Census data shows that Americans missed more work than ever before due to child care problems in 2020  A winter storm is forcing New York City to suspend inoculations Pharmaceutical companies promise millions more doses for the  The spread of the virus is slowing in US nursing homes Republican senators who want to scale back aid in the next  A Los Angeles fire chief is offering cash bicycles and cameras in hopes of getting more than 60 of his department \n",
      "----------------------------------------\n"
     ]
    },
    {
     "data": {
      "image/png": "[encoded data removed]",
      "text/plain": [
       "<Figure size 1152x576 with 1 Axes>"
      ]
     },
     "metadata": {
      "needs_background": "light"
     },
     "output_type": "display_data"
    },
    {
     "data": {
      "text/plain": [
       "{'Influenza': 0, 'Travel': 0, 'School': 0, 'Vaccine': 2}"
      ]
     },
     "execution_count": 19,
     "metadata": {},
     "output_type": "execute_result"
    }
   ],
   "source": [
    "words = [\"Influenza\" , \"Travel\" , \"School\" ,\"Vaccine\" ]\n",
    "\n",
    "word_freq_inText(text_list = abstracts, words= words)"
   ]
  },
  {
   "cell_type": "code",
   "execution_count": null,
   "metadata": {},
   "outputs": [],
   "source": []
  },
  {
   "cell_type": "code",
   "execution_count": 20,
   "metadata": {},
   "outputs": [
    {
     "name": "stdout",
     "output_type": "stream",
     "text": [
      "US to roll out 85M athome tests a month Fauci urges Americans to get any vaccine when eligible Latest COVID19 updates US Cuts 231 Million Deal To Provide 15Minute COVID19 AtHome Tests US military comes to the aid of hospitals hit hard by COVID19 New diabetes cases linked to covid19 Third stimulus check updates Biden to meet today with Republican senators who want smaller COVID19 relief plan Covid19 Vaccines Leave Pregnant Women in a Quandary Oxford researchers didnt tell COVID19 vaccine trial volunteers of a dosing mistake when it was discovered a letter reveals US Invests 232 Million to Produce More AtHome Covid19 Tests Indiana opens COVID19 vaccine eligibility to those 6569 Shoppers face shortages of cars shirts and smart speakers amid COVID19 shipping delays As pandemic worsens Portugal reports nearly half of all its COVID19 deaths in January Nigerias Commercial Hub Begins Clinical Trial of AntiParasitic Ivermectin For Covid19 CDC says new US COVID19 cases are down but 3 variants cause concern The Black Tax of COVID19 Amid Pandemic Black Doctors Carry Double Load Florida covid vaccine rollout They care for Floridas elderly but home health care workers are struggling to get Covid19 vaccines Watch Live Federal public health officials discuss COVID19 response Captain Tom Moore 100yearold veteran who raised millions for coronavirus relief has COVID19 9 of Cuomos top health officials leave amid COVID19 vaccine rollout disagreements With pandemic worsening Portugal reports nearly half of all COVID19 deaths in January White House COVID19 Response Team Briefing Where are the new COVID19 variants This map will tell you which strains are in your state Vaccine not cause of death in man who had COVID19 shot officials say USWNTs Morgan reports for NWSL preseason after recovering from COVID19 Chicago teachers face work stoppage in COVID19 safety plan dispute Biden to Meet Republicans on COVID19 Plan in Test of Bipartisan Approach Opinion America needs better masks to fight Covid19 South Africa to welcome first delivery of COVID19 vaccines US to roll out 85M athome tests a month Fauci urges Americans to get any vaccine when eligible Latest COVID19 updates Joe Biden faces presidencydefining dilemma over Republican offer on Covid19 rescue plan Ariz reports lower number of new COVID19 cases but remains first nationwide for weekly case rate What Americas Richest Ski Towns Handling of COVID19 Says About the Country US consumers shunning cash during COVID19 pandemic Biden to meet with 10 GOP senators on COVID19 relief proposal How the COVID19 pandemic can be the push forward that the planet needs Amazon earnings preview Record holiday quarter expected but COVID19 expenses may curb profits Immigration detainee with COVID19 dies in Georgia hospital Phase 2 of COVID19 reopening plan begins in Puget Sound area Heres what you can and cant do Republicans press Biden to scale back 19 trillion COVID19 relief plan Bidens 1st 100 days live updates Biden to meet with GOP senators on COVID19 relief Californias outdoor dining ban was controversial Did it help slow the COVID19 surge Freezer failure leads to middleofthenight vaccination rush CDC mandates masks on public transit Latest COVID19 updates Northeast blizzard complicates Covid19 vaccination efforts Britains centenarian fundraiser Captain Tom in hospital with COVID19 Kelly Dodd of RHOC reacts to Positive Beverage letting her go following Covid19 comments NYC seeks refunds for students whose family moved pulled out because of COVID19 WSJ One positive COVID19 case drives 2M Australians into lockdown Northeast snowstorm closes vaccination sites in 7 states CDC transportation mask mandate starts Monday night Latest COVID19 updates Covid19 Live Updates US Vaccinations Gather Speed as Threat of Variants Grows Covid19 Snowstorm Disrupts Vaccinations Across Northeast Covid19 Vaccines Dont Appeal to Some Firefighters Even With Prizes\n",
      "----------------------------------------\n"
     ]
    },
    {
     "data": {
      "image/png": "[encoded data removed]",
      "text/plain": [
       "<Figure size 1152x576 with 1 Axes>"
      ]
     },
     "metadata": {
      "needs_background": "light"
     },
     "output_type": "display_data"
    },
    {
     "data": {
      "text/plain": [
       "{'Covid19': 50,\n",
       " 'Vaccine': 7,\n",
       " 'pandemic': 5,\n",
       " 'lockdown': 1,\n",
       " 'Biden': 6,\n",
       " 'health': 3}"
      ]
     },
     "execution_count": 20,
     "metadata": {},
     "output_type": "execute_result"
    }
   ],
   "source": [
    "words = [\"Covid19\",\"Vaccine\",\"pandemic\", \"lockdown\", \"Biden\" , \"health\"]\n",
    "\n",
    "word_freq_inText(text_list = titles, words= words)"
   ]
  },
  {
   "cell_type": "code",
   "execution_count": null,
   "metadata": {},
   "outputs": [],
   "source": []
  }
 ],
 "metadata": {
  "kernelspec": {
   "display_name": "Python 3",
   "language": "python",
   "name": "python3"
  },
  "language_info": {
   "codemirror_mode": {
    "name": "ipython",
    "version": 3
   },
   "file_extension": ".py",
   "mimetype": "text/x-python",
   "name": "python",
   "nbconvert_exporter": "python",
   "pygments_lexer": "ipython3",
   "version": "3.7.6"
  }
 },
 "nbformat": 4,
 "nbformat_minor": 4
}
